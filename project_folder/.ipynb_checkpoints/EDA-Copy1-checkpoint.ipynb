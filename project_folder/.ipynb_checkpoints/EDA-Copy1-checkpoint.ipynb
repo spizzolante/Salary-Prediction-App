{
 "cells": [
  {
   "cell_type": "code",
   "execution_count": 1,
   "id": "0c483173",
   "metadata": {},
   "outputs": [],
   "source": [
    "import pandas as pd\n",
    "import seaborn as sns\n",
    "import matplotlib.pyplot as plt\n",
    "import numpy as np\n",
    "from scipy.stats.contingency import association\n",
    "from scipy.stats import chi2_contingency\n",
    "from sklearn.model_selection import train_test_split\n",
    "import plotly.express as px\n",
    "\n",
    "%matplotlib inline"
   ]
  },
  {
   "cell_type": "code",
   "execution_count": 6,
   "id": "25b6cfd0",
   "metadata": {},
   "outputs": [],
   "source": [
    "file_path = \"../data/raw/ds_salaries.csv\""
   ]
  },
  {
   "cell_type": "code",
   "execution_count": 7,
   "id": "b6325e92",
   "metadata": {},
   "outputs": [],
   "source": [
    "#df1 = pd.read_csv(file_path + \"ds_salaries.csv\")\n",
    "#df2 = pd.read_csv(\"../ds_salaries_2022.csv\", index_col=0)"
   ]
  },
  {
   "cell_type": "code",
   "execution_count": 11,
   "id": "490025c1",
   "metadata": {},
   "outputs": [
    {
     "name": "stdout",
     "output_type": "stream",
     "text": [
      "/Users/sergiopizzolante/Desktop/Ironhack/FinalProject/project_folder\r\n"
     ]
    }
   ],
   "source": [
    "!pwd"
   ]
  },
  {
   "cell_type": "code",
   "execution_count": 8,
   "id": "421013ca",
   "metadata": {},
   "outputs": [
    {
     "ename": "FileNotFoundError",
     "evalue": "[Errno 2] No such file or directory: '../data/raw/ds_salaries.csv'",
     "output_type": "error",
     "traceback": [
      "\u001b[0;31m---------------------------------------------------------------------------\u001b[0m",
      "\u001b[0;31mFileNotFoundError\u001b[0m                         Traceback (most recent call last)",
      "Cell \u001b[0;32mIn[8], line 1\u001b[0m\n\u001b[0;32m----> 1\u001b[0m df_pls \u001b[38;5;241m=\u001b[39m pd\u001b[38;5;241m.\u001b[39mread_csv(file_path)\n",
      "File \u001b[0;32m~/anaconda3/lib/python3.11/site-packages/pandas/io/parsers/readers.py:912\u001b[0m, in \u001b[0;36mread_csv\u001b[0;34m(filepath_or_buffer, sep, delimiter, header, names, index_col, usecols, dtype, engine, converters, true_values, false_values, skipinitialspace, skiprows, skipfooter, nrows, na_values, keep_default_na, na_filter, verbose, skip_blank_lines, parse_dates, infer_datetime_format, keep_date_col, date_parser, date_format, dayfirst, cache_dates, iterator, chunksize, compression, thousands, decimal, lineterminator, quotechar, quoting, doublequote, escapechar, comment, encoding, encoding_errors, dialect, on_bad_lines, delim_whitespace, low_memory, memory_map, float_precision, storage_options, dtype_backend)\u001b[0m\n\u001b[1;32m    899\u001b[0m kwds_defaults \u001b[38;5;241m=\u001b[39m _refine_defaults_read(\n\u001b[1;32m    900\u001b[0m     dialect,\n\u001b[1;32m    901\u001b[0m     delimiter,\n\u001b[0;32m   (...)\u001b[0m\n\u001b[1;32m    908\u001b[0m     dtype_backend\u001b[38;5;241m=\u001b[39mdtype_backend,\n\u001b[1;32m    909\u001b[0m )\n\u001b[1;32m    910\u001b[0m kwds\u001b[38;5;241m.\u001b[39mupdate(kwds_defaults)\n\u001b[0;32m--> 912\u001b[0m \u001b[38;5;28;01mreturn\u001b[39;00m _read(filepath_or_buffer, kwds)\n",
      "File \u001b[0;32m~/anaconda3/lib/python3.11/site-packages/pandas/io/parsers/readers.py:577\u001b[0m, in \u001b[0;36m_read\u001b[0;34m(filepath_or_buffer, kwds)\u001b[0m\n\u001b[1;32m    574\u001b[0m _validate_names(kwds\u001b[38;5;241m.\u001b[39mget(\u001b[38;5;124m\"\u001b[39m\u001b[38;5;124mnames\u001b[39m\u001b[38;5;124m\"\u001b[39m, \u001b[38;5;28;01mNone\u001b[39;00m))\n\u001b[1;32m    576\u001b[0m \u001b[38;5;66;03m# Create the parser.\u001b[39;00m\n\u001b[0;32m--> 577\u001b[0m parser \u001b[38;5;241m=\u001b[39m TextFileReader(filepath_or_buffer, \u001b[38;5;241m*\u001b[39m\u001b[38;5;241m*\u001b[39mkwds)\n\u001b[1;32m    579\u001b[0m \u001b[38;5;28;01mif\u001b[39;00m chunksize \u001b[38;5;129;01mor\u001b[39;00m iterator:\n\u001b[1;32m    580\u001b[0m     \u001b[38;5;28;01mreturn\u001b[39;00m parser\n",
      "File \u001b[0;32m~/anaconda3/lib/python3.11/site-packages/pandas/io/parsers/readers.py:1407\u001b[0m, in \u001b[0;36mTextFileReader.__init__\u001b[0;34m(self, f, engine, **kwds)\u001b[0m\n\u001b[1;32m   1404\u001b[0m     \u001b[38;5;28mself\u001b[39m\u001b[38;5;241m.\u001b[39moptions[\u001b[38;5;124m\"\u001b[39m\u001b[38;5;124mhas_index_names\u001b[39m\u001b[38;5;124m\"\u001b[39m] \u001b[38;5;241m=\u001b[39m kwds[\u001b[38;5;124m\"\u001b[39m\u001b[38;5;124mhas_index_names\u001b[39m\u001b[38;5;124m\"\u001b[39m]\n\u001b[1;32m   1406\u001b[0m \u001b[38;5;28mself\u001b[39m\u001b[38;5;241m.\u001b[39mhandles: IOHandles \u001b[38;5;241m|\u001b[39m \u001b[38;5;28;01mNone\u001b[39;00m \u001b[38;5;241m=\u001b[39m \u001b[38;5;28;01mNone\u001b[39;00m\n\u001b[0;32m-> 1407\u001b[0m \u001b[38;5;28mself\u001b[39m\u001b[38;5;241m.\u001b[39m_engine \u001b[38;5;241m=\u001b[39m \u001b[38;5;28mself\u001b[39m\u001b[38;5;241m.\u001b[39m_make_engine(f, \u001b[38;5;28mself\u001b[39m\u001b[38;5;241m.\u001b[39mengine)\n",
      "File \u001b[0;32m~/anaconda3/lib/python3.11/site-packages/pandas/io/parsers/readers.py:1661\u001b[0m, in \u001b[0;36mTextFileReader._make_engine\u001b[0;34m(self, f, engine)\u001b[0m\n\u001b[1;32m   1659\u001b[0m     \u001b[38;5;28;01mif\u001b[39;00m \u001b[38;5;124m\"\u001b[39m\u001b[38;5;124mb\u001b[39m\u001b[38;5;124m\"\u001b[39m \u001b[38;5;129;01mnot\u001b[39;00m \u001b[38;5;129;01min\u001b[39;00m mode:\n\u001b[1;32m   1660\u001b[0m         mode \u001b[38;5;241m+\u001b[39m\u001b[38;5;241m=\u001b[39m \u001b[38;5;124m\"\u001b[39m\u001b[38;5;124mb\u001b[39m\u001b[38;5;124m\"\u001b[39m\n\u001b[0;32m-> 1661\u001b[0m \u001b[38;5;28mself\u001b[39m\u001b[38;5;241m.\u001b[39mhandles \u001b[38;5;241m=\u001b[39m get_handle(\n\u001b[1;32m   1662\u001b[0m     f,\n\u001b[1;32m   1663\u001b[0m     mode,\n\u001b[1;32m   1664\u001b[0m     encoding\u001b[38;5;241m=\u001b[39m\u001b[38;5;28mself\u001b[39m\u001b[38;5;241m.\u001b[39moptions\u001b[38;5;241m.\u001b[39mget(\u001b[38;5;124m\"\u001b[39m\u001b[38;5;124mencoding\u001b[39m\u001b[38;5;124m\"\u001b[39m, \u001b[38;5;28;01mNone\u001b[39;00m),\n\u001b[1;32m   1665\u001b[0m     compression\u001b[38;5;241m=\u001b[39m\u001b[38;5;28mself\u001b[39m\u001b[38;5;241m.\u001b[39moptions\u001b[38;5;241m.\u001b[39mget(\u001b[38;5;124m\"\u001b[39m\u001b[38;5;124mcompression\u001b[39m\u001b[38;5;124m\"\u001b[39m, \u001b[38;5;28;01mNone\u001b[39;00m),\n\u001b[1;32m   1666\u001b[0m     memory_map\u001b[38;5;241m=\u001b[39m\u001b[38;5;28mself\u001b[39m\u001b[38;5;241m.\u001b[39moptions\u001b[38;5;241m.\u001b[39mget(\u001b[38;5;124m\"\u001b[39m\u001b[38;5;124mmemory_map\u001b[39m\u001b[38;5;124m\"\u001b[39m, \u001b[38;5;28;01mFalse\u001b[39;00m),\n\u001b[1;32m   1667\u001b[0m     is_text\u001b[38;5;241m=\u001b[39mis_text,\n\u001b[1;32m   1668\u001b[0m     errors\u001b[38;5;241m=\u001b[39m\u001b[38;5;28mself\u001b[39m\u001b[38;5;241m.\u001b[39moptions\u001b[38;5;241m.\u001b[39mget(\u001b[38;5;124m\"\u001b[39m\u001b[38;5;124mencoding_errors\u001b[39m\u001b[38;5;124m\"\u001b[39m, \u001b[38;5;124m\"\u001b[39m\u001b[38;5;124mstrict\u001b[39m\u001b[38;5;124m\"\u001b[39m),\n\u001b[1;32m   1669\u001b[0m     storage_options\u001b[38;5;241m=\u001b[39m\u001b[38;5;28mself\u001b[39m\u001b[38;5;241m.\u001b[39moptions\u001b[38;5;241m.\u001b[39mget(\u001b[38;5;124m\"\u001b[39m\u001b[38;5;124mstorage_options\u001b[39m\u001b[38;5;124m\"\u001b[39m, \u001b[38;5;28;01mNone\u001b[39;00m),\n\u001b[1;32m   1670\u001b[0m )\n\u001b[1;32m   1671\u001b[0m \u001b[38;5;28;01massert\u001b[39;00m \u001b[38;5;28mself\u001b[39m\u001b[38;5;241m.\u001b[39mhandles \u001b[38;5;129;01mis\u001b[39;00m \u001b[38;5;129;01mnot\u001b[39;00m \u001b[38;5;28;01mNone\u001b[39;00m\n\u001b[1;32m   1672\u001b[0m f \u001b[38;5;241m=\u001b[39m \u001b[38;5;28mself\u001b[39m\u001b[38;5;241m.\u001b[39mhandles\u001b[38;5;241m.\u001b[39mhandle\n",
      "File \u001b[0;32m~/anaconda3/lib/python3.11/site-packages/pandas/io/common.py:859\u001b[0m, in \u001b[0;36mget_handle\u001b[0;34m(path_or_buf, mode, encoding, compression, memory_map, is_text, errors, storage_options)\u001b[0m\n\u001b[1;32m    854\u001b[0m \u001b[38;5;28;01melif\u001b[39;00m \u001b[38;5;28misinstance\u001b[39m(handle, \u001b[38;5;28mstr\u001b[39m):\n\u001b[1;32m    855\u001b[0m     \u001b[38;5;66;03m# Check whether the filename is to be opened in binary mode.\u001b[39;00m\n\u001b[1;32m    856\u001b[0m     \u001b[38;5;66;03m# Binary mode does not support 'encoding' and 'newline'.\u001b[39;00m\n\u001b[1;32m    857\u001b[0m     \u001b[38;5;28;01mif\u001b[39;00m ioargs\u001b[38;5;241m.\u001b[39mencoding \u001b[38;5;129;01mand\u001b[39;00m \u001b[38;5;124m\"\u001b[39m\u001b[38;5;124mb\u001b[39m\u001b[38;5;124m\"\u001b[39m \u001b[38;5;129;01mnot\u001b[39;00m \u001b[38;5;129;01min\u001b[39;00m ioargs\u001b[38;5;241m.\u001b[39mmode:\n\u001b[1;32m    858\u001b[0m         \u001b[38;5;66;03m# Encoding\u001b[39;00m\n\u001b[0;32m--> 859\u001b[0m         handle \u001b[38;5;241m=\u001b[39m \u001b[38;5;28mopen\u001b[39m(\n\u001b[1;32m    860\u001b[0m             handle,\n\u001b[1;32m    861\u001b[0m             ioargs\u001b[38;5;241m.\u001b[39mmode,\n\u001b[1;32m    862\u001b[0m             encoding\u001b[38;5;241m=\u001b[39mioargs\u001b[38;5;241m.\u001b[39mencoding,\n\u001b[1;32m    863\u001b[0m             errors\u001b[38;5;241m=\u001b[39merrors,\n\u001b[1;32m    864\u001b[0m             newline\u001b[38;5;241m=\u001b[39m\u001b[38;5;124m\"\u001b[39m\u001b[38;5;124m\"\u001b[39m,\n\u001b[1;32m    865\u001b[0m         )\n\u001b[1;32m    866\u001b[0m     \u001b[38;5;28;01melse\u001b[39;00m:\n\u001b[1;32m    867\u001b[0m         \u001b[38;5;66;03m# Binary mode\u001b[39;00m\n\u001b[1;32m    868\u001b[0m         handle \u001b[38;5;241m=\u001b[39m \u001b[38;5;28mopen\u001b[39m(handle, ioargs\u001b[38;5;241m.\u001b[39mmode)\n",
      "\u001b[0;31mFileNotFoundError\u001b[0m: [Errno 2] No such file or directory: '../data/raw/ds_salaries.csv'"
     ]
    }
   ],
   "source": [
    "df_pls = pd.read_csv(file_path)"
   ]
  },
  {
   "cell_type": "code",
   "execution_count": null,
   "id": "f7d1f5b5",
   "metadata": {},
   "outputs": [],
   "source": [
    "df1.shape"
   ]
  },
  {
   "cell_type": "code",
   "execution_count": null,
   "id": "0196a746",
   "metadata": {},
   "outputs": [],
   "source": [
    "df2.shape"
   ]
  },
  {
   "cell_type": "code",
   "execution_count": null,
   "id": "ffeb8b64",
   "metadata": {},
   "outputs": [],
   "source": [
    "df = pd.concat([df1, df2], ignore_index=True)"
   ]
  },
  {
   "cell_type": "code",
   "execution_count": null,
   "id": "4e8f89db",
   "metadata": {},
   "outputs": [],
   "source": [
    "#df.head()"
   ]
  },
  {
   "cell_type": "code",
   "execution_count": null,
   "id": "57d4d100",
   "metadata": {},
   "outputs": [],
   "source": [
    "df.isna().sum()"
   ]
  },
  {
   "cell_type": "code",
   "execution_count": null,
   "id": "6658e2eb",
   "metadata": {},
   "outputs": [],
   "source": [
    "df1.duplicated().sum()"
   ]
  },
  {
   "cell_type": "code",
   "execution_count": null,
   "id": "1f050ac1",
   "metadata": {},
   "outputs": [],
   "source": [
    "df2.duplicated().sum()"
   ]
  },
  {
   "cell_type": "code",
   "execution_count": null,
   "id": "c37725e6",
   "metadata": {},
   "outputs": [],
   "source": [
    "df.describe()"
   ]
  },
  {
   "cell_type": "code",
   "execution_count": null,
   "id": "aff6c987",
   "metadata": {},
   "outputs": [],
   "source": [
    "duplicate_rows = df[df.duplicated()]\n",
    "duplicate_rows.head(10)\n",
    "#print(len(duplicate_rows))"
   ]
  },
  {
   "cell_type": "code",
   "execution_count": null,
   "id": "0116055b",
   "metadata": {},
   "outputs": [],
   "source": [
    "#df_no_dup = df.drop_duplicates(keep='last')"
   ]
  },
  {
   "cell_type": "code",
   "execution_count": null,
   "id": "22d07f7e",
   "metadata": {},
   "outputs": [],
   "source": [
    "#df_no_dup.shape"
   ]
  },
  {
   "cell_type": "code",
   "execution_count": null,
   "id": "402cded5",
   "metadata": {},
   "outputs": [],
   "source": [
    "df['work_year'].value_counts()"
   ]
  },
  {
   "cell_type": "code",
   "execution_count": null,
   "id": "aedac0cf",
   "metadata": {},
   "outputs": [],
   "source": [
    "sns.histplot(df['experience_level'], bins=4, kde=False)\n",
    "plt.title('Experience Level Distribution')\n",
    "plt.xlabel('Experience Level')\n",
    "plt.ylabel('Frequency')\n",
    "plt.show()"
   ]
  },
  {
   "cell_type": "code",
   "execution_count": null,
   "id": "8759a349",
   "metadata": {},
   "outputs": [],
   "source": [
    "sns.histplot(df['company_size'], bins=3, kde=False)\n",
    "plt.title('Company Size Distribution')\n",
    "plt.xlabel('Company Size')\n",
    "plt.ylabel('Frequency')\n",
    "plt.show()"
   ]
  },
  {
   "cell_type": "code",
   "execution_count": null,
   "id": "b6b12817",
   "metadata": {},
   "outputs": [],
   "source": [
    "sns.histplot(df['employment_type'], bins=4, kde=False)\n",
    "plt.title('Employment Type Distribution')\n",
    "plt.xlabel('Employment Type')\n",
    "plt.ylabel('Frequency')\n",
    "plt.show()"
   ]
  },
  {
   "cell_type": "code",
   "execution_count": null,
   "id": "a203ac97",
   "metadata": {},
   "outputs": [],
   "source": [
    "df['company_location'].value_counts()"
   ]
  },
  {
   "cell_type": "code",
   "execution_count": null,
   "id": "82bba23a",
   "metadata": {},
   "outputs": [],
   "source": [
    "df = df[df['employment_type'] == 'FT']"
   ]
  },
  {
   "cell_type": "code",
   "execution_count": null,
   "id": "0f5fd08f",
   "metadata": {},
   "outputs": [],
   "source": [
    "america_df = df[df['company_location'] == 'US']"
   ]
  },
  {
   "cell_type": "code",
   "execution_count": null,
   "id": "259ed3d6",
   "metadata": {},
   "outputs": [],
   "source": [
    "sns.histplot(df['employment_type'], bins=4, kde=False)\n",
    "plt.title('Employment Type Distribution')\n",
    "plt.xlabel('Employment Type')\n",
    "plt.ylabel('Frequency')\n",
    "plt.show()"
   ]
  },
  {
   "cell_type": "code",
   "execution_count": null,
   "id": "9144a4ee",
   "metadata": {},
   "outputs": [],
   "source": [
    "sns.histplot(df['company_location'].head(), bins=4, kde=False)\n",
    "plt.title('Company Location Distribution')\n",
    "plt.xlabel('Company Location')\n",
    "plt.ylabel('Frequency')\n",
    "plt.show()"
   ]
  },
  {
   "cell_type": "code",
   "execution_count": null,
   "id": "6a5c73fa",
   "metadata": {},
   "outputs": [],
   "source": [
    "df.drop(columns=['employment_type'], inplace=True)"
   ]
  },
  {
   "cell_type": "code",
   "execution_count": null,
   "id": "41367f71",
   "metadata": {},
   "outputs": [],
   "source": [
    "sns.boxplot(x='salary_in_usd', data=df)\n",
    "plt.title('Salary in USD distribution')\n",
    "plt.xlabel('Salary in USD')\n",
    "plt.show() "
   ]
  },
  {
   "cell_type": "code",
   "execution_count": null,
   "id": "4d1a011b",
   "metadata": {},
   "outputs": [],
   "source": [
    "sns.boxplot(x='work_year', y='salary_in_usd', data=df)\n",
    "plt.title('Salary in USD distribution by Work Year')\n",
    "plt.xlabel('Work Year')\n",
    "plt.ylabel('Salary in USD')\n",
    "plt.show()"
   ]
  },
  {
   "cell_type": "code",
   "execution_count": null,
   "id": "dba5b1b3",
   "metadata": {},
   "outputs": [],
   "source": [
    "df['job_title'].unique()"
   ]
  },
  {
   "cell_type": "code",
   "execution_count": null,
   "id": "dd1de6b9",
   "metadata": {},
   "outputs": [],
   "source": [
    "job_categories = {\n",
    "    \"Principal Data Scientist\": \"Data Science & Machine Learning\",\n",
    "    \"ML Engineer\": \"Data Science & Machine Learning\",\n",
    "    \"Data Scientist\": \"Data Science & Machine Learning\",\n",
    "    \"Applied Scientist\": \"Data Science & Machine Learning\",\n",
    "    \"Research Scientist\": \"Data Science & Machine Learning\",\n",
    "    \"Applied Machine Learning Engineer\": \"Data Science & Machine Learning\",\n",
    "    \"Machine Learning Researcher\": \"Data Science & Machine Learning\",\n",
    "    \"Machine Learning Scientist\": \"Data Science & Machine Learning\",\n",
    "    \"Applied Machine Learning Scientist\": \"Data Science & Machine Learning\",\n",
    "    \"Deep Learning Researcher\": \"Data Science & Machine Learning\",\n",
    "    \"Machine Learning Infrastructure Engineer\": \"Data Science & Machine Learning\",\n",
    "    \"NLP Engineer\": \"Data Science & Machine Learning\",\n",
    "    \"Machine Learning Research Engineer\": \"Data Science & Machine Learning\",\n",
    "    \"Principal Machine Learning Engineer\": \"Data Science & Machine Learning\",\n",
    "    \"Machine Learning Manager\": \"Data Science & Machine Learning\",\n",
    "    \"Lead Machine Learning Engineer\": \"Data Science & Machine Learning\",\n",
    "    \"Machine Learning Developer\": \"Data Science & Machine Learning\",\n",
    "    \"Data Analyst\": \"Data Analysis & Analytics\",\n",
    "    \"Analytics Engineer\": \"Data Analysis & Analytics\",\n",
    "    \"Data Analytics Manager\": \"Data Analysis & Analytics\",\n",
    "    \"Business Data Analyst\": \"Data Analysis & Analytics\",\n",
    "    \"Staff Data Analyst\": \"Data Analysis & Analytics\",\n",
    "    \"Lead Data Analyst\": \"Data Analysis & Analytics\",\n",
    "    \"BI Data Analyst\": \"Data Analysis & Analytics\",\n",
    "    \"Insight Analyst\": \"Data Analysis & Analytics\",\n",
    "    \"BI Analyst\": \"Data Analysis & Analytics\",\n",
    "    \"Data Analytics Specialist\": \"Data Analysis & Analytics\",\n",
    "    \"Data Analytics Lead\": \"Data Analysis & Analytics\",\n",
    "    \"Product Data Analyst\": \"Data Analysis & Analytics\",\n",
    "    \"Marketing Data Analyst\": \"Data Analysis & Analytics\",\n",
    "    \"Finance Data Analyst\": \"Data Analysis & Analytics\",\n",
    "    \"Data Modeler\": \"Data Engineering & Infrastructure\",\n",
    "    \"Data Engineer\": \"Data Engineering & Infrastructure\",\n",
    "    \"ETL Engineer\": \"Data Engineering & Infrastructure\",\n",
    "    \"Data DevOps Engineer\": \"Data Engineering & Infrastructure\",\n",
    "    \"Big Data Engineer\": \"Data Engineering & Infrastructure\",\n",
    "    \"Cloud Database Engineer\": \"Data Engineering & Infrastructure\",\n",
    "    \"Data Infrastructure Engineer\": \"Data Engineering & Infrastructure\",\n",
    "    \"Software Data Engineer\": \"Data Engineering & Infrastructure\",\n",
    "    \"Data Operations Engineer\": \"Data Engineering & Infrastructure\",\n",
    "    \"Cloud Data Engineer\": \"Data Engineering & Infrastructure\",\n",
    "    \"ETL Developer\": \"Data Engineering & Infrastructure\",\n",
    "    \"Cloud Data Architect\": \"Data Engineering & Infrastructure\",\n",
    "    \"Lead Data Engineer\": \"Data Engineering & Infrastructure\",\n",
    "    \"Principal Data Engineer\": \"Data Engineering & Infrastructure\",\n",
    "    \"Staff Data Scientist\": \"Data Engineering & Infrastructure\",\n",
    "    \"Business Intelligence Engineer\": \"Business Intelligence (BI)\",\n",
    "    \"BI Data Engineer\": \"Business Intelligence (BI)\",\n",
    "    \"BI Developer\": \"Business Intelligence (BI)\",\n",
    "    \"Head of Data Science\": \"Business Intelligence (BI)\",\n",
    "    \"BI Data Analyst\": \"Business Intelligence (BI)\",\n",
    "    \"Power BI Developer\": \"Business Intelligence (BI)\",\n",
    "    \"Data Strategist\": \"Data Management\",\n",
    "    \"Director of Data Science\": \"Data Management\",\n",
    "    \"Head of Data\": \"Data Management\",\n",
    "    \"Data Science Manager\": \"Data Management\",\n",
    "    \"Data Manager\": \"Data Management\",\n",
    "    \"Manager Data Management\": \"Data Management\",\n",
    "    \"Data Management Specialist\": \"Data Management\",\n",
    "    \"MLOps Engineer\": \"Artificial Intelligence (AI)\",\n",
    "    \"Computer Vision Engineer\": \"Artificial Intelligence (AI)\",\n",
    "    \"Computer Vision Software Engineer\": \"Artificial Intelligence (AI)\",\n",
    "    \"3D Computer Vision Researcher\": \"Artificial Intelligence (AI)\",\n",
    "    \"AI Developer\": \"Artificial Intelligence (AI)\",\n",
    "    \"AI Scientist\": \"Artificial Intelligence (AI)\",\n",
    "    \"Head of Machine Learning\": \"Artificial Intelligence (AI)\",\n",
    "    \"AI Programmer\": \"Artificial Intelligence (AI)\",\n",
    "    \"Data Quality Analyst\": \"Data Management\",\n",
    "    \"Compliance Data Analyst\": \"Data Management\",\n",
    "    \"Autonomous Vehicle Technician\": \"Data Management\",  # Assumed mapping due to similarity\n",
    "    \"Applied Machine Learning Scientist\": \"Data Science & Machine Learning\",  # Assumed mapping\n",
    "    \"Lead Data Scientist\": \"Data Science & Machine Learning\",  # Assumed mapping\n",
    "    \"Data Architect\": \"Data Engineering & Infrastructure\",  # Assumed mapping\n",
    "    \"Finance Data Analyst\": \"Data Analysis & Analytics\",  # Duplicate mapping\n",
    "    \"Data Lead\": \"Data Management\",  # Assumed mapping\n",
    "    \"Data Science Engineer\": \"Data Engineering & Infrastructure\",  # Assumed mapping\n",
    "    \"Data Science Lead\": \"Data Science & Machine Learning\",  # Assumed mapping\n",
    "    \"Deep Learning Engineer\": \"Data Science & Machine Learning\",  # Assumed mapping\n",
    "    \"Machine Learning Software Engineer\": \"Data Science & Machine Learning\",  # Assumed mapping\n",
    "    \"Big Data Architect\": \"Data Engineering & Infrastructure\",  # Assumed mapping\n",
    "    \"Cloud Database Engineer\": \"Data Engineering & Infrastructure\",  # Duplicate mapping\n",
    "    \"Data Analytics Engineer\": \"Data Analysis & Analytics\",  # Assumed mapping\n",
    "    \"Data Management Specialist\": \"Data Management\",  # Duplicate mapping\n",
    "    \"Data Scientist Lead\": \"Data Science & Machine Learning\",  # Assumed mapping\n",
    "    \"Cloud Data Engineer\": \"Data Engineering & Infrastructure\",  # Duplicate mapping\n",
    "    \"Data Operations Analyst\": \"Data Engineering & Infrastructure\",  # Assumed mapping\n",
    "    \"Marketing Data Analyst\": \"Data Analysis & Analytics\",  # Duplicate mapping\n",
    "    \"Power BI Developer\": \"Business Intelligence (BI)\",  # Duplicate mapping\n",
    "    \"Product Data Scientist\": \"Data Management\",  # Duplicate mapping\n",
    "    \"Financial Data Analyst\": \"Data Analysis & Analytics\",  # Assumed mapping\n",
    "    \"Data Science Consultant\": \"Data Management\",  # Assumed mapping\n",
    "    \"AI Developer\": \"Artificial Intelligence (AI)\",  # Duplicate mapping\n",
    "    \"Data Analytics Specialist\": \"Data Analysis & Analytics\",  # Duplicate mapping\n",
    "    \"Business Data Analyst\": \"Data Analysis & Analytics\",  # Duplicate mapping\n",
    "    \"Lead Data Engineer\": \"Data Engineering & Infrastructure\",  # Duplicate mapping\n",
    "    \"BI Data Engineer\": \"Business Intelligence (BI)\",  # Duplicate mapping\n",
    "    \"Data Engineer\": \"Data Engineering & Infrastructure\",  # Duplicate mapping\n",
    "    \"BI Developer\": \"Business Intelligence (BI)\",  # Duplicate mapping\n",
    "    \"Data Science Tech Lead\": \"Data Science & Machine Learning\",  # Assumed mapping\n",
    "    \"Data Operations Engineer\": \"Data Engineering & Infrastructure\",  # Duplicate mapping\n",
    "    \"BI Analyst\": \"Data Analysis & Analytics\",  # Duplicate mapping\n",
    "    \"Data Science Consultant\": \"Data Science & Machine Learning\",  # Assumed mapping\n",
    "    \"Data Science Lead\": \"Data Science & Machine Learning\",  # Duplicate mapping\n",
    "    \"Lead Data Scientist\": \"Data Science & Machine Learning\",  # Duplicate mapping\n",
    "    \"Data Scientist Lead\": \"Data Science & Machine Learning\",  # Duplicate mapping\n",
    "    \"Data Operations Analyst\": \"Data Engineering & Infrastructure\",  # Duplicate mapping\n",
    "    \"Marketing Data Engineer\": \"Data Management\",  # Duplicate mapping\n",
    "    \"AI Programmer\": \"Artificial Intelligence (AI)\",  # Duplicate mapping\n",
    "    \"Computer Vision Software Engineer\": \"Artificial Intelligence (AI)\",  # Duplicate mapping\n",
    "    \"Azure Data Engineer\": \"Data Engineering & Infrastructure\",  # Assumed mapping\n",
    "    \"Principal Data Architect\": \"Data Engineering & Infrastructure\",  # Assumed mapping\n",
    "    \"Data Analytics Consultant\": \"Data Analysis & Analytics\",  # Assumed mapping\n",
    "    \"Data Management Specialist\": \"Data Management\",  # Duplicate mapping\n",
    "    \"Data Scientist\": \"Data Science & Machine Learning\",  # Duplicate mapping\n",
    "    \"Data Manager\": \"Data Management\",  # Assumed mapping\n",
    "    \"Data Engineering Manager\": \"Data Engineering & Infrastructure\", #assumed mapping\n",
    "    'Director of Data Engineering': \"Data Engineering & Infrastructure\", #assumed mapping\n",
    "    \"Software Data Engineer\": \"Data Engineering & Infrastructure\",  # Duplicate mapping\n",
    "    \"Research Engineer\": \"Data Science & Machine Learning\",\n",
    "    \"Machine Learning Engineer\": \"Data Science & Machine Learning\",\n",
    "    \"Applied Data Scientist\": \"Data Science & Machine Learning\",\n",
    "    \"Data Specialist\": \"Data Engineering & Infrastructure\",\n",
    "    \"Principal Data Analyst\": \"Data Analysis & Analytics\"\n",
    "}\n"
   ]
  },
  {
   "cell_type": "code",
   "execution_count": null,
   "id": "f2dd4893",
   "metadata": {},
   "outputs": [],
   "source": [
    "top10_jobs = df['job_title'].value_counts()[:10]\n",
    "# Create a bar plot for the top 10 job titles\n",
    "fig = px.bar(y= top10_jobs.values, x = top10_jobs.index, \n",
    "            text = top10_jobs.values, title = 'Top 10 Jobs Designation')\n",
    "fig.update_layout(xaxis_title = 'Job Designations', yaxis_title= 'Count')\n",
    "fig.show()"
   ]
  },
  {
   "cell_type": "code",
   "execution_count": null,
   "id": "c56f35a1",
   "metadata": {},
   "outputs": [],
   "source": [
    "# Job titles were organized into 10 categories due to redundancies\n",
    "df_mapped_jobs = df.job_title.map(lambda x: job_categories[x])\n",
    "print(df_mapped_jobs.value_counts())\n",
    "df_mapped_jobs.value_counts().plot(kind=\"bar\");"
   ]
  },
  {
   "cell_type": "code",
   "execution_count": null,
   "id": "84ba70ab",
   "metadata": {},
   "outputs": [],
   "source": [
    "sns.boxplot(x=df_mapped_jobs, y='salary_in_usd', data=df)\n",
    "plt.title('Salary in USD distribution by Job Title')\n",
    "plt.xlabel('Job Title')\n",
    "plt.ylabel('Salary in USD')\n",
    "plt.xticks(rotation=45)  \n",
    "#plt.tight_layout() \n",
    "plt.show()"
   ]
  },
  {
   "cell_type": "code",
   "execution_count": null,
   "id": "92d5891d",
   "metadata": {},
   "outputs": [],
   "source": [
    "sns.boxplot(x='work_year', y='salary_in_usd', data=df)\n",
    "plt.title('Salary in USD distribution by Year')\n",
    "plt.xlabel('Year')\n",
    "plt.ylabel('Salary in USD')\n",
    "plt.xticks(rotation=45) \n",
    "plt.tight_layout()  \n",
    "plt.show()"
   ]
  },
  {
   "cell_type": "code",
   "execution_count": null,
   "id": "17b2418d",
   "metadata": {},
   "outputs": [],
   "source": [
    "df.select_dtypes(\"number\").columns"
   ]
  },
  {
   "cell_type": "code",
   "execution_count": null,
   "id": "fa2e2f48",
   "metadata": {},
   "outputs": [],
   "source": [
    "df.select_dtypes(\"number\").nunique().sort_values(ascending=False)"
   ]
  },
  {
   "cell_type": "code",
   "execution_count": null,
   "id": "f075d5e0",
   "metadata": {},
   "outputs": [],
   "source": [
    "df.select_dtypes(\"object\").nunique().sort_values(ascending=False)"
   ]
  },
  {
   "cell_type": "code",
   "execution_count": null,
   "id": "7c3f7345",
   "metadata": {},
   "outputs": [],
   "source": [
    "df['employee_residence'].unique()"
   ]
  },
  {
   "cell_type": "code",
   "execution_count": null,
   "id": "3f4e41a0",
   "metadata": {},
   "outputs": [],
   "source": [
    "country_continent_map = {\n",
    "    'ES': 'Europe',  # Spain -> Europe\n",
    "    'CA': 'North America',  # Canada -> North America\n",
    "    'US': 'North America',  # United States -> North America\n",
    "    'DE': 'Europe',  # Germany -> Europe\n",
    "    'GB': 'Europe',  # United Kingdom -> Europe\n",
    "    'NG': 'Other',  # Nigeria -> Other\n",
    "    'IN': 'Other',  # India -> Other\n",
    "    'HK': 'Other',  # Hong Kong -> Other\n",
    "    'PT': 'Europe',  # Portugal -> Europe\n",
    "    'NL': 'Europe',  # Netherlands -> Europe\n",
    "    'CH': 'Europe',  # Switzerland -> Europe\n",
    "    'CF': 'Other',  # Central African Republic -> Other\n",
    "    'FR': 'Europe',  # France -> Europe\n",
    "    'AU': 'Other',  # Australia -> Other\n",
    "    'FI': 'Europe',  # Finland -> Europe\n",
    "    'IE': 'Europe',  # Ireland -> Europe\n",
    "    'UA': 'Europe',  # Ukraine -> Europe\n",
    "    'IL': 'Other',  # Israel -> Other\n",
    "    'GH': 'Other',  # Ghana -> Other\n",
    "    'AT': 'Europe',  # Austria -> Europe\n",
    "    'CO': 'Other',  # Colombia -> Other\n",
    "    'SG': 'Other',  # Singapore -> Other\n",
    "    'SE': 'Europe',  # Sweden -> Europe\n",
    "    'SI': 'Europe',  # Slovenia -> Europe\n",
    "    'MX': 'North America',  # Mexico -> North America\n",
    "    'BR': 'Other',  # Brazil -> Other\n",
    "    'TH': 'Other',  # Thailand -> Other\n",
    "    'HR': 'Europe',  # Croatia -> Europe\n",
    "    'KW': 'Other',  # Kuwait -> Other\n",
    "    'VN': 'Other',  # Vietnam -> Other\n",
    "    'CY': 'Europe',  # Cyprus -> Europe\n",
    "    'AR': 'Other',  # Argentina -> Other\n",
    "    'AM': 'Other',  # Armenia -> Other\n",
    "    'BA': 'Europe',  # Bosnia and Herzegovina -> Europe\n",
    "    'KE': 'Other',  # Kenya -> Other\n",
    "    'GR': 'Europe',  # Greece -> Europe\n",
    "    'MK': 'Europe',  # North Macedonia -> Europe\n",
    "    'LV': 'Europe',  # Latvia -> Europe\n",
    "    'RO': 'Europe',  # Romania -> Europe\n",
    "    'PK': 'Other',  # Pakistan -> Other\n",
    "    'IT': 'Europe',  # Italy -> Europe\n",
    "    'MA': 'Other',  # Morocco -> Other\n",
    "    'PL': 'Europe',  # Poland -> Europe\n",
    "    'LT': 'Europe',  # Lithuania -> Europe\n",
    "    'AS': 'Other',  # American Samoa -> Other\n",
    "    'HU': 'Europe',  # Hungary -> Europe\n",
    "    'SK': 'Europe',  # Slovakia -> Europe\n",
    "    'CZ': 'Europe',  # Czech Republic -> Europe\n",
    "    'CR': 'North America',  # Costa Rica -> North America\n",
    "    'TR': 'Other',  # Turkey -> Other\n",
    "    'CL': 'Other',  # Chile -> Other\n",
    "    'PR': 'North America',  # Puerto Rico -> North America\n",
    "    'BO': 'Other',  # Bolivia -> Other\n",
    "    'PH': 'Other',  # Philippines -> Other\n",
    "    'BE': 'Europe',  # Belgium -> Europe\n",
    "    'EG': 'Other',  # Egypt -> Other\n",
    "    'ID': 'Other',  # Indonesia -> Other\n",
    "    'AE': 'Other',  # United Arab Emirates -> Other\n",
    "    'MY': 'Other',  # Malaysia -> Other\n",
    "    'JP': 'Other',  # Japan -> Other\n",
    "    'EE': 'Europe',  # Estonia -> Europe\n",
    "    'HN': 'North America',  # Honduras -> North America\n",
    "    'RU': 'Europe',  # Russia -> Europe (Note: Russia spans Europe and Asia)\n",
    "    'IQ': 'Other',  # Iraq -> Other\n",
    "    'BG': 'Europe',  # Bulgaria -> Europe\n",
    "    'JE': 'Europe',  # Jersey -> Europe\n",
    "    'RS': 'Europe',  # Serbia -> Europe\n",
    "    'NZ': 'Other',  # New Zealand -> Other\n",
    "    'DK': 'Europe',  # Denmark -> Europe\n",
    "    'MD': 'Europe',  # Moldova -> Europe\n",
    "    'LU': 'Europe',  # Luxembourg -> Europe\n",
    "    'MT': 'Europe',  # Malta -> Europe\n",
    "    'CN': 'Other',  # China -> Other\n",
    "    'IR': 'Other',  # Iran -> Other\n",
    "    'AL': 'Europe',  # Albania -> Europe\n",
    "    'UZ': 'Other',  # Uzbekistan -> Other\n",
    "}\n"
   ]
  },
  {
   "cell_type": "code",
   "execution_count": null,
   "id": "76c16b03",
   "metadata": {},
   "outputs": [],
   "source": [
    "# Employee Residence were organized into 6 continents due to redundancies\n",
    "df_mapped_e_residence = df.employee_residence.map(lambda x: country_continent_map[x])\n",
    "print(df_mapped_e_residence.value_counts())\n",
    "df_mapped_e_residence.value_counts().plot(kind=\"bar\");"
   ]
  },
  {
   "cell_type": "code",
   "execution_count": null,
   "id": "e6823509",
   "metadata": {},
   "outputs": [],
   "source": [
    "df['company_location'].unique()"
   ]
  },
  {
   "cell_type": "code",
   "execution_count": null,
   "id": "2955c641",
   "metadata": {},
   "outputs": [],
   "source": [
    "# Company location were organized into 6 continents due to redundancies\n",
    "df_mapped_com_location = df.company_location.map(lambda x: country_continent_map[x])\n",
    "print(df_mapped_com_location.value_counts())\n",
    "df_mapped_com_location.value_counts().plot(kind=\"bar\");"
   ]
  },
  {
   "cell_type": "code",
   "execution_count": null,
   "id": "ee09b0b8",
   "metadata": {},
   "outputs": [],
   "source": []
  },
  {
   "cell_type": "code",
   "execution_count": null,
   "id": "08215bda",
   "metadata": {},
   "outputs": [],
   "source": []
  },
  {
   "cell_type": "code",
   "execution_count": null,
   "id": "87c9dcf7",
   "metadata": {},
   "outputs": [],
   "source": [
    "sorted_df = df.sort_values(\"salary_in_usd\")\n",
    "sorted_df.head(50)"
   ]
  },
  {
   "cell_type": "code",
   "execution_count": null,
   "id": "8c436bcd",
   "metadata": {},
   "outputs": [],
   "source": [
    "num_rows_under_12000 = len(df[df['salary_in_usd'] < 12000])\n",
    "print(\"Number of rows with salary under 12000:\", num_rows_under_12000)"
   ]
  },
  {
   "cell_type": "code",
   "execution_count": null,
   "id": "753a60a7",
   "metadata": {},
   "outputs": [],
   "source": [
    "df.shape"
   ]
  },
  {
   "cell_type": "code",
   "execution_count": null,
   "id": "4c8f8eaf",
   "metadata": {},
   "outputs": [],
   "source": [
    "df = df.drop(df[df['salary_in_usd'] < 12000].index)\n",
    "\n",
    "# Resetting the index\n",
    "df = df.reset_index(drop=True)\n",
    "\n",
    "# Printing the first few rows to verify the changes\n",
    "sorted_df = df.sort_values(\"salary_in_usd\")\n",
    "sorted_df.head(50)\n"
   ]
  },
  {
   "cell_type": "code",
   "execution_count": null,
   "id": "a070b113",
   "metadata": {},
   "outputs": [],
   "source": [
    "df_temp1 = df"
   ]
  },
  {
   "cell_type": "code",
   "execution_count": null,
   "id": "e8d17334",
   "metadata": {},
   "outputs": [],
   "source": [
    "columns_to_drop = ['salary', 'salary_currency', ]\n",
    "df_temp1 = df_temp1.drop(columns=columns_to_drop)"
   ]
  },
  {
   "cell_type": "code",
   "execution_count": null,
   "id": "b48e78c7",
   "metadata": {},
   "outputs": [],
   "source": [
    "df_temp1['job_title'] = df_temp1['job_title'].map(job_categories)"
   ]
  },
  {
   "cell_type": "code",
   "execution_count": null,
   "id": "280a4fd4",
   "metadata": {},
   "outputs": [],
   "source": [
    "#display(df_temp1)"
   ]
  },
  {
   "cell_type": "code",
   "execution_count": null,
   "id": "c667630c",
   "metadata": {},
   "outputs": [],
   "source": [
    "df_temp1['employee_residence'] = df_temp1['employee_residence'].map(country_continent_map)"
   ]
  },
  {
   "cell_type": "code",
   "execution_count": null,
   "id": "625d0d1d",
   "metadata": {},
   "outputs": [],
   "source": [
    "df_temp1['company_location'] = df_temp1['company_location'].map(country_continent_map)"
   ]
  },
  {
   "cell_type": "code",
   "execution_count": null,
   "id": "22620ed8",
   "metadata": {},
   "outputs": [],
   "source": [
    "display(df_temp1)"
   ]
  },
  {
   "cell_type": "code",
   "execution_count": null,
   "id": "8e20c8e4",
   "metadata": {},
   "outputs": [],
   "source": [
    "# Separating between discrete and continuous variables, as discrete ones could potentially be treated as categorical.\n",
    "# Remember to adjust the threshold (in this case, < 100) based on your dataset specific characteristics and comain knowledge\n",
    "potential_categorical_from_numerical = df_temp1.select_dtypes(\"number\").loc[:,df_temp1.select_dtypes(\"number\").nunique() < 100]\n",
    "#potential_categorical_from_numerical"
   ]
  },
  {
   "cell_type": "code",
   "execution_count": null,
   "id": "2931b198",
   "metadata": {},
   "outputs": [],
   "source": [
    "# Extracting columns iwth object (typically string) data types to create a categorical df\n",
    "# For demonstration purposes, let's consider the columns in the potential_categorical_from_numerical as categorical variables\n",
    "df_categorical = pd.concat([df_temp1.select_dtypes(\"object\"), potential_categorical_from_numerical], axis = 1)\n",
    "\n",
    "# Adjusting the numerical dataframe by removing the moved columns\n",
    "df_numerical = df_temp1.select_dtypes(\"number\").drop(columns = potential_categorical_from_numerical.columns)"
   ]
  },
  {
   "cell_type": "code",
   "execution_count": null,
   "id": "99630e28",
   "metadata": {},
   "outputs": [],
   "source": [
    "# Verify that the total number of columns in the dataframe is the sum of object and numerical columns\n",
    "len(df.columns) == len(df.select_dtypes(\"object\").columns) + len(df.select_dtypes(\"number\").columns)"
   ]
  },
  {
   "cell_type": "code",
   "execution_count": null,
   "id": "edc07eb4",
   "metadata": {},
   "outputs": [],
   "source": [
    "#df_numerical.nunique().sort_values(ascending = False)"
   ]
  },
  {
   "cell_type": "code",
   "execution_count": null,
   "id": "5f720cdb",
   "metadata": {},
   "outputs": [],
   "source": [
    "df_categorical.nunique().sort_values(ascending = False)"
   ]
  },
  {
   "cell_type": "code",
   "execution_count": null,
   "id": "b290bfc5",
   "metadata": {},
   "outputs": [],
   "source": [
    "# Separating between discrete and continuous variables, as discrete ones could potentially be treated as categorical.\n",
    "# Remember to adjust the threshold (in this case, < 100) based on your dataset specific characteristics and comain knowledge\n",
    "potential_categorical_from_numerical = df_temp1.select_dtypes(\"number\").loc[:,df_temp1.select_dtypes(\"number\").nunique() < 100]\n",
    "#potential_categorical_from_numerical\n",
    "\n",
    "# Extracting columns iwth object (typically string) data types to create a categorical df\n",
    "# For demonstration purposes, let's consider the columns in the potential_categorical_from_numerical as categorical variables\n",
    "df_categorical = pd.concat([df_temp1.select_dtypes(\"object\"), potential_categorical_from_numerical], axis = 1)\n",
    "\n",
    "# Adjusting the numerical dataframe by removing the moved columns\n",
    "df_numerical = df_temp1.select_dtypes(\"number\").drop(columns = potential_categorical_from_numerical.columns)\n",
    "\n",
    "# Verify that the total number of columns in the dataframe is the sum of object and numerical columns\n",
    "len(df.columns) == len(df.select_dtypes(\"object\").columns) + len(df.select_dtypes(\"number\").columns)"
   ]
  },
  {
   "cell_type": "code",
   "execution_count": null,
   "id": "3ce9a8b6",
   "metadata": {},
   "outputs": [],
   "source": [
    "df_temp1.head(10)"
   ]
  },
  {
   "cell_type": "code",
   "execution_count": null,
   "id": "c547be0e",
   "metadata": {},
   "outputs": [],
   "source": [
    "df_categorical.nunique().sort_values(ascending = False)"
   ]
  },
  {
   "cell_type": "code",
   "execution_count": null,
   "id": "04a5e356",
   "metadata": {},
   "outputs": [],
   "source": [
    "df_categorical.dtypes"
   ]
  },
  {
   "cell_type": "code",
   "execution_count": null,
   "id": "cecc9829",
   "metadata": {},
   "outputs": [],
   "source": [
    "def print_unique_values_with_count_sorted(df):\n",
    "    categorical_columns = df.select_dtypes(include=['object', 'category']).columns\n",
    "    \n",
    "    for col in categorical_columns:\n",
    "        value_counts = df[col].value_counts()\n",
    "        sorted_values = value_counts.sort_values(ascending=False).index.tolist()\n",
    "        \n",
    "        print(f\"Unique values for column '{col}' (sorted by count in descending order):\")\n",
    "        for val in sorted_values:\n",
    "            count = value_counts[val]\n",
    "            print(f\" - {val}: {count} occurrences\")\n",
    "        print()"
   ]
  },
  {
   "cell_type": "code",
   "execution_count": null,
   "id": "cfdb9b02",
   "metadata": {},
   "outputs": [],
   "source": [
    "print_unique_values_with_count_sorted(df_categorical)"
   ]
  },
  {
   "cell_type": "code",
   "execution_count": null,
   "id": "d05369fd",
   "metadata": {},
   "outputs": [],
   "source": [
    "#df.remote_ratio"
   ]
  },
  {
   "cell_type": "code",
   "execution_count": null,
   "id": "67452fa1",
   "metadata": {},
   "outputs": [],
   "source": [
    "my_table = pd.crosstab(index = df_categorical['company_size'], columns=\"count\")\n",
    "\n",
    "my_table"
   ]
  },
  {
   "cell_type": "code",
   "execution_count": null,
   "id": "39d4a0ec",
   "metadata": {},
   "outputs": [],
   "source": [
    "# Generating a crosstab for 'company_location' and 'employee_residence'\n",
    "crosstab_result = pd.crosstab(df_temp1['employee_residence'], df_temp1['company_location'])\n",
    "\n",
    "crosstab_result"
   ]
  },
  {
   "cell_type": "code",
   "execution_count": null,
   "id": "87eeb4e5",
   "metadata": {},
   "outputs": [],
   "source": [
    "# Generating a crosstab for 'work_year' and 'company_location'\n",
    "crosstab_result = pd.crosstab(df_temp1['work_year'], df_temp1['company_location'])\n",
    "\n",
    "crosstab_result"
   ]
  },
  {
   "cell_type": "code",
   "execution_count": null,
   "id": "59203b77",
   "metadata": {},
   "outputs": [],
   "source": [
    "# Generating a crosstab for 'company_location' and 'remote_ratio'\n",
    "crosstab_result = pd.crosstab(df_temp1['company_location'], df_temp1['remote_ratio'])\n",
    "\n",
    "crosstab_result"
   ]
  },
  {
   "cell_type": "code",
   "execution_count": null,
   "id": "32569f38",
   "metadata": {},
   "outputs": [],
   "source": [
    "sns.displot(data=df_temp1, x=\"company_size\", kde=True)"
   ]
  },
  {
   "cell_type": "code",
   "execution_count": null,
   "id": "942421e2",
   "metadata": {},
   "outputs": [],
   "source": [
    "sns.histplot(df_temp1['salary_in_usd'], bins=4, kde=True)\n",
    "plt.title('Salary Distribution')\n",
    "plt.xlabel('Salary in USD')\n",
    "plt.ylabel('Frequency')\n",
    "plt.show()"
   ]
  },
  {
   "cell_type": "code",
   "execution_count": null,
   "id": "bf406a87",
   "metadata": {},
   "outputs": [],
   "source": [
    "def tukeys_test_outliers(data):\n",
    "    Q1 = data.quantile(0.25)\n",
    "    Q3 = data.quantile(0.75)\n",
    "    IQR = Q3 - Q1\n",
    "    \n",
    "    # Define bounds for the outliers\n",
    "    lower_bound = Q1 - 1.5 * IQR\n",
    "    upper_bound = Q3 + 1.5 * IQR\n",
    "    \n",
    "    # Identify the outliers\n",
    "    outliers = data[(data < lower_bound) | (data > upper_bound)]\n",
    "    \n",
    "    return outliers"
   ]
  },
  {
   "cell_type": "code",
   "execution_count": null,
   "id": "6ba530b1",
   "metadata": {},
   "outputs": [],
   "source": [
    "def replace_outliers_w_whisker(series):\n",
    "    Q1 = series.quantile(0.25)\n",
    "    Q3 = series.quantile(0.75)\n",
    "    IQR = Q3 - Q1\n",
    "    \n",
    "    lower_whisker = Q1 - (1.5 * IQR)\n",
    "    upper_whisker = Q3 + (1.5 * IQR)\n",
    "    \n",
    "    # Replace outliers with upper whisker if above Q3\n",
    "    series[series > upper_whisker] = upper_whisker\n",
    "    \n",
    "    # Replace outliers with lower whisker if below Q1\n",
    "    series[series < lower_whisker] = lower_whisker\n",
    "    \n",
    "    return series"
   ]
  },
  {
   "cell_type": "code",
   "execution_count": null,
   "id": "8876e4c7",
   "metadata": {},
   "outputs": [],
   "source": [
    "df_temp1['salary_in_usd'] = replace_outliers_w_whisker(df_temp1['salary_in_usd'])"
   ]
  },
  {
   "cell_type": "code",
   "execution_count": null,
   "id": "ea8884fb",
   "metadata": {},
   "outputs": [],
   "source": [
    "def replace_outliers_w_median(series):\n",
    "    Q1 = series.quantile(0.25)\n",
    "    Q3 = series.quantile(0.75)\n",
    "    median = series.median()\n",
    "    \n",
    "    # Replace values greater than Q3 with median\n",
    "    series[series > Q3] = median\n",
    "    \n",
    "    # Replace values lower than Q1 with median\n",
    "    series[series < Q1] = median\n",
    "    \n",
    "    return series"
   ]
  },
  {
   "cell_type": "code",
   "execution_count": null,
   "id": "437329d7",
   "metadata": {},
   "outputs": [],
   "source": [
    "df_temp2 = df_temp1.copy()  # Make a copy of df_temp1"
   ]
  },
  {
   "cell_type": "code",
   "execution_count": null,
   "id": "a857acc3",
   "metadata": {},
   "outputs": [],
   "source": [
    "df_temp2['salary_in_usd'] = replace_outliers_w_median(df_temp2['salary_in_usd'])"
   ]
  },
  {
   "cell_type": "code",
   "execution_count": null,
   "id": "b62821e1",
   "metadata": {},
   "outputs": [],
   "source": [
    "#df_temp2['salary_in_usd'] = replace_outliers_w_whisker(df_temp2['salary_in_usd'])"
   ]
  },
  {
   "cell_type": "code",
   "execution_count": null,
   "id": "576a706f",
   "metadata": {},
   "outputs": [],
   "source": [
    "sns.boxplot(x='salary_in_usd', data=df_temp2)\n",
    "plt.title('Salary in USD distribution')\n",
    "plt.xlabel('Salary in USD')\n",
    "plt.show() "
   ]
  },
  {
   "cell_type": "code",
   "execution_count": null,
   "id": "bf4e1e8e",
   "metadata": {},
   "outputs": [],
   "source": [
    "salary_series = df_temp2['salary_in_usd']\n",
    "outliers = tukeys_test_outliers(salary_series)\n",
    "print(outliers)\n",
    "df_temp1.iloc[~outliers.index,:]"
   ]
  },
  {
   "cell_type": "code",
   "execution_count": null,
   "id": "e875d721",
   "metadata": {},
   "outputs": [],
   "source": [
    "df_temp1['salary_in_usd'].nunique()"
   ]
  },
  {
   "cell_type": "code",
   "execution_count": null,
   "id": "41d7c26d",
   "metadata": {},
   "outputs": [],
   "source": [
    "new_df = df_temp1"
   ]
  },
  {
   "cell_type": "code",
   "execution_count": null,
   "id": "9d92fd2c",
   "metadata": {},
   "outputs": [],
   "source": [
    "#df_temp1.head()"
   ]
  },
  {
   "cell_type": "code",
   "execution_count": null,
   "id": "f16be029",
   "metadata": {},
   "outputs": [],
   "source": [
    "new_df.columns"
   ]
  },
  {
   "cell_type": "code",
   "execution_count": null,
   "id": "c92c68e0",
   "metadata": {},
   "outputs": [],
   "source": [
    "new_order = ['work_year', 'experience_level', 'job_title',\n",
    "       'employee_residence', 'remote_ratio', 'company_location',\n",
    "       'company_size', 'salary_in_usd']"
   ]
  },
  {
   "cell_type": "code",
   "execution_count": null,
   "id": "a53accdd",
   "metadata": {},
   "outputs": [],
   "source": [
    "new_df = new_df[new_order]"
   ]
  },
  {
   "cell_type": "code",
   "execution_count": null,
   "id": "b226fda1",
   "metadata": {},
   "outputs": [],
   "source": [
    "new_df"
   ]
  },
  {
   "cell_type": "code",
   "execution_count": null,
   "id": "06777ddb",
   "metadata": {},
   "outputs": [],
   "source": [
    "sns.boxplot(x=df_mapped_jobs, y='salary_in_usd', data=new_df)\n",
    "plt.title('Salary in USD distribution by Job Title')\n",
    "plt.xlabel('Job Title')\n",
    "plt.ylabel('Salary in USD')\n",
    "plt.xticks(rotation=45)  \n",
    "#plt.tight_layout() \n",
    "plt.show()"
   ]
  },
  {
   "cell_type": "code",
   "execution_count": null,
   "id": "fd0463c7",
   "metadata": {},
   "outputs": [],
   "source": [
    "sns.boxplot(x='experience_level', y='salary_in_usd', data=new_df)\n",
    "plt.title('Salary in USD distribution by Job Title')\n",
    "plt.xlabel('Job Title')\n",
    "plt.ylabel('Salary in USD')\n",
    "plt.xticks(rotation=45)  \n",
    "#plt.tight_layout() \n",
    "plt.show()"
   ]
  },
  {
   "cell_type": "code",
   "execution_count": null,
   "id": "bc1d9df5",
   "metadata": {},
   "outputs": [],
   "source": [
    "sns.boxplot(x='experience_level', y='salary_in_usd', data=new_df)\n",
    "plt.title('Salary in USD distribution by Job Title')\n",
    "plt.xlabel('Job Title')\n",
    "plt.ylabel('Salary in USD')\n",
    "plt.xticks(rotation=45)  \n",
    "#plt.tight_layout() \n",
    "plt.show()"
   ]
  },
  {
   "cell_type": "code",
   "execution_count": null,
   "id": "1020007c",
   "metadata": {},
   "outputs": [],
   "source": [
    "#new_df.to_csv(\"my_df.csv\", index=False)"
   ]
  },
  {
   "cell_type": "code",
   "execution_count": null,
   "id": "b960e882",
   "metadata": {},
   "outputs": [],
   "source": [
    "america_df.drop(columns=['employee_residence', 'company_location', 'salary', 'salary_currency'], inplace=True)"
   ]
  },
  {
   "cell_type": "code",
   "execution_count": null,
   "id": "5d3ea5b2",
   "metadata": {},
   "outputs": [],
   "source": [
    "america_df.drop(columns='employment_type', inplace=True)"
   ]
  },
  {
   "cell_type": "code",
   "execution_count": null,
   "id": "4bbb1f78",
   "metadata": {},
   "outputs": [],
   "source": [
    "america_df.columns"
   ]
  },
  {
   "cell_type": "code",
   "execution_count": null,
   "id": "e07ad6e9",
   "metadata": {},
   "outputs": [],
   "source": [
    "new_order = ['work_year', 'experience_level', 'job_title',\n",
    "             'remote_ratio', 'company_size', 'salary_in_usd']"
   ]
  },
  {
   "cell_type": "code",
   "execution_count": null,
   "id": "2b238c30",
   "metadata": {},
   "outputs": [],
   "source": [
    "america_df = america_df[new_order]"
   ]
  },
  {
   "cell_type": "code",
   "execution_count": null,
   "id": "52fa30ed",
   "metadata": {},
   "outputs": [],
   "source": [
    "america_df['job_title'] = america_df['job_title'].map(job_categories)"
   ]
  },
  {
   "cell_type": "code",
   "execution_count": null,
   "id": "77a0d3f7",
   "metadata": {},
   "outputs": [],
   "source": [
    "df_temp2 = df_temp2[new_order]"
   ]
  },
  {
   "cell_type": "code",
   "execution_count": null,
   "id": "41bee852",
   "metadata": {},
   "outputs": [],
   "source": [
    "#df_temp2.head()"
   ]
  },
  {
   "cell_type": "code",
   "execution_count": null,
   "id": "2bca811c",
   "metadata": {},
   "outputs": [],
   "source": [
    "en_median_salary = america_df[america_df['experience_level'] == 'EN']['salary_in_usd'].median()\n",
    "en_median_salary"
   ]
  },
  {
   "cell_type": "code",
   "execution_count": null,
   "id": "dc37c3b8",
   "metadata": {},
   "outputs": [],
   "source": [
    "indexes_en = america_df[(america_df['experience_level'] == 'EN') & (america_df['salary_in_usd'] > 240000)].index\n",
    "indexes_en"
   ]
  },
  {
   "cell_type": "code",
   "execution_count": null,
   "id": "468b112c",
   "metadata": {},
   "outputs": [],
   "source": [
    "#america_df.loc[indexes_en, 'salary_in_usd'] = en_median_salary"
   ]
  },
  {
   "cell_type": "code",
   "execution_count": null,
   "id": "7c93fe40",
   "metadata": {},
   "outputs": [],
   "source": [
    "america_df.drop(indexes_en, inplace=True)\n",
    "america_df.reset_index(drop=True, inplace=True)"
   ]
  },
  {
   "cell_type": "code",
   "execution_count": null,
   "id": "769e7482",
   "metadata": {},
   "outputs": [],
   "source": [
    "mi_median_salary = america_df[america_df['experience_level'] == 'MI']['salary_in_usd'].median()\n",
    "mi_median_salary"
   ]
  },
  {
   "cell_type": "code",
   "execution_count": null,
   "id": "96eccbec",
   "metadata": {},
   "outputs": [],
   "source": [
    "indexes_mi = america_df[(america_df['experience_level'] == 'MI') & (america_df['salary_in_usd'] > 260000)].index\n",
    "indexes_mi"
   ]
  },
  {
   "cell_type": "code",
   "execution_count": null,
   "id": "793ca5d4",
   "metadata": {},
   "outputs": [],
   "source": [
    "america_df.drop(indexes_mi, inplace=True)\n",
    "america_df.reset_index(drop=True, inplace=True)"
   ]
  },
  {
   "cell_type": "code",
   "execution_count": null,
   "id": "d3d8a75a",
   "metadata": {},
   "outputs": [],
   "source": [
    "sns.boxplot(x='experience_level', y='salary_in_usd', data=america_df)\n",
    "plt.title('Salary in USD distribution by Job Title')\n",
    "plt.xlabel('Job Title')\n",
    "plt.ylabel('Salary in USD')\n",
    "plt.xticks(rotation=45)  \n",
    "#plt.tight_layout() \n",
    "plt.show()"
   ]
  },
  {
   "cell_type": "code",
   "execution_count": null,
   "id": "5da1369e",
   "metadata": {},
   "outputs": [],
   "source": [
    "outlier_index = america_df[(america_df['experience_level'] == 'EX') & (america_df['salary_in_usd'] > 500000)].index\n",
    "outlier_index"
   ]
  },
  {
   "cell_type": "code",
   "execution_count": null,
   "id": "dc629562",
   "metadata": {},
   "outputs": [],
   "source": [
    "america_df.drop(outlier_index, inplace=True)\n",
    "america_df.reset_index(drop=True, inplace=True)"
   ]
  },
  {
   "cell_type": "code",
   "execution_count": null,
   "id": "c6cf9cda",
   "metadata": {},
   "outputs": [],
   "source": [
    "#america_df.loc[outlier_index, 'salary_in_usd'] = ex_median_salary"
   ]
  },
  {
   "cell_type": "code",
   "execution_count": null,
   "id": "1f0043a4",
   "metadata": {},
   "outputs": [],
   "source": [
    "sns.boxplot(x='experience_level', y='salary_in_usd', data=america_df)\n",
    "plt.title('Salary in USD distribution by Job Title')\n",
    "plt.xlabel('Job Title')\n",
    "plt.ylabel('Salary in USD')\n",
    "plt.xticks(rotation=45)  \n",
    "#plt.tight_layout() \n",
    "plt.show()"
   ]
  },
  {
   "cell_type": "code",
   "execution_count": null,
   "id": "ba3ae545",
   "metadata": {},
   "outputs": [],
   "source": [
    "new_df.to_csv(\"my_df.csv\")"
   ]
  },
  {
   "cell_type": "code",
   "execution_count": null,
   "id": "c8179939",
   "metadata": {},
   "outputs": [],
   "source": [
    "america_df.to_csv(\"america_df.csv\")"
   ]
  },
  {
   "cell_type": "code",
   "execution_count": null,
   "id": "103f354a",
   "metadata": {},
   "outputs": [],
   "source": [
    "america_df['job_title'] = america_df['job_title'].map(job_categories)"
   ]
  },
  {
   "cell_type": "code",
   "execution_count": null,
   "id": "26318e63",
   "metadata": {},
   "outputs": [],
   "source": [
    "america_df.job_title.value_counts()"
   ]
  },
  {
   "cell_type": "code",
   "execution_count": null,
   "id": "03dfd1d4",
   "metadata": {},
   "outputs": [],
   "source": [
    "sns.boxplot(x=df_mapped_jobs, y='salary_in_usd', data=america_df)\n",
    "plt.title('Salary in USD distribution by Job Title')\n",
    "plt.xlabel('Job Title')\n",
    "plt.ylabel('Salary in USD')\n",
    "plt.xticks(rotation=45)  \n",
    "#plt.tight_layout() \n",
    "plt.show()"
   ]
  },
  {
   "cell_type": "code",
   "execution_count": null,
   "id": "89ba8589",
   "metadata": {},
   "outputs": [],
   "source": [
    "new_outlier_index = america_df[(america_df['job_title'] == 'Data Analysis & Analytics') & (america_df['salary_in_usd'] > 350000)].index\n",
    "new_outlier_index"
   ]
  },
  {
   "cell_type": "code",
   "execution_count": null,
   "id": "297a3b7a",
   "metadata": {},
   "outputs": [],
   "source": [
    "data_analyst_median_salary = america_df[america_df['job_title'] == 'Data Analysis & Analytics']['salary_in_usd'].median()\n",
    "data_analyst_median_salary"
   ]
  },
  {
   "cell_type": "code",
   "execution_count": null,
   "id": "d8f866d5",
   "metadata": {},
   "outputs": [],
   "source": [
    "america_df.drop(new_outlier_index, inplace=True)\n",
    "america_df.reset_index(drop=True, inplace=True)"
   ]
  },
  {
   "cell_type": "code",
   "execution_count": null,
   "id": "f0ddb362",
   "metadata": {},
   "outputs": [],
   "source": [
    "america_df.shape"
   ]
  },
  {
   "cell_type": "markdown",
   "id": "36091dfb",
   "metadata": {},
   "source": [
    "# Pipeline"
   ]
  },
  {
   "cell_type": "code",
   "execution_count": null,
   "id": "15c8e37e",
   "metadata": {},
   "outputs": [],
   "source": [
    "# X = features contains the input features (all columns except 'salary_in_usd')\n",
    "X = new_df.drop('salary_in_usd', axis=1)\n",
    "# y = the target variable ('salary_in_usd')\n",
    "y = new_df['salary_in_usd']"
   ]
  },
  {
   "cell_type": "code",
   "execution_count": null,
   "id": "e9215204",
   "metadata": {},
   "outputs": [],
   "source": [
    "# X = features contains the input features (all columns except 'salary_in_usd')\n",
    "X = america_df.drop('salary_in_usd', axis=1)\n",
    "# y = the target variable ('salary_in_usd')\n",
    "y = america_df['salary_in_usd']"
   ]
  },
  {
   "cell_type": "code",
   "execution_count": null,
   "id": "2a3898ed",
   "metadata": {},
   "outputs": [],
   "source": [
    "from sklearn.model_selection import train_test_split\n",
    "\n",
    "X_train, X_test, y_train, y_test = train_test_split(X, y, test_size=0.2, random_state=42)\n"
   ]
  },
  {
   "cell_type": "code",
   "execution_count": null,
   "id": "75f67057",
   "metadata": {},
   "outputs": [],
   "source": [
    "#categorical_columns = ['work_year', 'experience_level', 'job_title', 'employee_residence', 'remote_ratio', 'company_location','company_size']"
   ]
  },
  {
   "cell_type": "code",
   "execution_count": null,
   "id": "d1fce0e2",
   "metadata": {},
   "outputs": [],
   "source": [
    "categorical_columns = ['work_year', 'experience_level', 'job_title', 'remote_ratio', 'company_size']\n"
   ]
  },
  {
   "cell_type": "code",
   "execution_count": null,
   "id": "2b3766a8",
   "metadata": {},
   "outputs": [],
   "source": [
    "from sklearn.preprocessing import OneHotEncoder\n",
    "from sklearn.compose import ColumnTransformer\n",
    "\n",
    "preprocessor = ColumnTransformer(\n",
    "    transformers=[\n",
    "        ('cat', OneHotEncoder(handle_unknown='error', sparse_output=False), categorical_columns)\n",
    "    ])"
   ]
  },
  {
   "cell_type": "code",
   "execution_count": null,
   "id": "07b0e79a",
   "metadata": {},
   "outputs": [],
   "source": [
    "from sklearn.ensemble import RandomForestRegressor\n",
    "regressor = RandomForestRegressor(n_estimators=100, random_state=42) "
   ]
  },
  {
   "cell_type": "code",
   "execution_count": null,
   "id": "2964702a",
   "metadata": {},
   "outputs": [],
   "source": [
    "from sklearn.preprocessing import PowerTransformer\n",
    "from sklearn.pipeline import Pipeline\n",
    "pipeline = Pipeline(steps=[('preprocessor', preprocessor),\n",
    "                           ('scaler', PowerTransformer()),\n",
    "                           ('regressor', regressor)])\n"
   ]
  },
  {
   "cell_type": "code",
   "execution_count": null,
   "id": "75791fed",
   "metadata": {},
   "outputs": [],
   "source": [
    "pipeline.fit(X_train, y_train)"
   ]
  },
  {
   "cell_type": "code",
   "execution_count": null,
   "id": "cf4ce913",
   "metadata": {},
   "outputs": [],
   "source": [
    "from sklearn.metrics import mean_squared_error\n",
    "predictions_pipeline_train = pipeline.predict(X_train)"
   ]
  },
  {
   "cell_type": "code",
   "execution_count": null,
   "id": "b4d8fe7e",
   "metadata": {},
   "outputs": [],
   "source": [
    "from sklearn.metrics import mean_absolute_error\n",
    "mae_pipeline_train = mean_absolute_error(y_train, predictions_pipeline_train)\n",
    "print(\"Pipeline Mean Absolute Error (train):\", mae_pipeline_train)"
   ]
  },
  {
   "cell_type": "code",
   "execution_count": null,
   "id": "054e6e59",
   "metadata": {},
   "outputs": [],
   "source": [
    "mse_pipeline_train = mean_squared_error(y_train, predictions_pipeline_train)  \n",
    "print(\"Pipeline Mean Squared Error (train):\", mse_pipeline_train)"
   ]
  },
  {
   "cell_type": "code",
   "execution_count": null,
   "id": "13a16b6c",
   "metadata": {},
   "outputs": [],
   "source": [
    "rmse_pipeline_train = np.sqrt(mse_pipeline_train)\n",
    "print(\"Pipeline Root Mean Squared Error (train): \", rmse_pipeline_train)"
   ]
  },
  {
   "cell_type": "code",
   "execution_count": null,
   "id": "e0e1f6a9",
   "metadata": {},
   "outputs": [],
   "source": [
    "from sklearn.metrics import r2_score\n",
    "r_squared_pipeline_train = r2_score(y_train, predictions_pipeline_train)\n",
    "print(\"Pipeline R-Squared (train): \", r_squared_pipeline_train)"
   ]
  },
  {
   "cell_type": "code",
   "execution_count": null,
   "id": "b74a80ef",
   "metadata": {},
   "outputs": [],
   "source": [
    "absolute_percentage_errors_pipeline_train = np.abs((y_train - predictions_pipeline_train) / y_train)\n",
    "mean_absolute_percentage_error_pipeline_train = np.mean(absolute_percentage_errors_pipeline_train) * 100"
   ]
  },
  {
   "cell_type": "code",
   "execution_count": null,
   "id": "1fc08dd4",
   "metadata": {},
   "outputs": [],
   "source": [
    "print(\"Pipeline Mean Absolute Percentage Error (MAPE)(train): {:.2f}%\".format(mean_absolute_percentage_error_pipeline_train))"
   ]
  },
  {
   "cell_type": "code",
   "execution_count": null,
   "id": "1e8629a2",
   "metadata": {},
   "outputs": [],
   "source": []
  },
  {
   "cell_type": "code",
   "execution_count": null,
   "id": "75fd3a64",
   "metadata": {},
   "outputs": [],
   "source": [
    "predictions_pipeline_test = pipeline.predict(X_test)"
   ]
  },
  {
   "cell_type": "code",
   "execution_count": null,
   "id": "248eac7c",
   "metadata": {},
   "outputs": [],
   "source": [
    "from sklearn.metrics import mean_absolute_error\n",
    "# predictions_pipeline_test = pipeline.predict(X_test)\n",
    "mae_pipeline_test = mean_absolute_error(y_test, predictions_pipeline_test)\n",
    "print(\"Pipeline Mean Absolute Error:\", mae_pipeline_test)"
   ]
  },
  {
   "cell_type": "code",
   "execution_count": null,
   "id": "193981fb",
   "metadata": {},
   "outputs": [],
   "source": [
    "from sklearn.metrics import mean_squared_error\n",
    "mse_pipeline_test = mean_squared_error(y_test, predictions_pipeline_test)  \n",
    "print(\"Pipeline Mean Squared Error (test):\", mse_pipeline_test)"
   ]
  },
  {
   "cell_type": "code",
   "execution_count": null,
   "id": "826a96b6",
   "metadata": {},
   "outputs": [],
   "source": [
    "rmse_pipeline_test = np.sqrt(mse_pipeline_test)\n",
    "print(\"Pipeline Root Mean Squared Error (test): \", rmse_pipeline_test)"
   ]
  },
  {
   "cell_type": "code",
   "execution_count": null,
   "id": "0eb3206e",
   "metadata": {},
   "outputs": [],
   "source": [
    "from sklearn.metrics import r2_score\n",
    "r_squared_pipeline_test = r2_score(y_test, predictions_pipeline_test)\n",
    "print(\"Pipeline R-Squared (test): \", r_squared_pipeline_test)"
   ]
  },
  {
   "cell_type": "code",
   "execution_count": null,
   "id": "abfc9503",
   "metadata": {},
   "outputs": [],
   "source": [
    "absolute_percentage_errors_pipeline_test = np.abs((y_test - predictions_pipeline_test) / y_test)\n",
    "mean_absolute_percentage_error_pipeline_test = np.mean(absolute_percentage_errors_pipeline_test) * 100"
   ]
  },
  {
   "cell_type": "code",
   "execution_count": null,
   "id": "e6b82ce6",
   "metadata": {},
   "outputs": [],
   "source": [
    "print(\"Pipeline Mean Absolute Percentage Error (MAPE)(test): {:.2f}%\".format(mean_absolute_percentage_error_pipeline_test))"
   ]
  },
  {
   "cell_type": "code",
   "execution_count": null,
   "id": "218a9f68",
   "metadata": {},
   "outputs": [],
   "source": []
  },
  {
   "cell_type": "code",
   "execution_count": null,
   "id": "718cdaf5",
   "metadata": {},
   "outputs": [],
   "source": [
    "job_titles = X.loc[y_train.index, 'job_title']"
   ]
  },
  {
   "cell_type": "code",
   "execution_count": null,
   "id": "deb68d66",
   "metadata": {},
   "outputs": [],
   "source": [
    "# Create the scatter plot\n",
    "plt.figure(figsize=(10, 6))\n",
    "sns.scatterplot(x=predictions_pipeline_train, y=y_train, hue=job_titles)\n",
    "\n",
    "sns.regplot(x=predictions_pipeline_train, y=y_train, scatter=False, color='black')\n",
    "\n",
    "# Add labels and title\n",
    "plt.xlabel('Predicted Values')\n",
    "plt.ylabel('Actual Values')\n",
    "plt.title('Scatter Plot of Predicted vs Actual Values')\n",
    "\n",
    "# Show plot\n",
    "plt.show()"
   ]
  },
  {
   "cell_type": "code",
   "execution_count": null,
   "id": "51f95b8d",
   "metadata": {},
   "outputs": [],
   "source": [
    "job_titles = X.loc[y_test.index, 'job_title']"
   ]
  },
  {
   "cell_type": "code",
   "execution_count": null,
   "id": "7d39bbfe",
   "metadata": {},
   "outputs": [],
   "source": [
    "# Create the scatter plot\n",
    "plt.figure(figsize=(10, 6))\n",
    "sns.scatterplot(x=predictions_pipeline_test, y=y_test, hue=job_titles)\n",
    "\n",
    "sns.regplot(x=predictions_pipeline_test, y=y_test, scatter=False, color='black')\n",
    "\n",
    "# Add labels and title\n",
    "plt.xlabel('Predicted Values')\n",
    "plt.ylabel('Actual Values')\n",
    "plt.title('Scatter Plot of Predicted vs Actual Values')\n",
    "\n",
    "# Show plot\n",
    "plt.show()"
   ]
  },
  {
   "cell_type": "code",
   "execution_count": null,
   "id": "dc5d0e54",
   "metadata": {},
   "outputs": [],
   "source": []
  },
  {
   "cell_type": "code",
   "execution_count": null,
   "id": "08203a0c",
   "metadata": {},
   "outputs": [],
   "source": [
    "from sklearn.tree import DecisionTreeRegressor\n",
    "X = america_df.drop('salary_in_usd', axis=1)\n",
    "y = america_df['salary_in_usd']\n",
    "\n",
    "from sklearn.model_selection import train_test_split\n",
    "\n",
    "X_train, X_test, y_train, y_test = train_test_split(X, y, test_size=0.2, random_state=42)\n",
    "\n",
    "categorical_columns = ['work_year', 'experience_level', 'job_title', 'remote_ratio', 'company_size']\n",
    "\n",
    "from sklearn.preprocessing import OneHotEncoder\n",
    "from sklearn.compose import ColumnTransformer\n",
    "\n",
    "preprocessor = ColumnTransformer(\n",
    "    transformers=[\n",
    "        ('cat', OneHotEncoder(handle_unknown='error', sparse_output=False), categorical_columns)\n",
    "    ])\n",
    "\n",
    "from sklearn.tree import DecisionTreeRegressor\n",
    "regressor = DecisionTreeRegressor(random_state=42)  # Using DecisionTreeRegressor instead\n",
    "\n",
    "from sklearn.preprocessing import PowerTransformer\n",
    "from sklearn.pipeline import Pipeline\n",
    "\n",
    "pipeline = Pipeline(steps=[('preprocessor', preprocessor),\n",
    "                           ('scaler', PowerTransformer()),\n",
    "                           ('regressor', regressor)])\n",
    "\n",
    "pipeline.fit(X_train, y_train)"
   ]
  },
  {
   "cell_type": "code",
   "execution_count": null,
   "id": "6fe0ca6b",
   "metadata": {},
   "outputs": [],
   "source": [
    "predictions_pipeline_test = pipeline.predict(X_test)"
   ]
  },
  {
   "cell_type": "code",
   "execution_count": null,
   "id": "bf3648ed",
   "metadata": {},
   "outputs": [],
   "source": [
    "mae_pipeline_test = mean_absolute_error(y_test, predictions_pipeline_test)\n",
    "print(\"Pipeline Mean Absolute Error:\", mae_pipeline_test)"
   ]
  },
  {
   "cell_type": "code",
   "execution_count": null,
   "id": "afe13c71",
   "metadata": {},
   "outputs": [],
   "source": [
    "# Create the scatter plot\n",
    "plt.figure(figsize=(10, 6))\n",
    "sns.scatterplot(x=predictions_pipeline_test, y=y_test, hue=job_titles)\n",
    "\n",
    "sns.regplot(x=predictions_pipeline_test, y=y_test, scatter=False, color='black')\n",
    "\n",
    "# Add labels and title\n",
    "plt.xlabel('Predicted Values')\n",
    "plt.ylabel('Actual Values')\n",
    "plt.title('Scatter Plot of Predicted vs Actual Values')\n",
    "\n",
    "# Show plot\n",
    "plt.show()"
   ]
  },
  {
   "cell_type": "code",
   "execution_count": null,
   "id": "2db49a2f",
   "metadata": {},
   "outputs": [],
   "source": []
  },
  {
   "cell_type": "code",
   "execution_count": null,
   "id": "6a8b4f28",
   "metadata": {},
   "outputs": [],
   "source": []
  },
  {
   "cell_type": "code",
   "execution_count": null,
   "id": "4c545ed4",
   "metadata": {},
   "outputs": [],
   "source": []
  },
  {
   "cell_type": "code",
   "execution_count": null,
   "id": "6a1b5baf",
   "metadata": {},
   "outputs": [],
   "source": []
  },
  {
   "cell_type": "code",
   "execution_count": null,
   "id": "2148d88e",
   "metadata": {},
   "outputs": [],
   "source": []
  },
  {
   "cell_type": "code",
   "execution_count": null,
   "id": "8f1cdd3c",
   "metadata": {},
   "outputs": [],
   "source": []
  },
  {
   "cell_type": "code",
   "execution_count": null,
   "id": "75738bd5",
   "metadata": {},
   "outputs": [],
   "source": []
  },
  {
   "cell_type": "code",
   "execution_count": null,
   "id": "f58c63b1",
   "metadata": {},
   "outputs": [],
   "source": []
  },
  {
   "cell_type": "code",
   "execution_count": null,
   "id": "e10eead1",
   "metadata": {},
   "outputs": [],
   "source": []
  },
  {
   "cell_type": "code",
   "execution_count": null,
   "id": "13660cac",
   "metadata": {},
   "outputs": [],
   "source": []
  },
  {
   "cell_type": "code",
   "execution_count": null,
   "id": "23a9f12c",
   "metadata": {},
   "outputs": [],
   "source": []
  },
  {
   "cell_type": "markdown",
   "id": "5ca4b055",
   "metadata": {},
   "source": [
    "# Linear Regression"
   ]
  },
  {
   "cell_type": "code",
   "execution_count": null,
   "id": "99d2e96c",
   "metadata": {},
   "outputs": [],
   "source": [
    "# X = features contains the input features (all columns except 'salary_in_usd')\n",
    "X = new_df.drop('salary_in_usd', axis=1)\n",
    "# y = the target variable ('salary_in_usd')\n",
    "y = new_df['salary_in_usd']"
   ]
  },
  {
   "cell_type": "code",
   "execution_count": null,
   "id": "ae0b570a",
   "metadata": {},
   "outputs": [],
   "source": [
    "X_train, X_test, y_train, y_test = train_test_split(X, y, test_size=0.2, random_state=42)"
   ]
  },
  {
   "cell_type": "code",
   "execution_count": null,
   "id": "5fb0a4e9",
   "metadata": {},
   "outputs": [],
   "source": [
    "categorical_columns = ['work_year', 'experience_level', 'job_title', 'employee_residence', 'remote_ratio', 'company_location','company_size']"
   ]
  },
  {
   "cell_type": "code",
   "execution_count": null,
   "id": "129b3dae",
   "metadata": {},
   "outputs": [],
   "source": [
    "preprocessor = ColumnTransformer(\n",
    "    transformers=[\n",
    "        ('cat', OneHotEncoder(handle_unknown='error', sparse_output=False), categorical_columns)\n",
    "    ])"
   ]
  },
  {
   "cell_type": "code",
   "execution_count": null,
   "id": "9dace83b",
   "metadata": {},
   "outputs": [],
   "source": [
    "from sklearn.linear_model import LinearRegression\n",
    "linear_regressor = LinearRegression()"
   ]
  },
  {
   "cell_type": "code",
   "execution_count": null,
   "id": "b398e656",
   "metadata": {},
   "outputs": [],
   "source": [
    "pipeline = Pipeline(steps=[('preprocessor', preprocessor),\n",
    "                           ('scaler', PowerTransformer()),\n",
    "                           ('regressor', linear_regressor)])\n"
   ]
  },
  {
   "cell_type": "code",
   "execution_count": null,
   "id": "36fbc904",
   "metadata": {},
   "outputs": [],
   "source": [
    "pipeline.fit(X_train, y_train)"
   ]
  },
  {
   "cell_type": "code",
   "execution_count": null,
   "id": "b8b01e4a",
   "metadata": {},
   "outputs": [],
   "source": [
    "predictions_pipeline_test = pipeline.predict(X_test)\n",
    "mae_pipeline_test = mean_absolute_error(y_test, predictions_pipeline_test)\n",
    "print(\"Pipeline Mean Absolute Error:\", mae_pipeline_test)"
   ]
  },
  {
   "cell_type": "code",
   "execution_count": null,
   "id": "d8ec25b2",
   "metadata": {},
   "outputs": [],
   "source": [
    "mse_pipeline_test = mean_squared_error(y_test, predictions_pipeline_test)  \n",
    "print(\"Pipeline Mean Squared Error (test):\", mse_pipeline_test)"
   ]
  },
  {
   "cell_type": "code",
   "execution_count": null,
   "id": "a469fc43",
   "metadata": {},
   "outputs": [],
   "source": [
    "rmse_pipeline_test = np.sqrt(mse_pipeline_test)\n",
    "print(\"Pipeline Root Mean Squared Error (from test): \", rmse_pipeline_test)"
   ]
  },
  {
   "cell_type": "code",
   "execution_count": null,
   "id": "c6254c4b",
   "metadata": {},
   "outputs": [],
   "source": [
    "from sklearn.metrics import r2_score\n",
    "r_squared_pipeline_test = r2_score(y_test, predictions_pipeline_test)\n",
    "print(\"Pipeline R-Squared (from test): \", r_squared_pipeline_test)"
   ]
  },
  {
   "cell_type": "code",
   "execution_count": null,
   "id": "9c01d5d0",
   "metadata": {},
   "outputs": [],
   "source": [
    "absolute_percentage_errors_pipeline_test = np.abs((y_test - predictions_pipeline_test) / y_test)\n",
    "mean_absolute_percentage_error_pipeline_test = np.mean(absolute_percentage_errors_pipeline_test) * 100"
   ]
  },
  {
   "cell_type": "code",
   "execution_count": null,
   "id": "9999dc31",
   "metadata": {},
   "outputs": [],
   "source": [
    "print(\"Pipeline Mean Absolute Percentage Error (MAPE)(from train): {:.2f}%\".format(mean_absolute_percentage_error_pipeline_test))"
   ]
  },
  {
   "cell_type": "code",
   "execution_count": null,
   "id": "a734fae9",
   "metadata": {},
   "outputs": [],
   "source": [
    "job_titles = X.loc[y_test.index, 'job_title']"
   ]
  },
  {
   "cell_type": "code",
   "execution_count": null,
   "id": "1c23fff9",
   "metadata": {},
   "outputs": [],
   "source": [
    "# Create the scatter plot\n",
    "plt.figure(figsize=(10, 6))\n",
    "sns.scatterplot(x=predictions_pipeline_test, y=y_test, hue=job_titles)\n",
    "\n",
    "sns.regplot(x=predictions_pipeline_test, y=y_test, scatter=False, color='black')\n",
    "\n",
    "# Add labels and title\n",
    "plt.xlabel('Predicted Values')\n",
    "plt.ylabel('Actual Values')\n",
    "plt.title('Scatter Plot of Predicted vs Actual Values')\n",
    "\n",
    "# Show plot\n",
    "plt.show()"
   ]
  },
  {
   "cell_type": "code",
   "execution_count": null,
   "id": "f4bc0153",
   "metadata": {},
   "outputs": [],
   "source": [
    "mae_pipeline_train = mean_absolute_error(y_train, predictions_pipeline_train)\n",
    "print(\"Pipeline Mean Absolute Error (train):\", mae_pipeline_train)"
   ]
  },
  {
   "cell_type": "code",
   "execution_count": null,
   "id": "02d496be",
   "metadata": {},
   "outputs": [],
   "source": [
    "mse_pipeline_train = mean_squared_error(y_train, predictions_pipeline_train)  \n",
    "print(\"Pipeline Mean Squared Error (train):\", mse_pipeline_train)"
   ]
  },
  {
   "cell_type": "code",
   "execution_count": null,
   "id": "7ad85e18",
   "metadata": {},
   "outputs": [],
   "source": [
    "rmse_pipeline_train = np.sqrt(mse_pipeline_train)\n",
    "print(\"Pipeline Root Mean Squared Error (train): \", rmse_pipeline_train)"
   ]
  },
  {
   "cell_type": "code",
   "execution_count": null,
   "id": "ebc1273c",
   "metadata": {},
   "outputs": [],
   "source": [
    "r_squared_pipeline_train = r2_score(y_train, predictions_pipeline_train)\n",
    "print(\"Pipeline R-Squared (train): \", r_squared_pipeline_train)"
   ]
  },
  {
   "cell_type": "code",
   "execution_count": null,
   "id": "96bf91cc",
   "metadata": {},
   "outputs": [],
   "source": [
    "absolute_percentage_errors_pipeline_train = np.abs((y_train - predictions_pipeline_train) / y_train)\n",
    "mean_absolute_percentage_error_pipeline_train = np.mean(absolute_percentage_errors_pipeline_train) * 100"
   ]
  },
  {
   "cell_type": "code",
   "execution_count": null,
   "id": "92335272",
   "metadata": {},
   "outputs": [],
   "source": [
    "print(\"Pipeline Mean Absolute Percentage Error (MAPE)(train): {:.2f}%\".format(mean_absolute_percentage_error_pipeline_train))"
   ]
  },
  {
   "cell_type": "code",
   "execution_count": null,
   "id": "dab7f0c6",
   "metadata": {},
   "outputs": [],
   "source": [
    "job_titles = X.loc[y_train.index, 'job_title']"
   ]
  },
  {
   "cell_type": "code",
   "execution_count": null,
   "id": "84f9d429",
   "metadata": {},
   "outputs": [],
   "source": [
    "# Create the scatter plot\n",
    "plt.figure(figsize=(10, 6))\n",
    "sns.scatterplot(x=predictions_pipeline_train, y=y_train, hue=job_titles)\n",
    "\n",
    "sns.regplot(x=predictions_pipeline_train, y=y_train, scatter=False, color='black')\n",
    "\n",
    "# Add labels and title\n",
    "plt.xlabel('Predicted Values')\n",
    "plt.ylabel('Actual Values')\n",
    "plt.title('Scatter Plot of Predicted vs Actual Values')\n",
    "\n",
    "# Show plot\n",
    "plt.show()"
   ]
  },
  {
   "cell_type": "code",
   "execution_count": null,
   "id": "9535cde7",
   "metadata": {},
   "outputs": [],
   "source": []
  },
  {
   "cell_type": "code",
   "execution_count": null,
   "id": "c59c7eca",
   "metadata": {},
   "outputs": [],
   "source": [
    "# X = features contains the input features (all columns except 'salary_in_usd')\n",
    "X = new_df.drop('salary_in_usd', axis=1)\n",
    "# y = the target variable ('salary_in_usd')\n",
    "y = new_df['salary_in_usd']"
   ]
  },
  {
   "cell_type": "code",
   "execution_count": null,
   "id": "d7e4997f",
   "metadata": {},
   "outputs": [],
   "source": [
    "X_train, X_test, y_train, y_test = train_test_split(X, y, test_size=0.2, random_state=42)"
   ]
  },
  {
   "cell_type": "code",
   "execution_count": null,
   "id": "8e080011",
   "metadata": {},
   "outputs": [],
   "source": [
    "from sklearn.neighbors import KNeighborsRegressor\n",
    "knn_regressor = KNeighborsRegressor()"
   ]
  },
  {
   "cell_type": "code",
   "execution_count": null,
   "id": "c9eeaf6f",
   "metadata": {},
   "outputs": [],
   "source": [
    "pipeline = Pipeline(steps=[\n",
    "    ('preprocessor', preprocessor),\n",
    "    ('scaler', PowerTransformer()),\n",
    "    ('regressor', knn_regressor)\n",
    "])"
   ]
  },
  {
   "cell_type": "code",
   "execution_count": null,
   "id": "37296a83",
   "metadata": {},
   "outputs": [],
   "source": [
    "pipeline.fit(X_train, y_train)"
   ]
  },
  {
   "cell_type": "code",
   "execution_count": null,
   "id": "0907f49d",
   "metadata": {},
   "outputs": [],
   "source": [
    "predictions_pipeline_test = pipeline.predict(X_test)\n",
    "mae_pipeline_test = mean_absolute_error(y_test, predictions_pipeline_test)\n",
    "print(\"Pipeline Mean Absolute Error:\", mae_pipeline_test)"
   ]
  },
  {
   "cell_type": "code",
   "execution_count": null,
   "id": "5e228a3a",
   "metadata": {},
   "outputs": [],
   "source": [
    "mse_pipeline_test = mean_squared_error(y_test, predictions_pipeline_test)  \n",
    "print(\"Pipeline Mean Squared Error (test):\", mse_pipeline_test)"
   ]
  },
  {
   "cell_type": "code",
   "execution_count": null,
   "id": "e250410e",
   "metadata": {},
   "outputs": [],
   "source": [
    "rmse_pipeline_test = np.sqrt(mse_pipeline_test)\n",
    "print(\"Pipeline Root Mean Squared Error (from test): \", rmse_pipeline_test)"
   ]
  },
  {
   "cell_type": "code",
   "execution_count": null,
   "id": "e0e2bae5",
   "metadata": {},
   "outputs": [],
   "source": [
    "from sklearn.metrics import r2_score\n",
    "r_squared_pipeline_test = r2_score(y_test, predictions_pipeline_test)\n",
    "print(\"Pipeline R-Squared (from test): \", r_squared_pipeline_test)"
   ]
  },
  {
   "cell_type": "code",
   "execution_count": null,
   "id": "3942f756",
   "metadata": {},
   "outputs": [],
   "source": [
    "absolute_percentage_errors_pipeline_test = np.abs((y_test - predictions_pipeline_test) / y_test)\n",
    "mean_absolute_percentage_error_pipeline_test = np.mean(absolute_percentage_errors_pipeline_test) * 100"
   ]
  },
  {
   "cell_type": "code",
   "execution_count": null,
   "id": "474e2397",
   "metadata": {},
   "outputs": [],
   "source": [
    "print(\"Pipeline Mean Absolute Percentage Error (MAPE)(from train): {:.2f}%\".format(mean_absolute_percentage_error_pipeline_test))"
   ]
  },
  {
   "cell_type": "code",
   "execution_count": null,
   "id": "2d4b666e",
   "metadata": {},
   "outputs": [],
   "source": [
    "job_titles = X.loc[y_test.index, 'job_title']"
   ]
  },
  {
   "cell_type": "code",
   "execution_count": null,
   "id": "07ce834e",
   "metadata": {},
   "outputs": [],
   "source": [
    "# Create the scatter plot\n",
    "plt.figure(figsize=(10, 6))\n",
    "sns.scatterplot(x=predictions_pipeline_test, y=y_test, hue=job_titles)\n",
    "\n",
    "sns.regplot(x=predictions_pipeline_test, y=y_test, scatter=False, color='black')\n",
    "\n",
    "# Add labels and title\n",
    "plt.xlabel('Predicted Values')\n",
    "plt.ylabel('Actual Values')\n",
    "plt.title('Scatter Plot of Predicted vs Actual Values')\n",
    "\n",
    "# Show plot\n",
    "plt.show()"
   ]
  },
  {
   "cell_type": "code",
   "execution_count": null,
   "id": "d03a3fee",
   "metadata": {},
   "outputs": [],
   "source": []
  },
  {
   "cell_type": "code",
   "execution_count": null,
   "id": "5e862a9c",
   "metadata": {},
   "outputs": [],
   "source": []
  },
  {
   "cell_type": "code",
   "execution_count": null,
   "id": "0dede767",
   "metadata": {},
   "outputs": [],
   "source": []
  },
  {
   "cell_type": "code",
   "execution_count": null,
   "id": "18c0bdfd",
   "metadata": {},
   "outputs": [],
   "source": [
    "# X = features contains the input features (all columns except 'salary_in_usd')\n",
    "#X = df_temp2.drop('salary_in_usd', axis=1)\n",
    "# y = the target variable ('salary_in_usd')\n",
    "#y = df_temp2['salary_in_usd']"
   ]
  },
  {
   "cell_type": "code",
   "execution_count": null,
   "id": "61c279bf",
   "metadata": {},
   "outputs": [],
   "source": [
    "#from sklearn.model_selection import train_test_split\n",
    "\n",
    "#X_train, X_test, y_train, y_test = train_test_split(X, y, test_size=0.2, random_state=42)"
   ]
  },
  {
   "cell_type": "code",
   "execution_count": null,
   "id": "c7d8a84a",
   "metadata": {},
   "outputs": [],
   "source": [
    "#from sklearn.preprocessing import OneHotEncoder\n",
    "#from sklearn.compose import ColumnTransformer\n",
    "\n",
    "#preprocessor = ColumnTransformer(\n",
    "#    transformers=[\n",
    "#        ('cat', OneHotEncoder(handle_unknown='error', sparse_output=False), categorical_columns)\n",
    "#    ])"
   ]
  },
  {
   "cell_type": "code",
   "execution_count": null,
   "id": "136983d0",
   "metadata": {},
   "outputs": [],
   "source": [
    "#from sklearn.ensemble import RandomForestRegressor\n",
    "#regressor = RandomForestRegressor(n_estimators=100, random_state=42) "
   ]
  },
  {
   "cell_type": "code",
   "execution_count": null,
   "id": "1a1a9606",
   "metadata": {},
   "outputs": [],
   "source": [
    "#from sklearn.preprocessing import PowerTransformer\n",
    "#from sklearn.pipeline import Pipeline\n",
    "#pipeline = Pipeline(steps=[('preprocessor', preprocessor),\n",
    "#                           ('scaler', PowerTransformer()),\n",
    "#                           ('regressor', regressor)])\n"
   ]
  },
  {
   "cell_type": "code",
   "execution_count": null,
   "id": "25e25f45",
   "metadata": {},
   "outputs": [],
   "source": [
    "#pipeline.fit(X_train, y_train)"
   ]
  },
  {
   "cell_type": "code",
   "execution_count": null,
   "id": "12b6521a",
   "metadata": {},
   "outputs": [],
   "source": [
    "#predictions_pipeline_test = pipeline.predict(X_test)"
   ]
  },
  {
   "cell_type": "code",
   "execution_count": null,
   "id": "ba031d12",
   "metadata": {},
   "outputs": [],
   "source": [
    "#from sklearn.metrics import mean_absolute_error\n",
    "# predictions_pipeline_test = pipeline.predict(X_test)\n",
    "#mae_pipeline_test = mean_absolute_error(y_test, predictions_pipeline_test)\n",
    "#print(\"Pipeline Mean Absolute Error:\", mae_pipeline_test)"
   ]
  },
  {
   "cell_type": "code",
   "execution_count": null,
   "id": "afcafc16",
   "metadata": {},
   "outputs": [],
   "source": [
    "#mse_pipeline_test = mean_squared_error(y_test, predictions_pipeline_test)  \n",
    "#print(\"Pipeline Mean Squared Error (test):\", mse_pipeline_test)"
   ]
  },
  {
   "cell_type": "code",
   "execution_count": null,
   "id": "21361ab9",
   "metadata": {},
   "outputs": [],
   "source": [
    "#rmse_pipeline_test = np.sqrt(mse_pipeline_test)\n",
    "#print(\"Pipeline Root Mean Squared Error (test): \", rmse_pipeline_test)"
   ]
  },
  {
   "cell_type": "code",
   "execution_count": null,
   "id": "6647762c",
   "metadata": {},
   "outputs": [],
   "source": [
    "#from sklearn.metrics import r2_score\n",
    "#r_squared_pipeline_test = r2_score(y_test, predictions_pipeline_test)\n",
    "#print(\"Pipeline R-Squared (test): \", r_squared_pipeline_test)"
   ]
  },
  {
   "cell_type": "code",
   "execution_count": null,
   "id": "bad8943b",
   "metadata": {},
   "outputs": [],
   "source": [
    "#absolute_percentage_errors_pipeline_test = np.abs((y_test - predictions_pipeline_test) / y_test)\n",
    "#mean_absolute_percentage_error_pipeline_test = np.mean(absolute_percentage_errors_pipeline_test) * 100"
   ]
  },
  {
   "cell_type": "code",
   "execution_count": null,
   "id": "392a11dc",
   "metadata": {},
   "outputs": [],
   "source": [
    "#print(\"Pipeline Mean Absolute Percentage Error (MAPE)(test): {:.2f}%\".format(mean_absolute_percentage_error_pipeline_test))"
   ]
  },
  {
   "cell_type": "code",
   "execution_count": null,
   "id": "96e10da2",
   "metadata": {},
   "outputs": [],
   "source": [
    "#job_titles = X.loc[y_test.index, 'job_title']"
   ]
  },
  {
   "cell_type": "code",
   "execution_count": null,
   "id": "db8b66cf",
   "metadata": {},
   "outputs": [],
   "source": [
    "# Create the scatter plot\n",
    "#plt.figure(figsize=(10, 6))\n",
    "#sns.scatterplot(x=predictions_pipeline_test, y=y_test, hue=job_titles)\n",
    "\n",
    "#sns.regplot(x=predictions_pipeline_test, y=y_test, scatter=False, color='black')\n",
    "\n",
    "# Add labels and title\n",
    "#plt.xlabel('Predicted Values')\n",
    "#plt.ylabel('Actual Values')\n",
    "#plt.title('Scatter Plot of Predicted vs Actual Values')\n",
    "\n",
    "# Show plot\n",
    "#plt.show()"
   ]
  },
  {
   "cell_type": "code",
   "execution_count": null,
   "id": "f20ddebb",
   "metadata": {},
   "outputs": [],
   "source": [
    "#df_temp2.to_csv(\"final_project_data.csv\")"
   ]
  },
  {
   "cell_type": "code",
   "execution_count": null,
   "id": "b0f35536",
   "metadata": {},
   "outputs": [],
   "source": []
  }
 ],
 "metadata": {
  "kernelspec": {
   "display_name": "Python 3 (ipykernel)",
   "language": "python",
   "name": "python3"
  },
  "language_info": {
   "codemirror_mode": {
    "name": "ipython",
    "version": 3
   },
   "file_extension": ".py",
   "mimetype": "text/x-python",
   "name": "python",
   "nbconvert_exporter": "python",
   "pygments_lexer": "ipython3",
   "version": "3.11.8"
  }
 },
 "nbformat": 4,
 "nbformat_minor": 5
}
