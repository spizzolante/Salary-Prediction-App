{
 "cells": [
  {
   "cell_type": "code",
   "execution_count": 125,
   "id": "7edcaafe",
   "metadata": {},
   "outputs": [],
   "source": [
    "import pickle\n",
    "from sklearn.ensemble import RandomForestRegressor\n",
    "from sklearn.preprocessing import MinMaxScaler\n",
    "from sklearn.compose import ColumnTransformer\n",
    "from sklearn.preprocessing import OneHotEncoder\n",
    "from sklearn.pipeline import Pipeline\n",
    "import pandas as pd"
   ]
  },
  {
   "cell_type": "code",
   "execution_count": 126,
   "id": "c95f05f8",
   "metadata": {},
   "outputs": [],
   "source": [
    "data = pd.read_csv(\"modeling_data.csv\")"
   ]
  },
  {
   "cell_type": "code",
   "execution_count": 138,
   "id": "a53beb30",
   "metadata": {},
   "outputs": [],
   "source": [
    "numerical_columns = ['salary_in_usd']"
   ]
  },
  {
   "cell_type": "code",
   "execution_count": 140,
   "id": "714c9b73",
   "metadata": {},
   "outputs": [],
   "source": [
    "categorical_columns = ['work_year', 'experience_level', 'job_title', 'employee_residence', 'remote_ratio', 'company_location','company_size']"
   ]
  },
  {
   "cell_type": "code",
   "execution_count": 141,
   "id": "db0acdd5",
   "metadata": {},
   "outputs": [],
   "source": [
    "scaler = MinMaxScaler()"
   ]
  },
  {
   "cell_type": "code",
   "execution_count": 130,
   "id": "ca2986a6",
   "metadata": {},
   "outputs": [
    {
     "data": {
      "text/html": [
       "<style>#sk-container-id-17 {color: black;}#sk-container-id-17 pre{padding: 0;}#sk-container-id-17 div.sk-toggleable {background-color: white;}#sk-container-id-17 label.sk-toggleable__label {cursor: pointer;display: block;width: 100%;margin-bottom: 0;padding: 0.3em;box-sizing: border-box;text-align: center;}#sk-container-id-17 label.sk-toggleable__label-arrow:before {content: \"▸\";float: left;margin-right: 0.25em;color: #696969;}#sk-container-id-17 label.sk-toggleable__label-arrow:hover:before {color: black;}#sk-container-id-17 div.sk-estimator:hover label.sk-toggleable__label-arrow:before {color: black;}#sk-container-id-17 div.sk-toggleable__content {max-height: 0;max-width: 0;overflow: hidden;text-align: left;background-color: #f0f8ff;}#sk-container-id-17 div.sk-toggleable__content pre {margin: 0.2em;color: black;border-radius: 0.25em;background-color: #f0f8ff;}#sk-container-id-17 input.sk-toggleable__control:checked~div.sk-toggleable__content {max-height: 200px;max-width: 100%;overflow: auto;}#sk-container-id-17 input.sk-toggleable__control:checked~label.sk-toggleable__label-arrow:before {content: \"▾\";}#sk-container-id-17 div.sk-estimator input.sk-toggleable__control:checked~label.sk-toggleable__label {background-color: #d4ebff;}#sk-container-id-17 div.sk-label input.sk-toggleable__control:checked~label.sk-toggleable__label {background-color: #d4ebff;}#sk-container-id-17 input.sk-hidden--visually {border: 0;clip: rect(1px 1px 1px 1px);clip: rect(1px, 1px, 1px, 1px);height: 1px;margin: -1px;overflow: hidden;padding: 0;position: absolute;width: 1px;}#sk-container-id-17 div.sk-estimator {font-family: monospace;background-color: #f0f8ff;border: 1px dotted black;border-radius: 0.25em;box-sizing: border-box;margin-bottom: 0.5em;}#sk-container-id-17 div.sk-estimator:hover {background-color: #d4ebff;}#sk-container-id-17 div.sk-parallel-item::after {content: \"\";width: 100%;border-bottom: 1px solid gray;flex-grow: 1;}#sk-container-id-17 div.sk-label:hover label.sk-toggleable__label {background-color: #d4ebff;}#sk-container-id-17 div.sk-serial::before {content: \"\";position: absolute;border-left: 1px solid gray;box-sizing: border-box;top: 0;bottom: 0;left: 50%;z-index: 0;}#sk-container-id-17 div.sk-serial {display: flex;flex-direction: column;align-items: center;background-color: white;padding-right: 0.2em;padding-left: 0.2em;position: relative;}#sk-container-id-17 div.sk-item {position: relative;z-index: 1;}#sk-container-id-17 div.sk-parallel {display: flex;align-items: stretch;justify-content: center;background-color: white;position: relative;}#sk-container-id-17 div.sk-item::before, #sk-container-id-17 div.sk-parallel-item::before {content: \"\";position: absolute;border-left: 1px solid gray;box-sizing: border-box;top: 0;bottom: 0;left: 50%;z-index: -1;}#sk-container-id-17 div.sk-parallel-item {display: flex;flex-direction: column;z-index: 1;position: relative;background-color: white;}#sk-container-id-17 div.sk-parallel-item:first-child::after {align-self: flex-end;width: 50%;}#sk-container-id-17 div.sk-parallel-item:last-child::after {align-self: flex-start;width: 50%;}#sk-container-id-17 div.sk-parallel-item:only-child::after {width: 0;}#sk-container-id-17 div.sk-dashed-wrapped {border: 1px dashed gray;margin: 0 0.4em 0.5em 0.4em;box-sizing: border-box;padding-bottom: 0.4em;background-color: white;}#sk-container-id-17 div.sk-label label {font-family: monospace;font-weight: bold;display: inline-block;line-height: 1.2em;}#sk-container-id-17 div.sk-label-container {text-align: center;}#sk-container-id-17 div.sk-container {/* jupyter's `normalize.less` sets `[hidden] { display: none; }` but bootstrap.min.css set `[hidden] { display: none !important; }` so we also need the `!important` here to be able to override the default hidden behavior on the sphinx rendered scikit-learn.org. See: https://github.com/scikit-learn/scikit-learn/issues/21755 */display: inline-block !important;position: relative;}#sk-container-id-17 div.sk-text-repr-fallback {display: none;}</style><div id=\"sk-container-id-17\" class=\"sk-top-container\"><div class=\"sk-text-repr-fallback\"><pre>MinMaxScaler()</pre><b>In a Jupyter environment, please rerun this cell to show the HTML representation or trust the notebook. <br />On GitHub, the HTML representation is unable to render, please try loading this page with nbviewer.org.</b></div><div class=\"sk-container\" hidden><div class=\"sk-item\"><div class=\"sk-estimator sk-toggleable\"><input class=\"sk-toggleable__control sk-hidden--visually\" id=\"sk-estimator-id-53\" type=\"checkbox\" checked><label for=\"sk-estimator-id-53\" class=\"sk-toggleable__label sk-toggleable__label-arrow\">MinMaxScaler</label><div class=\"sk-toggleable__content\"><pre>MinMaxScaler()</pre></div></div></div></div></div>"
      ],
      "text/plain": [
       "MinMaxScaler()"
      ]
     },
     "execution_count": 130,
     "metadata": {},
     "output_type": "execute_result"
    }
   ],
   "source": [
    "scaler.fit(data[numerical_columns])"
   ]
  },
  {
   "cell_type": "code",
   "execution_count": 131,
   "id": "135c4b5f",
   "metadata": {},
   "outputs": [],
   "source": [
    "regressor = RandomForestRegressor(n_estimators=100, random_state=42) "
   ]
  },
  {
   "cell_type": "code",
   "execution_count": 148,
   "id": "e9db9639",
   "metadata": {},
   "outputs": [],
   "source": [
    "categories = [\n",
    "    [2020, 2021, 2022, 2023],  # work_year\n",
    "    ['SE', 'MI', 'EN', 'EX'],           # experience_level\n",
    "    ['Data Science & Machine Learning', 'Data Engineering & Infrastructure', 'Data Analysis & Analytics', 'Data Management', 'Artificial Intelligence (AI)', 'Business Intelligence (BI)'],  # job_title\n",
    "    ['North America', 'Europe', 'Other'],  # employee_residence\n",
    "    [0, 50, 100],                       # remote_ratio (treat as categories)\n",
    "    ['North America', 'Europe', 'Other'],  # company_location\n",
    "    ['S', 'M', 'L']                       # company_size\n",
    "]"
   ]
  },
  {
   "cell_type": "code",
   "execution_count": 149,
   "id": "ae441c88",
   "metadata": {},
   "outputs": [],
   "source": [
    "ct = ColumnTransformer(\n",
    "    transformers=[\n",
    "        ('encoder', OneHotEncoder(categories=categories), categorical_columns),\n",
    "        ('scaler', MinMaxScaler(), numerical_columns)\n",
    "    ],\n",
    "    remainder='passthrough'\n",
    ")"
   ]
  },
  {
   "cell_type": "code",
   "execution_count": 150,
   "id": "de878f58",
   "metadata": {},
   "outputs": [
    {
     "data": {
      "text/html": [
       "<style>#sk-container-id-19 {color: black;}#sk-container-id-19 pre{padding: 0;}#sk-container-id-19 div.sk-toggleable {background-color: white;}#sk-container-id-19 label.sk-toggleable__label {cursor: pointer;display: block;width: 100%;margin-bottom: 0;padding: 0.3em;box-sizing: border-box;text-align: center;}#sk-container-id-19 label.sk-toggleable__label-arrow:before {content: \"▸\";float: left;margin-right: 0.25em;color: #696969;}#sk-container-id-19 label.sk-toggleable__label-arrow:hover:before {color: black;}#sk-container-id-19 div.sk-estimator:hover label.sk-toggleable__label-arrow:before {color: black;}#sk-container-id-19 div.sk-toggleable__content {max-height: 0;max-width: 0;overflow: hidden;text-align: left;background-color: #f0f8ff;}#sk-container-id-19 div.sk-toggleable__content pre {margin: 0.2em;color: black;border-radius: 0.25em;background-color: #f0f8ff;}#sk-container-id-19 input.sk-toggleable__control:checked~div.sk-toggleable__content {max-height: 200px;max-width: 100%;overflow: auto;}#sk-container-id-19 input.sk-toggleable__control:checked~label.sk-toggleable__label-arrow:before {content: \"▾\";}#sk-container-id-19 div.sk-estimator input.sk-toggleable__control:checked~label.sk-toggleable__label {background-color: #d4ebff;}#sk-container-id-19 div.sk-label input.sk-toggleable__control:checked~label.sk-toggleable__label {background-color: #d4ebff;}#sk-container-id-19 input.sk-hidden--visually {border: 0;clip: rect(1px 1px 1px 1px);clip: rect(1px, 1px, 1px, 1px);height: 1px;margin: -1px;overflow: hidden;padding: 0;position: absolute;width: 1px;}#sk-container-id-19 div.sk-estimator {font-family: monospace;background-color: #f0f8ff;border: 1px dotted black;border-radius: 0.25em;box-sizing: border-box;margin-bottom: 0.5em;}#sk-container-id-19 div.sk-estimator:hover {background-color: #d4ebff;}#sk-container-id-19 div.sk-parallel-item::after {content: \"\";width: 100%;border-bottom: 1px solid gray;flex-grow: 1;}#sk-container-id-19 div.sk-label:hover label.sk-toggleable__label {background-color: #d4ebff;}#sk-container-id-19 div.sk-serial::before {content: \"\";position: absolute;border-left: 1px solid gray;box-sizing: border-box;top: 0;bottom: 0;left: 50%;z-index: 0;}#sk-container-id-19 div.sk-serial {display: flex;flex-direction: column;align-items: center;background-color: white;padding-right: 0.2em;padding-left: 0.2em;position: relative;}#sk-container-id-19 div.sk-item {position: relative;z-index: 1;}#sk-container-id-19 div.sk-parallel {display: flex;align-items: stretch;justify-content: center;background-color: white;position: relative;}#sk-container-id-19 div.sk-item::before, #sk-container-id-19 div.sk-parallel-item::before {content: \"\";position: absolute;border-left: 1px solid gray;box-sizing: border-box;top: 0;bottom: 0;left: 50%;z-index: -1;}#sk-container-id-19 div.sk-parallel-item {display: flex;flex-direction: column;z-index: 1;position: relative;background-color: white;}#sk-container-id-19 div.sk-parallel-item:first-child::after {align-self: flex-end;width: 50%;}#sk-container-id-19 div.sk-parallel-item:last-child::after {align-self: flex-start;width: 50%;}#sk-container-id-19 div.sk-parallel-item:only-child::after {width: 0;}#sk-container-id-19 div.sk-dashed-wrapped {border: 1px dashed gray;margin: 0 0.4em 0.5em 0.4em;box-sizing: border-box;padding-bottom: 0.4em;background-color: white;}#sk-container-id-19 div.sk-label label {font-family: monospace;font-weight: bold;display: inline-block;line-height: 1.2em;}#sk-container-id-19 div.sk-label-container {text-align: center;}#sk-container-id-19 div.sk-container {/* jupyter's `normalize.less` sets `[hidden] { display: none; }` but bootstrap.min.css set `[hidden] { display: none !important; }` so we also need the `!important` here to be able to override the default hidden behavior on the sphinx rendered scikit-learn.org. See: https://github.com/scikit-learn/scikit-learn/issues/21755 */display: inline-block !important;position: relative;}#sk-container-id-19 div.sk-text-repr-fallback {display: none;}</style><div id=\"sk-container-id-19\" class=\"sk-top-container\"><div class=\"sk-text-repr-fallback\"><pre>ColumnTransformer(remainder=&#x27;passthrough&#x27;,\n",
       "                  transformers=[(&#x27;encoder&#x27;,\n",
       "                                 OneHotEncoder(categories=[[2020, 2021, 2022,\n",
       "                                                            2023],\n",
       "                                                           [&#x27;SE&#x27;, &#x27;MI&#x27;, &#x27;EN&#x27;,\n",
       "                                                            &#x27;EX&#x27;],\n",
       "                                                           [&#x27;Data Science &amp; &#x27;\n",
       "                                                            &#x27;Machine Learning&#x27;,\n",
       "                                                            &#x27;Data Engineering &#x27;\n",
       "                                                            &#x27;&amp; Infrastructure&#x27;,\n",
       "                                                            &#x27;Data Analysis &amp; &#x27;\n",
       "                                                            &#x27;Analytics&#x27;,\n",
       "                                                            &#x27;Data Management&#x27;,\n",
       "                                                            &#x27;Artificial &#x27;\n",
       "                                                            &#x27;Intelligence (AI)&#x27;,\n",
       "                                                            &#x27;Business &#x27;\n",
       "                                                            &#x27;Intelligence &#x27;\n",
       "                                                            &#x27;(BI)&#x27;],\n",
       "                                                           [&#x27;North America&#x27;,\n",
       "                                                            &#x27;Europe&#x27;, &#x27;Other&#x27;],\n",
       "                                                           [0, 50, 100],\n",
       "                                                           [&#x27;North America&#x27;,\n",
       "                                                            &#x27;Europe&#x27;, &#x27;Other&#x27;],\n",
       "                                                           [&#x27;S&#x27;, &#x27;M&#x27;, &#x27;L&#x27;]]),\n",
       "                                 [&#x27;work_year&#x27;, &#x27;experience_level&#x27;, &#x27;job_title&#x27;,\n",
       "                                  &#x27;employee_residence&#x27;, &#x27;remote_ratio&#x27;,\n",
       "                                  &#x27;company_location&#x27;, &#x27;company_size&#x27;]),\n",
       "                                (&#x27;scaler&#x27;, MinMaxScaler(), [&#x27;salary_in_usd&#x27;])])</pre><b>In a Jupyter environment, please rerun this cell to show the HTML representation or trust the notebook. <br />On GitHub, the HTML representation is unable to render, please try loading this page with nbviewer.org.</b></div><div class=\"sk-container\" hidden><div class=\"sk-item sk-dashed-wrapped\"><div class=\"sk-label-container\"><div class=\"sk-label sk-toggleable\"><input class=\"sk-toggleable__control sk-hidden--visually\" id=\"sk-estimator-id-59\" type=\"checkbox\" ><label for=\"sk-estimator-id-59\" class=\"sk-toggleable__label sk-toggleable__label-arrow\">ColumnTransformer</label><div class=\"sk-toggleable__content\"><pre>ColumnTransformer(remainder=&#x27;passthrough&#x27;,\n",
       "                  transformers=[(&#x27;encoder&#x27;,\n",
       "                                 OneHotEncoder(categories=[[2020, 2021, 2022,\n",
       "                                                            2023],\n",
       "                                                           [&#x27;SE&#x27;, &#x27;MI&#x27;, &#x27;EN&#x27;,\n",
       "                                                            &#x27;EX&#x27;],\n",
       "                                                           [&#x27;Data Science &amp; &#x27;\n",
       "                                                            &#x27;Machine Learning&#x27;,\n",
       "                                                            &#x27;Data Engineering &#x27;\n",
       "                                                            &#x27;&amp; Infrastructure&#x27;,\n",
       "                                                            &#x27;Data Analysis &amp; &#x27;\n",
       "                                                            &#x27;Analytics&#x27;,\n",
       "                                                            &#x27;Data Management&#x27;,\n",
       "                                                            &#x27;Artificial &#x27;\n",
       "                                                            &#x27;Intelligence (AI)&#x27;,\n",
       "                                                            &#x27;Business &#x27;\n",
       "                                                            &#x27;Intelligence &#x27;\n",
       "                                                            &#x27;(BI)&#x27;],\n",
       "                                                           [&#x27;North America&#x27;,\n",
       "                                                            &#x27;Europe&#x27;, &#x27;Other&#x27;],\n",
       "                                                           [0, 50, 100],\n",
       "                                                           [&#x27;North America&#x27;,\n",
       "                                                            &#x27;Europe&#x27;, &#x27;Other&#x27;],\n",
       "                                                           [&#x27;S&#x27;, &#x27;M&#x27;, &#x27;L&#x27;]]),\n",
       "                                 [&#x27;work_year&#x27;, &#x27;experience_level&#x27;, &#x27;job_title&#x27;,\n",
       "                                  &#x27;employee_residence&#x27;, &#x27;remote_ratio&#x27;,\n",
       "                                  &#x27;company_location&#x27;, &#x27;company_size&#x27;]),\n",
       "                                (&#x27;scaler&#x27;, MinMaxScaler(), [&#x27;salary_in_usd&#x27;])])</pre></div></div></div><div class=\"sk-parallel\"><div class=\"sk-parallel-item\"><div class=\"sk-item\"><div class=\"sk-label-container\"><div class=\"sk-label sk-toggleable\"><input class=\"sk-toggleable__control sk-hidden--visually\" id=\"sk-estimator-id-60\" type=\"checkbox\" ><label for=\"sk-estimator-id-60\" class=\"sk-toggleable__label sk-toggleable__label-arrow\">encoder</label><div class=\"sk-toggleable__content\"><pre>[&#x27;work_year&#x27;, &#x27;experience_level&#x27;, &#x27;job_title&#x27;, &#x27;employee_residence&#x27;, &#x27;remote_ratio&#x27;, &#x27;company_location&#x27;, &#x27;company_size&#x27;]</pre></div></div></div><div class=\"sk-serial\"><div class=\"sk-item\"><div class=\"sk-estimator sk-toggleable\"><input class=\"sk-toggleable__control sk-hidden--visually\" id=\"sk-estimator-id-61\" type=\"checkbox\" ><label for=\"sk-estimator-id-61\" class=\"sk-toggleable__label sk-toggleable__label-arrow\">OneHotEncoder</label><div class=\"sk-toggleable__content\"><pre>OneHotEncoder(categories=[[2020, 2021, 2022, 2023], [&#x27;SE&#x27;, &#x27;MI&#x27;, &#x27;EN&#x27;, &#x27;EX&#x27;],\n",
       "                          [&#x27;Data Science &amp; Machine Learning&#x27;,\n",
       "                           &#x27;Data Engineering &amp; Infrastructure&#x27;,\n",
       "                           &#x27;Data Analysis &amp; Analytics&#x27;, &#x27;Data Management&#x27;,\n",
       "                           &#x27;Artificial Intelligence (AI)&#x27;,\n",
       "                           &#x27;Business Intelligence (BI)&#x27;],\n",
       "                          [&#x27;North America&#x27;, &#x27;Europe&#x27;, &#x27;Other&#x27;], [0, 50, 100],\n",
       "                          [&#x27;North America&#x27;, &#x27;Europe&#x27;, &#x27;Other&#x27;],\n",
       "                          [&#x27;S&#x27;, &#x27;M&#x27;, &#x27;L&#x27;]])</pre></div></div></div></div></div></div><div class=\"sk-parallel-item\"><div class=\"sk-item\"><div class=\"sk-label-container\"><div class=\"sk-label sk-toggleable\"><input class=\"sk-toggleable__control sk-hidden--visually\" id=\"sk-estimator-id-62\" type=\"checkbox\" ><label for=\"sk-estimator-id-62\" class=\"sk-toggleable__label sk-toggleable__label-arrow\">scaler</label><div class=\"sk-toggleable__content\"><pre>[&#x27;salary_in_usd&#x27;]</pre></div></div></div><div class=\"sk-serial\"><div class=\"sk-item\"><div class=\"sk-estimator sk-toggleable\"><input class=\"sk-toggleable__control sk-hidden--visually\" id=\"sk-estimator-id-63\" type=\"checkbox\" ><label for=\"sk-estimator-id-63\" class=\"sk-toggleable__label sk-toggleable__label-arrow\">MinMaxScaler</label><div class=\"sk-toggleable__content\"><pre>MinMaxScaler()</pre></div></div></div></div></div></div><div class=\"sk-parallel-item\"><div class=\"sk-item\"><div class=\"sk-label-container\"><div class=\"sk-label sk-toggleable\"><input class=\"sk-toggleable__control sk-hidden--visually\" id=\"sk-estimator-id-64\" type=\"checkbox\" ><label for=\"sk-estimator-id-64\" class=\"sk-toggleable__label sk-toggleable__label-arrow\">remainder</label><div class=\"sk-toggleable__content\"><pre>[]</pre></div></div></div><div class=\"sk-serial\"><div class=\"sk-item\"><div class=\"sk-estimator sk-toggleable\"><input class=\"sk-toggleable__control sk-hidden--visually\" id=\"sk-estimator-id-65\" type=\"checkbox\" ><label for=\"sk-estimator-id-65\" class=\"sk-toggleable__label sk-toggleable__label-arrow\">passthrough</label><div class=\"sk-toggleable__content\"><pre>passthrough</pre></div></div></div></div></div></div></div></div></div></div>"
      ],
      "text/plain": [
       "ColumnTransformer(remainder='passthrough',\n",
       "                  transformers=[('encoder',\n",
       "                                 OneHotEncoder(categories=[[2020, 2021, 2022,\n",
       "                                                            2023],\n",
       "                                                           ['SE', 'MI', 'EN',\n",
       "                                                            'EX'],\n",
       "                                                           ['Data Science & '\n",
       "                                                            'Machine Learning',\n",
       "                                                            'Data Engineering '\n",
       "                                                            '& Infrastructure',\n",
       "                                                            'Data Analysis & '\n",
       "                                                            'Analytics',\n",
       "                                                            'Data Management',\n",
       "                                                            'Artificial '\n",
       "                                                            'Intelligence (AI)',\n",
       "                                                            'Business '\n",
       "                                                            'Intelligence '\n",
       "                                                            '(BI)'],\n",
       "                                                           ['North America',\n",
       "                                                            'Europe', 'Other'],\n",
       "                                                           [0, 50, 100],\n",
       "                                                           ['North America',\n",
       "                                                            'Europe', 'Other'],\n",
       "                                                           ['S', 'M', 'L']]),\n",
       "                                 ['work_year', 'experience_level', 'job_title',\n",
       "                                  'employee_residence', 'remote_ratio',\n",
       "                                  'company_location', 'company_size']),\n",
       "                                ('scaler', MinMaxScaler(), ['salary_in_usd'])])"
      ]
     },
     "execution_count": 150,
     "metadata": {},
     "output_type": "execute_result"
    }
   ],
   "source": [
    "ct.fit(data)"
   ]
  },
  {
   "cell_type": "code",
   "execution_count": 151,
   "id": "b9c4e677",
   "metadata": {},
   "outputs": [],
   "source": [
    "pipeline = Pipeline(steps=[('preprocessor', ct),\n",
    "                           ('regressor', regressor)])"
   ]
  },
  {
   "cell_type": "code",
   "execution_count": 152,
   "id": "361f2c77",
   "metadata": {},
   "outputs": [],
   "source": [
    "with open('model.pkl', 'wb') as file:\n",
    "    pickle.dump((scaler, ct, pipeline), file)"
   ]
  },
  {
   "cell_type": "code",
   "execution_count": null,
   "id": "0af6423e",
   "metadata": {},
   "outputs": [],
   "source": [
    "pipeline.fit(X_train)\n",
    "pipeline.predict(X_new)"
   ]
  },
  {
   "cell_type": "code",
   "execution_count": null,
   "id": "8cd0f301",
   "metadata": {},
   "outputs": [],
   "source": [
    "with open('pipeline.pkl', 'wb') as file:\n",
    "    pickle.dump(pipeline, file)"
   ]
  },
  {
   "cell_type": "code",
   "execution_count": null,
   "id": "20b743cc",
   "metadata": {},
   "outputs": [],
   "source": [
    "with open('pipeline.pkl', 'rb') as file:\n",
    "    pipeline=pickle.load(file)"
   ]
  },
  {
   "cell_type": "code",
   "execution_count": null,
   "id": "72f623c4",
   "metadata": {},
   "outputs": [],
   "source": []
  },
  {
   "cell_type": "code",
   "execution_count": null,
   "id": "37130b6d",
   "metadata": {},
   "outputs": [],
   "source": []
  },
  {
   "cell_type": "code",
   "execution_count": null,
   "id": "195f097c",
   "metadata": {},
   "outputs": [],
   "source": []
  },
  {
   "cell_type": "code",
   "execution_count": null,
   "id": "531c4f52",
   "metadata": {},
   "outputs": [],
   "source": []
  },
  {
   "cell_type": "code",
   "execution_count": null,
   "id": "79713866",
   "metadata": {},
   "outputs": [],
   "source": []
  },
  {
   "cell_type": "code",
   "execution_count": null,
   "id": "e21292f6",
   "metadata": {},
   "outputs": [],
   "source": []
  }
 ],
 "metadata": {
  "kernelspec": {
   "display_name": "Python 3 (ipykernel)",
   "language": "python",
   "name": "python3"
  },
  "language_info": {
   "codemirror_mode": {
    "name": "ipython",
    "version": 3
   },
   "file_extension": ".py",
   "mimetype": "text/x-python",
   "name": "python",
   "nbconvert_exporter": "python",
   "pygments_lexer": "ipython3",
   "version": "3.11.8"
  }
 },
 "nbformat": 4,
 "nbformat_minor": 5
}
