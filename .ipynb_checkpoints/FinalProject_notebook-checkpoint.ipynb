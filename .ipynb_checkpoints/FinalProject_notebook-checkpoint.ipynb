{
 "cells": [
  {
   "cell_type": "code",
   "execution_count": 1,
   "id": "7d26e250",
   "metadata": {},
   "outputs": [],
   "source": [
    "import pandas as pd\n",
    "import seaborn as sns\n",
    "import matplotlib.pyplot as plt\n",
    "import numpy as np\n",
    "from scipy.stats.contingency import association\n",
    "from scipy.stats import chi2_contingency\n",
    "from sklearn.model_selection import train_test_split\n",
    "import plotly.express as px\n",
    "\n",
    "%matplotlib inline"
   ]
  },
  {
   "cell_type": "code",
   "execution_count": 2,
   "id": "18e59d16",
   "metadata": {},
   "outputs": [],
   "source": [
    "df1 = pd.read_csv(\"ds_salaries.csv\")\n",
    "df2 = pd.read_csv(\"ds_salaries_2022.csv\", index_col=0)"
   ]
  },
  {
   "cell_type": "code",
   "execution_count": 3,
   "id": "f062a890",
   "metadata": {},
   "outputs": [],
   "source": [
    "#df1.head()"
   ]
  },
  {
   "cell_type": "code",
   "execution_count": 4,
   "id": "bed3c2b5",
   "metadata": {},
   "outputs": [],
   "source": [
    "#df2.head()"
   ]
  },
  {
   "cell_type": "code",
   "execution_count": 5,
   "id": "fd378828",
   "metadata": {},
   "outputs": [
    {
     "data": {
      "text/plain": [
       "(3755, 11)"
      ]
     },
     "execution_count": 5,
     "metadata": {},
     "output_type": "execute_result"
    }
   ],
   "source": [
    "df1.shape"
   ]
  },
  {
   "cell_type": "code",
   "execution_count": 6,
   "id": "4aea1065",
   "metadata": {},
   "outputs": [
    {
     "data": {
      "text/plain": [
       "(607, 11)"
      ]
     },
     "execution_count": 6,
     "metadata": {},
     "output_type": "execute_result"
    }
   ],
   "source": [
    "df2.shape"
   ]
  },
  {
   "cell_type": "code",
   "execution_count": 7,
   "id": "a6bce839",
   "metadata": {},
   "outputs": [],
   "source": [
    "#df1.info()"
   ]
  },
  {
   "cell_type": "code",
   "execution_count": 8,
   "id": "5371c111",
   "metadata": {},
   "outputs": [],
   "source": [
    "#df2.info()"
   ]
  },
  {
   "cell_type": "code",
   "execution_count": 9,
   "id": "082160e2",
   "metadata": {},
   "outputs": [],
   "source": [
    "#df1.describe()"
   ]
  },
  {
   "cell_type": "code",
   "execution_count": 10,
   "id": "ea20c398",
   "metadata": {},
   "outputs": [],
   "source": [
    "#df2.describe()"
   ]
  },
  {
   "cell_type": "code",
   "execution_count": 11,
   "id": "0f9b8737",
   "metadata": {},
   "outputs": [],
   "source": [
    "df = pd.concat([df1, df2], ignore_index=True)"
   ]
  },
  {
   "cell_type": "code",
   "execution_count": 12,
   "id": "fefdcc65",
   "metadata": {},
   "outputs": [],
   "source": [
    "#df.head()"
   ]
  },
  {
   "cell_type": "code",
   "execution_count": 13,
   "id": "6fb1fbcf",
   "metadata": {},
   "outputs": [
    {
     "data": {
      "text/plain": [
       "work_year             0\n",
       "experience_level      0\n",
       "employment_type       0\n",
       "job_title             0\n",
       "salary                0\n",
       "salary_currency       0\n",
       "salary_in_usd         0\n",
       "employee_residence    0\n",
       "remote_ratio          0\n",
       "company_location      0\n",
       "company_size          0\n",
       "dtype: int64"
      ]
     },
     "execution_count": 13,
     "metadata": {},
     "output_type": "execute_result"
    }
   ],
   "source": [
    "df.isna().sum()"
   ]
  },
  {
   "cell_type": "code",
   "execution_count": 14,
   "id": "694ad4e8",
   "metadata": {},
   "outputs": [
    {
     "data": {
      "text/plain": [
       "1171"
      ]
     },
     "execution_count": 14,
     "metadata": {},
     "output_type": "execute_result"
    }
   ],
   "source": [
    "df1.duplicated().sum()"
   ]
  },
  {
   "cell_type": "code",
   "execution_count": 15,
   "id": "8f0c94e3",
   "metadata": {},
   "outputs": [
    {
     "data": {
      "text/plain": [
       "42"
      ]
     },
     "execution_count": 15,
     "metadata": {},
     "output_type": "execute_result"
    }
   ],
   "source": [
    "df2.duplicated().sum()"
   ]
  },
  {
   "cell_type": "code",
   "execution_count": 16,
   "id": "0f4f0181",
   "metadata": {},
   "outputs": [
    {
     "data": {
      "text/plain": [
       "(4362, 11)"
      ]
     },
     "execution_count": 16,
     "metadata": {},
     "output_type": "execute_result"
    }
   ],
   "source": [
    "df.shape"
   ]
  },
  {
   "cell_type": "code",
   "execution_count": 17,
   "id": "3f882f9d",
   "metadata": {},
   "outputs": [
    {
     "data": {
      "text/html": [
       "<div>\n",
       "<style scoped>\n",
       "    .dataframe tbody tr th:only-of-type {\n",
       "        vertical-align: middle;\n",
       "    }\n",
       "\n",
       "    .dataframe tbody tr th {\n",
       "        vertical-align: top;\n",
       "    }\n",
       "\n",
       "    .dataframe thead th {\n",
       "        text-align: right;\n",
       "    }\n",
       "</style>\n",
       "<table border=\"1\" class=\"dataframe\">\n",
       "  <thead>\n",
       "    <tr style=\"text-align: right;\">\n",
       "      <th></th>\n",
       "      <th>work_year</th>\n",
       "      <th>experience_level</th>\n",
       "      <th>employment_type</th>\n",
       "      <th>job_title</th>\n",
       "      <th>salary</th>\n",
       "      <th>salary_currency</th>\n",
       "      <th>salary_in_usd</th>\n",
       "      <th>employee_residence</th>\n",
       "      <th>remote_ratio</th>\n",
       "      <th>company_location</th>\n",
       "      <th>company_size</th>\n",
       "    </tr>\n",
       "  </thead>\n",
       "  <tbody>\n",
       "    <tr>\n",
       "      <th>115</th>\n",
       "      <td>2023</td>\n",
       "      <td>SE</td>\n",
       "      <td>FT</td>\n",
       "      <td>Data Scientist</td>\n",
       "      <td>150000</td>\n",
       "      <td>USD</td>\n",
       "      <td>150000</td>\n",
       "      <td>US</td>\n",
       "      <td>0</td>\n",
       "      <td>US</td>\n",
       "      <td>M</td>\n",
       "    </tr>\n",
       "    <tr>\n",
       "      <th>123</th>\n",
       "      <td>2023</td>\n",
       "      <td>SE</td>\n",
       "      <td>FT</td>\n",
       "      <td>Analytics Engineer</td>\n",
       "      <td>289800</td>\n",
       "      <td>USD</td>\n",
       "      <td>289800</td>\n",
       "      <td>US</td>\n",
       "      <td>0</td>\n",
       "      <td>US</td>\n",
       "      <td>M</td>\n",
       "    </tr>\n",
       "    <tr>\n",
       "      <th>153</th>\n",
       "      <td>2023</td>\n",
       "      <td>MI</td>\n",
       "      <td>FT</td>\n",
       "      <td>Data Engineer</td>\n",
       "      <td>100000</td>\n",
       "      <td>USD</td>\n",
       "      <td>100000</td>\n",
       "      <td>US</td>\n",
       "      <td>100</td>\n",
       "      <td>US</td>\n",
       "      <td>M</td>\n",
       "    </tr>\n",
       "    <tr>\n",
       "      <th>154</th>\n",
       "      <td>2023</td>\n",
       "      <td>MI</td>\n",
       "      <td>FT</td>\n",
       "      <td>Data Engineer</td>\n",
       "      <td>70000</td>\n",
       "      <td>USD</td>\n",
       "      <td>70000</td>\n",
       "      <td>US</td>\n",
       "      <td>100</td>\n",
       "      <td>US</td>\n",
       "      <td>M</td>\n",
       "    </tr>\n",
       "    <tr>\n",
       "      <th>160</th>\n",
       "      <td>2023</td>\n",
       "      <td>SE</td>\n",
       "      <td>FT</td>\n",
       "      <td>Data Engineer</td>\n",
       "      <td>115000</td>\n",
       "      <td>USD</td>\n",
       "      <td>115000</td>\n",
       "      <td>US</td>\n",
       "      <td>0</td>\n",
       "      <td>US</td>\n",
       "      <td>M</td>\n",
       "    </tr>\n",
       "    <tr>\n",
       "      <th>163</th>\n",
       "      <td>2023</td>\n",
       "      <td>SE</td>\n",
       "      <td>FT</td>\n",
       "      <td>Applied Scientist</td>\n",
       "      <td>309400</td>\n",
       "      <td>USD</td>\n",
       "      <td>309400</td>\n",
       "      <td>US</td>\n",
       "      <td>0</td>\n",
       "      <td>US</td>\n",
       "      <td>L</td>\n",
       "    </tr>\n",
       "    <tr>\n",
       "      <th>164</th>\n",
       "      <td>2023</td>\n",
       "      <td>SE</td>\n",
       "      <td>FT</td>\n",
       "      <td>Applied Scientist</td>\n",
       "      <td>159100</td>\n",
       "      <td>USD</td>\n",
       "      <td>159100</td>\n",
       "      <td>US</td>\n",
       "      <td>0</td>\n",
       "      <td>US</td>\n",
       "      <td>L</td>\n",
       "    </tr>\n",
       "    <tr>\n",
       "      <th>167</th>\n",
       "      <td>2023</td>\n",
       "      <td>MI</td>\n",
       "      <td>FT</td>\n",
       "      <td>Data Engineer</td>\n",
       "      <td>162500</td>\n",
       "      <td>USD</td>\n",
       "      <td>162500</td>\n",
       "      <td>US</td>\n",
       "      <td>0</td>\n",
       "      <td>US</td>\n",
       "      <td>M</td>\n",
       "    </tr>\n",
       "    <tr>\n",
       "      <th>168</th>\n",
       "      <td>2023</td>\n",
       "      <td>MI</td>\n",
       "      <td>FT</td>\n",
       "      <td>Data Engineer</td>\n",
       "      <td>130000</td>\n",
       "      <td>USD</td>\n",
       "      <td>130000</td>\n",
       "      <td>US</td>\n",
       "      <td>0</td>\n",
       "      <td>US</td>\n",
       "      <td>M</td>\n",
       "    </tr>\n",
       "    <tr>\n",
       "      <th>171</th>\n",
       "      <td>2023</td>\n",
       "      <td>SE</td>\n",
       "      <td>FT</td>\n",
       "      <td>Data Engineer</td>\n",
       "      <td>145000</td>\n",
       "      <td>USD</td>\n",
       "      <td>145000</td>\n",
       "      <td>US</td>\n",
       "      <td>0</td>\n",
       "      <td>US</td>\n",
       "      <td>M</td>\n",
       "    </tr>\n",
       "  </tbody>\n",
       "</table>\n",
       "</div>"
      ],
      "text/plain": [
       "     work_year experience_level employment_type           job_title  salary  \\\n",
       "115       2023               SE              FT      Data Scientist  150000   \n",
       "123       2023               SE              FT  Analytics Engineer  289800   \n",
       "153       2023               MI              FT       Data Engineer  100000   \n",
       "154       2023               MI              FT       Data Engineer   70000   \n",
       "160       2023               SE              FT       Data Engineer  115000   \n",
       "163       2023               SE              FT   Applied Scientist  309400   \n",
       "164       2023               SE              FT   Applied Scientist  159100   \n",
       "167       2023               MI              FT       Data Engineer  162500   \n",
       "168       2023               MI              FT       Data Engineer  130000   \n",
       "171       2023               SE              FT       Data Engineer  145000   \n",
       "\n",
       "    salary_currency  salary_in_usd employee_residence  remote_ratio  \\\n",
       "115             USD         150000                 US             0   \n",
       "123             USD         289800                 US             0   \n",
       "153             USD         100000                 US           100   \n",
       "154             USD          70000                 US           100   \n",
       "160             USD         115000                 US             0   \n",
       "163             USD         309400                 US             0   \n",
       "164             USD         159100                 US             0   \n",
       "167             USD         162500                 US             0   \n",
       "168             USD         130000                 US             0   \n",
       "171             USD         145000                 US             0   \n",
       "\n",
       "    company_location company_size  \n",
       "115               US            M  \n",
       "123               US            M  \n",
       "153               US            M  \n",
       "154               US            M  \n",
       "160               US            M  \n",
       "163               US            L  \n",
       "164               US            L  \n",
       "167               US            M  \n",
       "168               US            M  \n",
       "171               US            M  "
      ]
     },
     "execution_count": 17,
     "metadata": {},
     "output_type": "execute_result"
    }
   ],
   "source": [
    "duplicate_rows = df[df.duplicated()]\n",
    "duplicate_rows.head(10)\n",
    "#print(len(duplicate_rows))"
   ]
  },
  {
   "cell_type": "code",
   "execution_count": 18,
   "id": "6306a6f5",
   "metadata": {},
   "outputs": [],
   "source": [
    "#df_no_dup = df.drop_duplicates(keep='last')"
   ]
  },
  {
   "cell_type": "code",
   "execution_count": 19,
   "id": "4785c7dd",
   "metadata": {},
   "outputs": [],
   "source": [
    "#df_no_dup.shape"
   ]
  },
  {
   "cell_type": "code",
   "execution_count": 20,
   "id": "128b5d40",
   "metadata": {},
   "outputs": [
    {
     "data": {
      "text/plain": [
       "work_year\n",
       "2022    1982\n",
       "2023    1785\n",
       "2021     447\n",
       "2020     148\n",
       "Name: count, dtype: int64"
      ]
     },
     "execution_count": 20,
     "metadata": {},
     "output_type": "execute_result"
    }
   ],
   "source": [
    "df['work_year'].value_counts()"
   ]
  },
  {
   "cell_type": "code",
   "execution_count": 21,
   "id": "e86b3383",
   "metadata": {},
   "outputs": [
    {
     "data": {
      "image/png": "[encoded data removed]",
      "text/plain": [
       "<Figure size 640x480 with 1 Axes>"
      ]
     },
     "metadata": {},
     "output_type": "display_data"
    }
   ],
   "source": [
    "sns.histplot(df['experience_level'], bins=4, kde=False)\n",
    "plt.title('Experience Level Distribution')\n",
    "plt.xlabel('Experience Level')\n",
    "plt.ylabel('Frequency')\n",
    "plt.show()"
   ]
  },
  {
   "cell_type": "code",
   "execution_count": 22,
   "id": "09d33354",
   "metadata": {},
   "outputs": [
    {
     "data": {
      "image/png": "[encoded data removed]",
      "text/plain": [
       "<Figure size 640x480 with 1 Axes>"
      ]
     },
     "metadata": {},
     "output_type": "display_data"
    }
   ],
   "source": [
    "sns.histplot(df['company_size'], bins=3, kde=False)\n",
    "plt.title('Company Size Distribution')\n",
    "plt.xlabel('Company Size')\n",
    "plt.ylabel('Frequency')\n",
    "plt.show()"
   ]
  },
  {
   "cell_type": "code",
   "execution_count": 23,
   "id": "08eeb4b0",
   "metadata": {},
   "outputs": [
    {
     "data": {
      "image/png": "[encoded data removed]",
      "text/plain": [
       "<Figure size 640x480 with 1 Axes>"
      ]
     },
     "metadata": {},
     "output_type": "display_data"
    }
   ],
   "source": [
    "sns.histplot(df['employment_type'], bins=4, kde=False)\n",
    "plt.title('Employment Type Distribution')\n",
    "plt.xlabel('Employment Type')\n",
    "plt.ylabel('Frequency')\n",
    "plt.show()"
   ]
  },
  {
   "cell_type": "code",
   "execution_count": 24,
   "id": "cfbb0d54",
   "metadata": {},
   "outputs": [
    {
     "data": {
      "text/plain": [
       "employment_type\n",
       "FT    4306\n",
       "PT      27\n",
       "CT      15\n",
       "FL      14\n",
       "Name: count, dtype: int64"
      ]
     },
     "execution_count": 24,
     "metadata": {},
     "output_type": "execute_result"
    }
   ],
   "source": [
    "df['employment_type'].value_counts()"
   ]
  },
  {
   "cell_type": "code",
   "execution_count": 25,
   "id": "8822eb1c",
   "metadata": {},
   "outputs": [],
   "source": [
    "df = df[df['employment_type'] == 'FT']"
   ]
  },
  {
   "cell_type": "code",
   "execution_count": 26,
   "id": "d133ee6f",
   "metadata": {},
   "outputs": [
    {
     "data": {
      "image/png": "[encoded data removed]",
      "text/plain": [
       "<Figure size 640x480 with 1 Axes>"
      ]
     },
     "metadata": {},
     "output_type": "display_data"
    }
   ],
   "source": [
    "sns.histplot(df['employment_type'], bins=4, kde=False)\n",
    "plt.title('Employment Type Distribution')\n",
    "plt.xlabel('Employment Type')\n",
    "plt.ylabel('Frequency')\n",
    "plt.show()"
   ]
  },
  {
   "cell_type": "code",
   "execution_count": 27,
   "id": "b042b69d",
   "metadata": {},
   "outputs": [],
   "source": [
    "df.drop(columns=['employment_type'], inplace=True)"
   ]
  },
  {
   "cell_type": "code",
   "execution_count": 28,
   "id": "7357bb9e",
   "metadata": {},
   "outputs": [
    {
     "data": {
      "image/png": "[encoded data removed]",
      "text/plain": [
       "<Figure size 640x480 with 1 Axes>"
      ]
     },
     "metadata": {},
     "output_type": "display_data"
    }
   ],
   "source": [
    "sns.boxplot(x='salary_in_usd', data=df)\n",
    "plt.title('Salary in USD distribution')\n",
    "plt.xlabel('Salary in USD')\n",
    "plt.show() "
   ]
  },
  {
   "cell_type": "code",
   "execution_count": 29,
   "id": "f670206f",
   "metadata": {},
   "outputs": [
    {
     "data": {
      "image/png": "[encoded data removed]",
      "text/plain": [
       "<Figure size 640x480 with 1 Axes>"
      ]
     },
     "metadata": {},
     "output_type": "display_data"
    }
   ],
   "source": [
    "sns.boxplot(x='work_year', y='salary_in_usd', data=df)\n",
    "plt.title('Salary in USD distribution by Work Year')\n",
    "plt.xlabel('Work Year')\n",
    "plt.ylabel('Salary in USD')\n",
    "plt.show()"
   ]
  },
  {
   "cell_type": "code",
   "execution_count": 30,
   "id": "4100d724",
   "metadata": {},
   "outputs": [
    {
     "data": {
      "text/plain": [
       "array(['Principal Data Scientist', 'Data Scientist', 'Applied Scientist',\n",
       "       'Data Analyst', 'Data Modeler', 'Research Engineer',\n",
       "       'Analytics Engineer', 'Business Intelligence Engineer',\n",
       "       'Machine Learning Engineer', 'Data Strategist', 'Data Engineer',\n",
       "       'Computer Vision Engineer', 'Data Quality Analyst',\n",
       "       'Compliance Data Analyst', 'Data Architect',\n",
       "       'Applied Machine Learning Engineer', 'AI Developer',\n",
       "       'Research Scientist', 'Data Analytics Manager',\n",
       "       'Business Data Analyst', 'Applied Data Scientist',\n",
       "       'Staff Data Analyst', 'ETL Engineer', 'Data DevOps Engineer',\n",
       "       'Head of Data', 'Data Science Manager', 'Data Manager',\n",
       "       'Big Data Engineer', 'Data Specialist', 'Lead Data Analyst',\n",
       "       'BI Data Engineer', 'Director of Data Science',\n",
       "       'Machine Learning Scientist', 'MLOps Engineer', 'AI Scientist',\n",
       "       'Autonomous Vehicle Technician',\n",
       "       'Applied Machine Learning Scientist', 'Lead Data Scientist',\n",
       "       'Cloud Database Engineer', 'Financial Data Analyst',\n",
       "       'Data Infrastructure Engineer', 'ML Engineer',\n",
       "       'Software Data Engineer', 'AI Programmer',\n",
       "       'Data Operations Engineer', 'BI Developer', 'Data Science Lead',\n",
       "       'Deep Learning Researcher', 'BI Analyst',\n",
       "       'Data Science Consultant', 'Data Analytics Specialist',\n",
       "       'Machine Learning Infrastructure Engineer', 'BI Data Analyst',\n",
       "       'Head of Data Science', 'Insight Analyst',\n",
       "       'Deep Learning Engineer', 'Machine Learning Software Engineer',\n",
       "       'Big Data Architect', 'Product Data Analyst',\n",
       "       'Computer Vision Software Engineer', 'Azure Data Engineer',\n",
       "       'Marketing Data Engineer', 'Data Analytics Lead', 'Data Lead',\n",
       "       'Data Science Engineer', 'Machine Learning Research Engineer',\n",
       "       'NLP Engineer', 'Manager Data Management',\n",
       "       'Machine Learning Developer', '3D Computer Vision Researcher',\n",
       "       'Principal Machine Learning Engineer',\n",
       "       'Machine Learning Researcher', 'Data Analytics Engineer',\n",
       "       'Data Management Specialist', 'Data Science Tech Lead',\n",
       "       'Data Scientist Lead', 'Cloud Data Engineer',\n",
       "       'Data Operations Analyst', 'Marketing Data Analyst',\n",
       "       'Power BI Developer', 'Product Data Scientist',\n",
       "       'Principal Data Architect', 'Machine Learning Manager',\n",
       "       'Lead Machine Learning Engineer', 'ETL Developer',\n",
       "       'Data Analytics Consultant', 'Cloud Data Architect',\n",
       "       'Lead Data Engineer', 'Head of Machine Learning',\n",
       "       'Principal Data Analyst', 'Principal Data Engineer',\n",
       "       'Finance Data Analyst', 'Data Engineering Manager',\n",
       "       'Director of Data Engineering'], dtype=object)"
      ]
     },
     "execution_count": 30,
     "metadata": {},
     "output_type": "execute_result"
    }
   ],
   "source": [
    "df['job_title'].unique()"
   ]
  },
  {
   "cell_type": "code",
   "execution_count": 169,
   "id": "ee51323d",
   "metadata": {},
   "outputs": [],
   "source": [
    "job_categories = {\n",
    "    \"Principal Data Scientist\": \"Data Science & Machine Learning\",\n",
    "    \"ML Engineer\": \"Data Science & Machine Learning\",\n",
    "    \"Data Scientist\": \"Data Science & Machine Learning\",\n",
    "    \"Applied Scientist\": \"Data Science & Machine Learning\",\n",
    "    \"Research Scientist\": \"Data Science & Machine Learning\",\n",
    "    \"Applied Machine Learning Engineer\": \"Data Science & Machine Learning\",\n",
    "    \"Machine Learning Researcher\": \"Data Science & Machine Learning\",\n",
    "    \"Machine Learning Scientist\": \"Data Science & Machine Learning\",\n",
    "    \"Applied Machine Learning Scientist\": \"Data Science & Machine Learning\",\n",
    "    \"Deep Learning Researcher\": \"Data Science & Machine Learning\",\n",
    "    \"Machine Learning Infrastructure Engineer\": \"Data Science & Machine Learning\",\n",
    "    \"NLP Engineer\": \"Data Science & Machine Learning\",\n",
    "    \"Machine Learning Research Engineer\": \"Data Science & Machine Learning\",\n",
    "    \"Principal Machine Learning Engineer\": \"Data Science & Machine Learning\",\n",
    "    \"Machine Learning Manager\": \"Data Science & Machine Learning\",\n",
    "    \"Lead Machine Learning Engineer\": \"Data Science & Machine Learning\",\n",
    "    \"Machine Learning Developer\": \"Data Science & Machine Learning\",\n",
    "    \"Data Analyst\": \"Data Analysis & Analytics\",\n",
    "    \"Analytics Engineer\": \"Data Analysis & Analytics\",\n",
    "    \"Data Analytics Manager\": \"Data Analysis & Analytics\",\n",
    "    \"Business Data Analyst\": \"Data Analysis & Analytics\",\n",
    "    \"Staff Data Analyst\": \"Data Analysis & Analytics\",\n",
    "    \"Lead Data Analyst\": \"Data Analysis & Analytics\",\n",
    "    \"BI Data Analyst\": \"Data Analysis & Analytics\",\n",
    "    \"Insight Analyst\": \"Data Analysis & Analytics\",\n",
    "    \"BI Analyst\": \"Data Analysis & Analytics\",\n",
    "    \"Data Analytics Specialist\": \"Data Analysis & Analytics\",\n",
    "    \"Data Analytics Lead\": \"Data Analysis & Analytics\",\n",
    "    \"Product Data Analyst\": \"Data Analysis & Analytics\",\n",
    "    \"Marketing Data Analyst\": \"Data Analysis & Analytics\",\n",
    "    \"Finance Data Analyst\": \"Data Analysis & Analytics\",\n",
    "    \"Data Modeler\": \"Data Engineering & Infrastructure\",\n",
    "    \"Data Engineer\": \"Data Engineering & Infrastructure\",\n",
    "    \"ETL Engineer\": \"Data Engineering & Infrastructure\",\n",
    "    \"Data DevOps Engineer\": \"Data Engineering & Infrastructure\",\n",
    "    \"Big Data Engineer\": \"Data Engineering & Infrastructure\",\n",
    "    \"Cloud Database Engineer\": \"Data Engineering & Infrastructure\",\n",
    "    \"Data Infrastructure Engineer\": \"Data Engineering & Infrastructure\",\n",
    "    \"Software Data Engineer\": \"Data Engineering & Infrastructure\",\n",
    "    \"Data Operations Engineer\": \"Data Engineering & Infrastructure\",\n",
    "    \"Cloud Data Engineer\": \"Data Engineering & Infrastructure\",\n",
    "    \"ETL Developer\": \"Data Engineering & Infrastructure\",\n",
    "    \"Cloud Data Architect\": \"Data Engineering & Infrastructure\",\n",
    "    \"Lead Data Engineer\": \"Data Engineering & Infrastructure\",\n",
    "    \"Principal Data Engineer\": \"Data Engineering & Infrastructure\",\n",
    "    \"Staff Data Scientist\": \"Data Engineering & Infrastructure\",\n",
    "    \"Business Intelligence Engineer\": \"Business Intelligence (BI)\",\n",
    "    \"BI Data Engineer\": \"Business Intelligence (BI)\",\n",
    "    \"BI Developer\": \"Business Intelligence (BI)\",\n",
    "    \"Head of Data Science\": \"Business Intelligence (BI)\",\n",
    "    \"BI Data Analyst\": \"Business Intelligence (BI)\",\n",
    "    \"Power BI Developer\": \"Business Intelligence (BI)\",\n",
    "    \"Data Strategist\": \"Data Management\",\n",
    "    \"Director of Data Science\": \"Data Management\",\n",
    "    \"Head of Data\": \"Data Management\",\n",
    "    \"Data Science Manager\": \"Data Management\",\n",
    "    \"Data Manager\": \"Data Management\",\n",
    "    \"Manager Data Management\": \"Data Management\",\n",
    "    \"Data Management Specialist\": \"Data Management\",\n",
    "    \"MLOps Engineer\": \"Artificial Intelligence (AI)\",\n",
    "    \"Computer Vision Engineer\": \"Artificial Intelligence (AI)\",\n",
    "    \"Computer Vision Software Engineer\": \"Artificial Intelligence (AI)\",\n",
    "    \"3D Computer Vision Researcher\": \"Artificial Intelligence (AI)\",\n",
    "    \"AI Developer\": \"Artificial Intelligence (AI)\",\n",
    "    \"AI Scientist\": \"Artificial Intelligence (AI)\",\n",
    "    \"Head of Machine Learning\": \"Artificial Intelligence (AI)\",\n",
    "    \"AI Programmer\": \"Artificial Intelligence (AI)\",\n",
    "    \"Data Quality Analyst\": \"Data Management\",\n",
    "    \"Compliance Data Analyst\": \"Data Management\",\n",
    "    \"Autonomous Vehicle Technician\": \"Data Management\",  # Assumed mapping due to similarity\n",
    "    \"Applied Machine Learning Scientist\": \"Data Science & Machine Learning\",  # Assumed mapping\n",
    "    \"Lead Data Scientist\": \"Data Science & Machine Learning\",  # Assumed mapping\n",
    "    \"Data Architect\": \"Data Engineering & Infrastructure\",  # Assumed mapping\n",
    "    \"Finance Data Analyst\": \"Data Analysis & Analytics\",  # Duplicate mapping\n",
    "    \"Data Lead\": \"Data Management\",  # Assumed mapping\n",
    "    \"Data Science Engineer\": \"Data Engineering & Infrastructure\",  # Assumed mapping\n",
    "    \"Data Science Lead\": \"Data Science & Machine Learning\",  # Assumed mapping\n",
    "    \"Deep Learning Engineer\": \"Data Science & Machine Learning\",  # Assumed mapping\n",
    "    \"Machine Learning Software Engineer\": \"Data Science & Machine Learning\",  # Assumed mapping\n",
    "    \"Big Data Architect\": \"Data Engineering & Infrastructure\",  # Assumed mapping\n",
    "    \"Cloud Database Engineer\": \"Data Engineering & Infrastructure\",  # Duplicate mapping\n",
    "    \"Data Analytics Engineer\": \"Data Analysis & Analytics\",  # Assumed mapping\n",
    "    \"Data Management Specialist\": \"Data Management\",  # Duplicate mapping\n",
    "    \"Data Scientist Lead\": \"Data Science & Machine Learning\",  # Assumed mapping\n",
    "    \"Cloud Data Engineer\": \"Data Engineering & Infrastructure\",  # Duplicate mapping\n",
    "    \"Data Operations Analyst\": \"Data Engineering & Infrastructure\",  # Assumed mapping\n",
    "    \"Marketing Data Analyst\": \"Data Analysis & Analytics\",  # Duplicate mapping\n",
    "    \"Power BI Developer\": \"Business Intelligence (BI)\",  # Duplicate mapping\n",
    "    \"Product Data Scientist\": \"Data Management\",  # Duplicate mapping\n",
    "    \"Financial Data Analyst\": \"Data Analysis & Analytics\",  # Assumed mapping\n",
    "    \"Data Science Consultant\": \"Data Management\",  # Assumed mapping\n",
    "    \"AI Developer\": \"Artificial Intelligence (AI)\",  # Duplicate mapping\n",
    "    \"Data Analytics Specialist\": \"Data Analysis & Analytics\",  # Duplicate mapping\n",
    "    \"Business Data Analyst\": \"Data Analysis & Analytics\",  # Duplicate mapping\n",
    "    \"Lead Data Engineer\": \"Data Engineering & Infrastructure\",  # Duplicate mapping\n",
    "    \"BI Data Engineer\": \"Business Intelligence (BI)\",  # Duplicate mapping\n",
    "    \"Data Engineer\": \"Data Engineering & Infrastructure\",  # Duplicate mapping\n",
    "    \"BI Developer\": \"Business Intelligence (BI)\",  # Duplicate mapping\n",
    "    \"Data Science Tech Lead\": \"Data Science & Machine Learning\",  # Assumed mapping\n",
    "    \"Data Operations Engineer\": \"Data Engineering & Infrastructure\",  # Duplicate mapping\n",
    "    \"BI Analyst\": \"Data Analysis & Analytics\",  # Duplicate mapping\n",
    "    \"Data Science Consultant\": \"Data Science & Machine Learning\",  # Assumed mapping\n",
    "    \"Data Science Lead\": \"Data Science & Machine Learning\",  # Duplicate mapping\n",
    "    \"Lead Data Scientist\": \"Data Science & Machine Learning\",  # Duplicate mapping\n",
    "    \"Data Scientist Lead\": \"Data Science & Machine Learning\",  # Duplicate mapping\n",
    "    \"Data Operations Analyst\": \"Data Engineering & Infrastructure\",  # Duplicate mapping\n",
    "    \"Marketing Data Engineer\": \"Data Management\",  # Duplicate mapping\n",
    "    \"AI Programmer\": \"Artificial Intelligence (AI)\",  # Duplicate mapping\n",
    "    \"Computer Vision Software Engineer\": \"Artificial Intelligence (AI)\",  # Duplicate mapping\n",
    "    \"Azure Data Engineer\": \"Data Engineering & Infrastructure\",  # Assumed mapping\n",
    "    \"Principal Data Architect\": \"Data Engineering & Infrastructure\",  # Assumed mapping\n",
    "    \"Data Analytics Consultant\": \"Data Analysis & Analytics\",  # Assumed mapping\n",
    "    \"Data Management Specialist\": \"Data Management\",  # Duplicate mapping\n",
    "    \"Data Scientist\": \"Data Science & Machine Learning\",  # Duplicate mapping\n",
    "    \"Data Manager\": \"Data Management\",  # Assumed mapping\n",
    "    \"Data Engineering Manager\": \"Data Engineering & Infrastructure\", #assumed mapping\n",
    "    'Director of Data Engineering': \"Data Engineering & Infrastructure\", #assumed mapping\n",
    "    \"Software Data Engineer\": \"Data Engineering & Infrastructure\",  # Duplicate mapping\n",
    "    \"Research Engineer\": \"Data Science & Machine Learning\",\n",
    "    \"Machine Learning Engineer\": \"Data Science & Machine Learning\",\n",
    "    \"Applied Data Scientist\": \"Data Science & Machine Learning\",\n",
    "    \"Data Specialist\": \"Data Engineering & Infrastructure\",\n",
    "    \"Principal Data Analyst\": \"Data Analysis & Analytics\"\n",
    "}\n"
   ]
  },
  {
   "cell_type": "code",
   "execution_count": 170,
   "id": "35a564bc",
   "metadata": {},
   "outputs": [
    {
     "data": {
      "application/vnd.plotly.v1+json": {
       "config": {
        "plotlyServerURL": "https://plot.ly"
       },
       "data": [
        {
         "alignmentgroup": "True",
         "hovertemplate": "x=%{x}<br>y=%{y}<br>text=%{text}<extra></extra>",
         "legendgroup": "",
         "marker": {
          "color": "#636efa",
          "pattern": {
           "shape": ""
          }
         },
         "name": "",
         "offsetgroup": "",
         "orientation": "v",
         "showlegend": false,
         "text": [
          1165,
          968,
          693,
          329,
          112,
          106,
          98,
          70,
          58,
          37
         ],
         "textposition": "auto",
         "type": "bar",
         "x": [
          "Data Engineer",
          "Data Scientist",
          "Data Analyst",
          "Machine Learning Engineer",
          "Data Architect",
          "Analytics Engineer",
          "Research Scientist",
          "Data Science Manager",
          "Applied Scientist",
          "Research Engineer"
         ],
         "xaxis": "x",
         "y": [
          1165,
          968,
          693,
          329,
          112,
          106,
          98,
          70,
          58,
          37
         ],
         "yaxis": "y"
        }
       ],
       "layout": {
        "barmode": "relative",
        "legend": {
         "tracegroupgap": 0
        },
        "template": {
         "data": {
          "bar": [
           {
            "error_x": {
             "color": "#2a3f5f"
            },
            "error_y": {
             "color": "#2a3f5f"
            },
            "marker": {
             "line": {
              "color": "#E5ECF6",
              "width": 0.5
             },
             "pattern": {
              "fillmode": "overlay",
              "size": 10,
              "solidity": 0.2
             }
            },
            "type": "bar"
           }
          ],
          "barpolar": [
           {
            "marker": {
             "line": {
              "color": "#E5ECF6",
              "width": 0.5
             },
             "pattern": {
              "fillmode": "overlay",
              "size": 10,
              "solidity": 0.2
             }
            },
            "type": "barpolar"
           }
          ],
          "carpet": [
           {
            "aaxis": {
             "endlinecolor": "#2a3f5f",
             "gridcolor": "white",
             "linecolor": "white",
             "minorgridcolor": "white",
             "startlinecolor": "#2a3f5f"
            },
            "baxis": {
             "endlinecolor": "#2a3f5f",
             "gridcolor": "white",
             "linecolor": "white",
             "minorgridcolor": "white",
             "startlinecolor": "#2a3f5f"
            },
            "type": "carpet"
           }
          ],
          "choropleth": [
           {
            "colorbar": {
             "outlinewidth": 0,
             "ticks": ""
            },
            "type": "choropleth"
           }
          ],
          "contour": [
           {
            "colorbar": {
             "outlinewidth": 0,
             "ticks": ""
            },
            "colorscale": [
             [
              0,
              "#0d0887"
             ],
             [
              0.1111111111111111,
              "#46039f"
             ],
             [
              0.2222222222222222,
              "#7201a8"
             ],
             [
              0.3333333333333333,
              "#9c179e"
             ],
             [
              0.4444444444444444,
              "#bd3786"
             ],
             [
              0.5555555555555556,
              "#d8576b"
             ],
             [
              0.6666666666666666,
              "#ed7953"
             ],
             [
              0.7777777777777778,
              "#fb9f3a"
             ],
             [
              0.8888888888888888,
              "#fdca26"
             ],
             [
              1,
              "#f0f921"
             ]
            ],
            "type": "contour"
           }
          ],
          "contourcarpet": [
           {
            "colorbar": {
             "outlinewidth": 0,
             "ticks": ""
            },
            "type": "contourcarpet"
           }
          ],
          "heatmap": [
           {
            "colorbar": {
             "outlinewidth": 0,
             "ticks": ""
            },
            "colorscale": [
             [
              0,
              "#0d0887"
             ],
             [
              0.1111111111111111,
              "#46039f"
             ],
             [
              0.2222222222222222,
              "#7201a8"
             ],
             [
              0.3333333333333333,
              "#9c179e"
             ],
             [
              0.4444444444444444,
              "#bd3786"
             ],
             [
              0.5555555555555556,
              "#d8576b"
             ],
             [
              0.6666666666666666,
              "#ed7953"
             ],
             [
              0.7777777777777778,
              "#fb9f3a"
             ],
             [
              0.8888888888888888,
              "#fdca26"
             ],
             [
              1,
              "#f0f921"
             ]
            ],
            "type": "heatmap"
           }
          ],
          "heatmapgl": [
           {
            "colorbar": {
             "outlinewidth": 0,
             "ticks": ""
            },
            "colorscale": [
             [
              0,
              "#0d0887"
             ],
             [
              0.1111111111111111,
              "#46039f"
             ],
             [
              0.2222222222222222,
              "#7201a8"
             ],
             [
              0.3333333333333333,
              "#9c179e"
             ],
             [
              0.4444444444444444,
              "#bd3786"
             ],
             [
              0.5555555555555556,
              "#d8576b"
             ],
             [
              0.6666666666666666,
              "#ed7953"
             ],
             [
              0.7777777777777778,
              "#fb9f3a"
             ],
             [
              0.8888888888888888,
              "#fdca26"
             ],
             [
              1,
              "#f0f921"
             ]
            ],
            "type": "heatmapgl"
           }
          ],
          "histogram": [
           {
            "marker": {
             "pattern": {
              "fillmode": "overlay",
              "size": 10,
              "solidity": 0.2
             }
            },
            "type": "histogram"
           }
          ],
          "histogram2d": [
           {
            "colorbar": {
             "outlinewidth": 0,
             "ticks": ""
            },
            "colorscale": [
             [
              0,
              "#0d0887"
             ],
             [
              0.1111111111111111,
              "#46039f"
             ],
             [
              0.2222222222222222,
              "#7201a8"
             ],
             [
              0.3333333333333333,
              "#9c179e"
             ],
             [
              0.4444444444444444,
              "#bd3786"
             ],
             [
              0.5555555555555556,
              "#d8576b"
             ],
             [
              0.6666666666666666,
              "#ed7953"
             ],
             [
              0.7777777777777778,
              "#fb9f3a"
             ],
             [
              0.8888888888888888,
              "#fdca26"
             ],
             [
              1,
              "#f0f921"
             ]
            ],
            "type": "histogram2d"
           }
          ],
          "histogram2dcontour": [
           {
            "colorbar": {
             "outlinewidth": 0,
             "ticks": ""
            },
            "colorscale": [
             [
              0,
              "#0d0887"
             ],
             [
              0.1111111111111111,
              "#46039f"
             ],
             [
              0.2222222222222222,
              "#7201a8"
             ],
             [
              0.3333333333333333,
              "#9c179e"
             ],
             [
              0.4444444444444444,
              "#bd3786"
             ],
             [
              0.5555555555555556,
              "#d8576b"
             ],
             [
              0.6666666666666666,
              "#ed7953"
             ],
             [
              0.7777777777777778,
              "#fb9f3a"
             ],
             [
              0.8888888888888888,
              "#fdca26"
             ],
             [
              1,
              "#f0f921"
             ]
            ],
            "type": "histogram2dcontour"
           }
          ],
          "mesh3d": [
           {
            "colorbar": {
             "outlinewidth": 0,
             "ticks": ""
            },
            "type": "mesh3d"
           }
          ],
          "parcoords": [
           {
            "line": {
             "colorbar": {
              "outlinewidth": 0,
              "ticks": ""
             }
            },
            "type": "parcoords"
           }
          ],
          "pie": [
           {
            "automargin": true,
            "type": "pie"
           }
          ],
          "scatter": [
           {
            "fillpattern": {
             "fillmode": "overlay",
             "size": 10,
             "solidity": 0.2
            },
            "type": "scatter"
           }
          ],
          "scatter3d": [
           {
            "line": {
             "colorbar": {
              "outlinewidth": 0,
              "ticks": ""
             }
            },
            "marker": {
             "colorbar": {
              "outlinewidth": 0,
              "ticks": ""
             }
            },
            "type": "scatter3d"
           }
          ],
          "scattercarpet": [
           {
            "marker": {
             "colorbar": {
              "outlinewidth": 0,
              "ticks": ""
             }
            },
            "type": "scattercarpet"
           }
          ],
          "scattergeo": [
           {
            "marker": {
             "colorbar": {
              "outlinewidth": 0,
              "ticks": ""
             }
            },
            "type": "scattergeo"
           }
          ],
          "scattergl": [
           {
            "marker": {
             "colorbar": {
              "outlinewidth": 0,
              "ticks": ""
             }
            },
            "type": "scattergl"
           }
          ],
          "scattermapbox": [
           {
            "marker": {
             "colorbar": {
              "outlinewidth": 0,
              "ticks": ""
             }
            },
            "type": "scattermapbox"
           }
          ],
          "scatterpolar": [
           {
            "marker": {
             "colorbar": {
              "outlinewidth": 0,
              "ticks": ""
             }
            },
            "type": "scatterpolar"
           }
          ],
          "scatterpolargl": [
           {
            "marker": {
             "colorbar": {
              "outlinewidth": 0,
              "ticks": ""
             }
            },
            "type": "scatterpolargl"
           }
          ],
          "scatterternary": [
           {
            "marker": {
             "colorbar": {
              "outlinewidth": 0,
              "ticks": ""
             }
            },
            "type": "scatterternary"
           }
          ],
          "surface": [
           {
            "colorbar": {
             "outlinewidth": 0,
             "ticks": ""
            },
            "colorscale": [
             [
              0,
              "#0d0887"
             ],
             [
              0.1111111111111111,
              "#46039f"
             ],
             [
              0.2222222222222222,
              "#7201a8"
             ],
             [
              0.3333333333333333,
              "#9c179e"
             ],
             [
              0.4444444444444444,
              "#bd3786"
             ],
             [
              0.5555555555555556,
              "#d8576b"
             ],
             [
              0.6666666666666666,
              "#ed7953"
             ],
             [
              0.7777777777777778,
              "#fb9f3a"
             ],
             [
              0.8888888888888888,
              "#fdca26"
             ],
             [
              1,
              "#f0f921"
             ]
            ],
            "type": "surface"
           }
          ],
          "table": [
           {
            "cells": {
             "fill": {
              "color": "#EBF0F8"
             },
             "line": {
              "color": "white"
             }
            },
            "header": {
             "fill": {
              "color": "#C8D4E3"
             },
             "line": {
              "color": "white"
             }
            },
            "type": "table"
           }
          ]
         },
         "layout": {
          "annotationdefaults": {
           "arrowcolor": "#2a3f5f",
           "arrowhead": 0,
           "arrowwidth": 1
          },
          "autotypenumbers": "strict",
          "coloraxis": {
           "colorbar": {
            "outlinewidth": 0,
            "ticks": ""
           }
          },
          "colorscale": {
           "diverging": [
            [
             0,
             "#8e0152"
            ],
            [
             0.1,
             "#c51b7d"
            ],
            [
             0.2,
             "#de77ae"
            ],
            [
             0.3,
             "#f1b6da"
            ],
            [
             0.4,
             "#fde0ef"
            ],
            [
             0.5,
             "#f7f7f7"
            ],
            [
             0.6,
             "#e6f5d0"
            ],
            [
             0.7,
             "#b8e186"
            ],
            [
             0.8,
             "#7fbc41"
            ],
            [
             0.9,
             "#4d9221"
            ],
            [
             1,
             "#276419"
            ]
           ],
           "sequential": [
            [
             0,
             "#0d0887"
            ],
            [
             0.1111111111111111,
             "#46039f"
            ],
            [
             0.2222222222222222,
             "#7201a8"
            ],
            [
             0.3333333333333333,
             "#9c179e"
            ],
            [
             0.4444444444444444,
             "#bd3786"
            ],
            [
             0.5555555555555556,
             "#d8576b"
            ],
            [
             0.6666666666666666,
             "#ed7953"
            ],
            [
             0.7777777777777778,
             "#fb9f3a"
            ],
            [
             0.8888888888888888,
             "#fdca26"
            ],
            [
             1,
             "#f0f921"
            ]
           ],
           "sequentialminus": [
            [
             0,
             "#0d0887"
            ],
            [
             0.1111111111111111,
             "#46039f"
            ],
            [
             0.2222222222222222,
             "#7201a8"
            ],
            [
             0.3333333333333333,
             "#9c179e"
            ],
            [
             0.4444444444444444,
             "#bd3786"
            ],
            [
             0.5555555555555556,
             "#d8576b"
            ],
            [
             0.6666666666666666,
             "#ed7953"
            ],
            [
             0.7777777777777778,
             "#fb9f3a"
            ],
            [
             0.8888888888888888,
             "#fdca26"
            ],
            [
             1,
             "#f0f921"
            ]
           ]
          },
          "colorway": [
           "#636efa",
           "#EF553B",
           "#00cc96",
           "#ab63fa",
           "#FFA15A",
           "#19d3f3",
           "#FF6692",
           "#B6E880",
           "#FF97FF",
           "#FECB52"
          ],
          "font": {
           "color": "#2a3f5f"
          },
          "geo": {
           "bgcolor": "white",
           "lakecolor": "white",
           "landcolor": "#E5ECF6",
           "showlakes": true,
           "showland": true,
           "subunitcolor": "white"
          },
          "hoverlabel": {
           "align": "left"
          },
          "hovermode": "closest",
          "mapbox": {
           "style": "light"
          },
          "paper_bgcolor": "white",
          "plot_bgcolor": "#E5ECF6",
          "polar": {
           "angularaxis": {
            "gridcolor": "white",
            "linecolor": "white",
            "ticks": ""
           },
           "bgcolor": "#E5ECF6",
           "radialaxis": {
            "gridcolor": "white",
            "linecolor": "white",
            "ticks": ""
           }
          },
          "scene": {
           "xaxis": {
            "backgroundcolor": "#E5ECF6",
            "gridcolor": "white",
            "gridwidth": 2,
            "linecolor": "white",
            "showbackground": true,
            "ticks": "",
            "zerolinecolor": "white"
           },
           "yaxis": {
            "backgroundcolor": "#E5ECF6",
            "gridcolor": "white",
            "gridwidth": 2,
            "linecolor": "white",
            "showbackground": true,
            "ticks": "",
            "zerolinecolor": "white"
           },
           "zaxis": {
            "backgroundcolor": "#E5ECF6",
            "gridcolor": "white",
            "gridwidth": 2,
            "linecolor": "white",
            "showbackground": true,
            "ticks": "",
            "zerolinecolor": "white"
           }
          },
          "shapedefaults": {
           "line": {
            "color": "#2a3f5f"
           }
          },
          "ternary": {
           "aaxis": {
            "gridcolor": "white",
            "linecolor": "white",
            "ticks": ""
           },
           "baxis": {
            "gridcolor": "white",
            "linecolor": "white",
            "ticks": ""
           },
           "bgcolor": "#E5ECF6",
           "caxis": {
            "gridcolor": "white",
            "linecolor": "white",
            "ticks": ""
           }
          },
          "title": {
           "x": 0.05
          },
          "xaxis": {
           "automargin": true,
           "gridcolor": "white",
           "linecolor": "white",
           "ticks": "",
           "title": {
            "standoff": 15
           },
           "zerolinecolor": "white",
           "zerolinewidth": 2
          },
          "yaxis": {
           "automargin": true,
           "gridcolor": "white",
           "linecolor": "white",
           "ticks": "",
           "title": {
            "standoff": 15
           },
           "zerolinecolor": "white",
           "zerolinewidth": 2
          }
         }
        },
        "title": {
         "text": "Top 10 Jobs Designation"
        },
        "xaxis": {
         "anchor": "y",
         "domain": [
          0,
          1
         ],
         "title": {
          "text": "Job Designations"
         }
        },
        "yaxis": {
         "anchor": "x",
         "domain": [
          0,
          1
         ],
         "title": {
          "text": "Count"
         }
        }
       }
      },
      "text/html": [
       "<div>                            <div id=\"3e0d43fc-3103-4d97-81a9-9a94df4a8f43\" class=\"plotly-graph-div\" style=\"height:525px; width:100%;\"></div>            <script type=\"text/javascript\">                require([\"plotly\"], function(Plotly) {                    window.PLOTLYENV=window.PLOTLYENV || {};                                    if (document.getElementById(\"3e0d43fc-3103-4d97-81a9-9a94df4a8f43\")) {                    Plotly.newPlot(                        \"3e0d43fc-3103-4d97-81a9-9a94df4a8f43\",                        [{\"alignmentgroup\":\"True\",\"hovertemplate\":\"x=%{x}<br>y=%{y}<br>text=%{text}<extra></extra>\",\"legendgroup\":\"\",\"marker\":{\"color\":\"#636efa\",\"pattern\":{\"shape\":\"\"}},\"name\":\"\",\"offsetgroup\":\"\",\"orientation\":\"v\",\"showlegend\":false,\"text\":[1165.0,968.0,693.0,329.0,112.0,106.0,98.0,70.0,58.0,37.0],\"textposition\":\"auto\",\"x\":[\"Data Engineer\",\"Data Scientist\",\"Data Analyst\",\"Machine Learning Engineer\",\"Data Architect\",\"Analytics Engineer\",\"Research Scientist\",\"Data Science Manager\",\"Applied Scientist\",\"Research Engineer\"],\"xaxis\":\"x\",\"y\":[1165,968,693,329,112,106,98,70,58,37],\"yaxis\":\"y\",\"type\":\"bar\"}],                        {\"template\":{\"data\":{\"histogram2dcontour\":[{\"type\":\"histogram2dcontour\",\"colorbar\":{\"outlinewidth\":0,\"ticks\":\"\"},\"colorscale\":[[0.0,\"#0d0887\"],[0.1111111111111111,\"#46039f\"],[0.2222222222222222,\"#7201a8\"],[0.3333333333333333,\"#9c179e\"],[0.4444444444444444,\"#bd3786\"],[0.5555555555555556,\"#d8576b\"],[0.6666666666666666,\"#ed7953\"],[0.7777777777777778,\"#fb9f3a\"],[0.8888888888888888,\"#fdca26\"],[1.0,\"#f0f921\"]]}],\"choropleth\":[{\"type\":\"choropleth\",\"colorbar\":{\"outlinewidth\":0,\"ticks\":\"\"}}],\"histogram2d\":[{\"type\":\"histogram2d\",\"colorbar\":{\"outlinewidth\":0,\"ticks\":\"\"},\"colorscale\":[[0.0,\"#0d0887\"],[0.1111111111111111,\"#46039f\"],[0.2222222222222222,\"#7201a8\"],[0.3333333333333333,\"#9c179e\"],[0.4444444444444444,\"#bd3786\"],[0.5555555555555556,\"#d8576b\"],[0.6666666666666666,\"#ed7953\"],[0.7777777777777778,\"#fb9f3a\"],[0.8888888888888888,\"#fdca26\"],[1.0,\"#f0f921\"]]}],\"heatmap\":[{\"type\":\"heatmap\",\"colorbar\":{\"outlinewidth\":0,\"ticks\":\"\"},\"colorscale\":[[0.0,\"#0d0887\"],[0.1111111111111111,\"#46039f\"],[0.2222222222222222,\"#7201a8\"],[0.3333333333333333,\"#9c179e\"],[0.4444444444444444,\"#bd3786\"],[0.5555555555555556,\"#d8576b\"],[0.6666666666666666,\"#ed7953\"],[0.7777777777777778,\"#fb9f3a\"],[0.8888888888888888,\"#fdca26\"],[1.0,\"#f0f921\"]]}],\"heatmapgl\":[{\"type\":\"heatmapgl\",\"colorbar\":{\"outlinewidth\":0,\"ticks\":\"\"},\"colorscale\":[[0.0,\"#0d0887\"],[0.1111111111111111,\"#46039f\"],[0.2222222222222222,\"#7201a8\"],[0.3333333333333333,\"#9c179e\"],[0.4444444444444444,\"#bd3786\"],[0.5555555555555556,\"#d8576b\"],[0.6666666666666666,\"#ed7953\"],[0.7777777777777778,\"#fb9f3a\"],[0.8888888888888888,\"#fdca26\"],[1.0,\"#f0f921\"]]}],\"contourcarpet\":[{\"type\":\"contourcarpet\",\"colorbar\":{\"outlinewidth\":0,\"ticks\":\"\"}}],\"contour\":[{\"type\":\"contour\",\"colorbar\":{\"outlinewidth\":0,\"ticks\":\"\"},\"colorscale\":[[0.0,\"#0d0887\"],[0.1111111111111111,\"#46039f\"],[0.2222222222222222,\"#7201a8\"],[0.3333333333333333,\"#9c179e\"],[0.4444444444444444,\"#bd3786\"],[0.5555555555555556,\"#d8576b\"],[0.6666666666666666,\"#ed7953\"],[0.7777777777777778,\"#fb9f3a\"],[0.8888888888888888,\"#fdca26\"],[1.0,\"#f0f921\"]]}],\"surface\":[{\"type\":\"surface\",\"colorbar\":{\"outlinewidth\":0,\"ticks\":\"\"},\"colorscale\":[[0.0,\"#0d0887\"],[0.1111111111111111,\"#46039f\"],[0.2222222222222222,\"#7201a8\"],[0.3333333333333333,\"#9c179e\"],[0.4444444444444444,\"#bd3786\"],[0.5555555555555556,\"#d8576b\"],[0.6666666666666666,\"#ed7953\"],[0.7777777777777778,\"#fb9f3a\"],[0.8888888888888888,\"#fdca26\"],[1.0,\"#f0f921\"]]}],\"mesh3d\":[{\"type\":\"mesh3d\",\"colorbar\":{\"outlinewidth\":0,\"ticks\":\"\"}}],\"scatter\":[{\"fillpattern\":{\"fillmode\":\"overlay\",\"size\":10,\"solidity\":0.2},\"type\":\"scatter\"}],\"parcoords\":[{\"type\":\"parcoords\",\"line\":{\"colorbar\":{\"outlinewidth\":0,\"ticks\":\"\"}}}],\"scatterpolargl\":[{\"type\":\"scatterpolargl\",\"marker\":{\"colorbar\":{\"outlinewidth\":0,\"ticks\":\"\"}}}],\"bar\":[{\"error_x\":{\"color\":\"#2a3f5f\"},\"error_y\":{\"color\":\"#2a3f5f\"},\"marker\":{\"line\":{\"color\":\"#E5ECF6\",\"width\":0.5},\"pattern\":{\"fillmode\":\"overlay\",\"size\":10,\"solidity\":0.2}},\"type\":\"bar\"}],\"scattergeo\":[{\"type\":\"scattergeo\",\"marker\":{\"colorbar\":{\"outlinewidth\":0,\"ticks\":\"\"}}}],\"scatterpolar\":[{\"type\":\"scatterpolar\",\"marker\":{\"colorbar\":{\"outlinewidth\":0,\"ticks\":\"\"}}}],\"histogram\":[{\"marker\":{\"pattern\":{\"fillmode\":\"overlay\",\"size\":10,\"solidity\":0.2}},\"type\":\"histogram\"}],\"scattergl\":[{\"type\":\"scattergl\",\"marker\":{\"colorbar\":{\"outlinewidth\":0,\"ticks\":\"\"}}}],\"scatter3d\":[{\"type\":\"scatter3d\",\"line\":{\"colorbar\":{\"outlinewidth\":0,\"ticks\":\"\"}},\"marker\":{\"colorbar\":{\"outlinewidth\":0,\"ticks\":\"\"}}}],\"scattermapbox\":[{\"type\":\"scattermapbox\",\"marker\":{\"colorbar\":{\"outlinewidth\":0,\"ticks\":\"\"}}}],\"scatterternary\":[{\"type\":\"scatterternary\",\"marker\":{\"colorbar\":{\"outlinewidth\":0,\"ticks\":\"\"}}}],\"scattercarpet\":[{\"type\":\"scattercarpet\",\"marker\":{\"colorbar\":{\"outlinewidth\":0,\"ticks\":\"\"}}}],\"carpet\":[{\"aaxis\":{\"endlinecolor\":\"#2a3f5f\",\"gridcolor\":\"white\",\"linecolor\":\"white\",\"minorgridcolor\":\"white\",\"startlinecolor\":\"#2a3f5f\"},\"baxis\":{\"endlinecolor\":\"#2a3f5f\",\"gridcolor\":\"white\",\"linecolor\":\"white\",\"minorgridcolor\":\"white\",\"startlinecolor\":\"#2a3f5f\"},\"type\":\"carpet\"}],\"table\":[{\"cells\":{\"fill\":{\"color\":\"#EBF0F8\"},\"line\":{\"color\":\"white\"}},\"header\":{\"fill\":{\"color\":\"#C8D4E3\"},\"line\":{\"color\":\"white\"}},\"type\":\"table\"}],\"barpolar\":[{\"marker\":{\"line\":{\"color\":\"#E5ECF6\",\"width\":0.5},\"pattern\":{\"fillmode\":\"overlay\",\"size\":10,\"solidity\":0.2}},\"type\":\"barpolar\"}],\"pie\":[{\"automargin\":true,\"type\":\"pie\"}]},\"layout\":{\"autotypenumbers\":\"strict\",\"colorway\":[\"#636efa\",\"#EF553B\",\"#00cc96\",\"#ab63fa\",\"#FFA15A\",\"#19d3f3\",\"#FF6692\",\"#B6E880\",\"#FF97FF\",\"#FECB52\"],\"font\":{\"color\":\"#2a3f5f\"},\"hovermode\":\"closest\",\"hoverlabel\":{\"align\":\"left\"},\"paper_bgcolor\":\"white\",\"plot_bgcolor\":\"#E5ECF6\",\"polar\":{\"bgcolor\":\"#E5ECF6\",\"angularaxis\":{\"gridcolor\":\"white\",\"linecolor\":\"white\",\"ticks\":\"\"},\"radialaxis\":{\"gridcolor\":\"white\",\"linecolor\":\"white\",\"ticks\":\"\"}},\"ternary\":{\"bgcolor\":\"#E5ECF6\",\"aaxis\":{\"gridcolor\":\"white\",\"linecolor\":\"white\",\"ticks\":\"\"},\"baxis\":{\"gridcolor\":\"white\",\"linecolor\":\"white\",\"ticks\":\"\"},\"caxis\":{\"gridcolor\":\"white\",\"linecolor\":\"white\",\"ticks\":\"\"}},\"coloraxis\":{\"colorbar\":{\"outlinewidth\":0,\"ticks\":\"\"}},\"colorscale\":{\"sequential\":[[0.0,\"#0d0887\"],[0.1111111111111111,\"#46039f\"],[0.2222222222222222,\"#7201a8\"],[0.3333333333333333,\"#9c179e\"],[0.4444444444444444,\"#bd3786\"],[0.5555555555555556,\"#d8576b\"],[0.6666666666666666,\"#ed7953\"],[0.7777777777777778,\"#fb9f3a\"],[0.8888888888888888,\"#fdca26\"],[1.0,\"#f0f921\"]],\"sequentialminus\":[[0.0,\"#0d0887\"],[0.1111111111111111,\"#46039f\"],[0.2222222222222222,\"#7201a8\"],[0.3333333333333333,\"#9c179e\"],[0.4444444444444444,\"#bd3786\"],[0.5555555555555556,\"#d8576b\"],[0.6666666666666666,\"#ed7953\"],[0.7777777777777778,\"#fb9f3a\"],[0.8888888888888888,\"#fdca26\"],[1.0,\"#f0f921\"]],\"diverging\":[[0,\"#8e0152\"],[0.1,\"#c51b7d\"],[0.2,\"#de77ae\"],[0.3,\"#f1b6da\"],[0.4,\"#fde0ef\"],[0.5,\"#f7f7f7\"],[0.6,\"#e6f5d0\"],[0.7,\"#b8e186\"],[0.8,\"#7fbc41\"],[0.9,\"#4d9221\"],[1,\"#276419\"]]},\"xaxis\":{\"gridcolor\":\"white\",\"linecolor\":\"white\",\"ticks\":\"\",\"title\":{\"standoff\":15},\"zerolinecolor\":\"white\",\"automargin\":true,\"zerolinewidth\":2},\"yaxis\":{\"gridcolor\":\"white\",\"linecolor\":\"white\",\"ticks\":\"\",\"title\":{\"standoff\":15},\"zerolinecolor\":\"white\",\"automargin\":true,\"zerolinewidth\":2},\"scene\":{\"xaxis\":{\"backgroundcolor\":\"#E5ECF6\",\"gridcolor\":\"white\",\"linecolor\":\"white\",\"showbackground\":true,\"ticks\":\"\",\"zerolinecolor\":\"white\",\"gridwidth\":2},\"yaxis\":{\"backgroundcolor\":\"#E5ECF6\",\"gridcolor\":\"white\",\"linecolor\":\"white\",\"showbackground\":true,\"ticks\":\"\",\"zerolinecolor\":\"white\",\"gridwidth\":2},\"zaxis\":{\"backgroundcolor\":\"#E5ECF6\",\"gridcolor\":\"white\",\"linecolor\":\"white\",\"showbackground\":true,\"ticks\":\"\",\"zerolinecolor\":\"white\",\"gridwidth\":2}},\"shapedefaults\":{\"line\":{\"color\":\"#2a3f5f\"}},\"annotationdefaults\":{\"arrowcolor\":\"#2a3f5f\",\"arrowhead\":0,\"arrowwidth\":1},\"geo\":{\"bgcolor\":\"white\",\"landcolor\":\"#E5ECF6\",\"subunitcolor\":\"white\",\"showland\":true,\"showlakes\":true,\"lakecolor\":\"white\"},\"title\":{\"x\":0.05},\"mapbox\":{\"style\":\"light\"}}},\"xaxis\":{\"anchor\":\"y\",\"domain\":[0.0,1.0],\"title\":{\"text\":\"Job Designations\"}},\"yaxis\":{\"anchor\":\"x\",\"domain\":[0.0,1.0],\"title\":{\"text\":\"Count\"}},\"legend\":{\"tracegroupgap\":0},\"title\":{\"text\":\"Top 10 Jobs Designation\"},\"barmode\":\"relative\"},                        {\"responsive\": true}                    ).then(function(){\n",
       "                            \n",
       "var gd = document.getElementById('3e0d43fc-3103-4d97-81a9-9a94df4a8f43');\n",
       "var x = new MutationObserver(function (mutations, observer) {{\n",
       "        var display = window.getComputedStyle(gd).display;\n",
       "        if (!display || display === 'none') {{\n",
       "            console.log([gd, 'removed!']);\n",
       "            Plotly.purge(gd);\n",
       "            observer.disconnect();\n",
       "        }}\n",
       "}});\n",
       "\n",
       "// Listen for the removal of the full notebook cells\n",
       "var notebookContainer = gd.closest('#notebook-container');\n",
       "if (notebookContainer) {{\n",
       "    x.observe(notebookContainer, {childList: true});\n",
       "}}\n",
       "\n",
       "// Listen for the clearing of the current output cell\n",
       "var outputEl = gd.closest('.output');\n",
       "if (outputEl) {{\n",
       "    x.observe(outputEl, {childList: true});\n",
       "}}\n",
       "\n",
       "                        })                };                });            </script>        </div>"
      ]
     },
     "metadata": {},
     "output_type": "display_data"
    }
   ],
   "source": [
    "top10_jobs = df['job_title'].value_counts()[:10]\n",
    "# Create a bar plot for the top 10 job titles\n",
    "fig = px.bar(y= top10_jobs.values, x = top10_jobs.index, \n",
    "            text = top10_jobs.values, title = 'Top 10 Jobs Designation')\n",
    "fig.update_layout(xaxis_title = 'Job Designations', yaxis_title= 'Count')\n",
    "fig.show()"
   ]
  },
  {
   "cell_type": "code",
   "execution_count": 171,
   "id": "ffc2f696",
   "metadata": {},
   "outputs": [
    {
     "name": "stdout",
     "output_type": "stream",
     "text": [
      "job_title\n",
      "Data Science & Machine Learning      1715\n",
      "Data Engineering & Infrastructure    1395\n",
      "Data Analysis & Analytics             899\n",
      "Data Management                       147\n",
      "Artificial Intelligence (AI)           64\n",
      "Business Intelligence (BI)             48\n",
      "Name: count, dtype: int64\n"
     ]
    },
    {
     "data": {
      "image/png": "[encoded data removed]",
      "text/plain": [
       "<Figure size 640x480 with 1 Axes>"
      ]
     },
     "metadata": {},
     "output_type": "display_data"
    }
   ],
   "source": [
    "# Job titles were organized into 10 categories due to redundancies\n",
    "df_mapped_jobs = df.job_title.map(lambda x: job_categories[x])\n",
    "print(df_mapped_jobs.value_counts())\n",
    "df_mapped_jobs.value_counts().plot(kind=\"bar\");"
   ]
  },
  {
   "cell_type": "code",
   "execution_count": 172,
   "id": "b5fa7f6c",
   "metadata": {},
   "outputs": [
    {
     "data": {
      "image/png": "[encoded data removed]",
      "text/plain": [
       "<Figure size 640x480 with 1 Axes>"
      ]
     },
     "metadata": {},
     "output_type": "display_data"
    }
   ],
   "source": [
    "sns.boxplot(x=df_mapped_jobs, y='salary_in_usd', data=df)\n",
    "plt.title('Salary in USD distribution by Job Title')\n",
    "plt.xlabel('Job Title')\n",
    "plt.ylabel('Salary in USD')\n",
    "plt.xticks(rotation=45)  \n",
    "#plt.tight_layout() \n",
    "plt.show()"
   ]
  },
  {
   "cell_type": "code",
   "execution_count": 173,
   "id": "70679228",
   "metadata": {},
   "outputs": [
    {
     "data": {
      "image/png": "[encoded data removed]",
      "text/plain": [
       "<Figure size 640x480 with 1 Axes>"
      ]
     },
     "metadata": {},
     "output_type": "display_data"
    }
   ],
   "source": [
    "sns.boxplot(x='work_year', y='salary_in_usd', data=df)\n",
    "plt.title('Salary in USD distribution by Year')\n",
    "plt.xlabel('Year')\n",
    "plt.ylabel('Salary in USD')\n",
    "plt.xticks(rotation=45) \n",
    "plt.tight_layout()  \n",
    "plt.show()"
   ]
  },
  {
   "cell_type": "code",
   "execution_count": 174,
   "id": "0a6aac25",
   "metadata": {},
   "outputs": [
    {
     "data": {
      "text/plain": [
       "Index(['work_year', 'salary', 'salary_in_usd', 'remote_ratio'], dtype='object')"
      ]
     },
     "execution_count": 174,
     "metadata": {},
     "output_type": "execute_result"
    }
   ],
   "source": [
    "df.select_dtypes(\"number\").columns"
   ]
  },
  {
   "cell_type": "code",
   "execution_count": 175,
   "id": "be5865e8",
   "metadata": {},
   "outputs": [
    {
     "data": {
      "text/plain": [
       "salary_in_usd    1047\n",
       "salary            792\n",
       "work_year           4\n",
       "remote_ratio        3\n",
       "dtype: int64"
      ]
     },
     "execution_count": 175,
     "metadata": {},
     "output_type": "execute_result"
    }
   ],
   "source": [
    "df.select_dtypes(\"number\").nunique().sort_values(ascending=False)"
   ]
  },
  {
   "cell_type": "code",
   "execution_count": 176,
   "id": "e4e0a817",
   "metadata": {},
   "outputs": [
    {
     "data": {
      "text/plain": [
       "job_title             91\n",
       "employee_residence    72\n",
       "company_location      65\n",
       "salary_currency       20\n",
       "experience_level       4\n",
       "company_size           3\n",
       "dtype: int64"
      ]
     },
     "execution_count": 176,
     "metadata": {},
     "output_type": "execute_result"
    }
   ],
   "source": [
    "df.select_dtypes(\"object\").nunique().sort_values(ascending=False)"
   ]
  },
  {
   "cell_type": "code",
   "execution_count": 177,
   "id": "217cbce8",
   "metadata": {},
   "outputs": [
    {
     "data": {
      "text/plain": [
       "array(['ES', 'CA', 'US', 'DE', 'GB', 'NG', 'IN', 'HK', 'PT', 'NL', 'CH',\n",
       "       'CF', 'FR', 'AU', 'FI', 'IE', 'UA', 'IL', 'AT', 'CO', 'SG', 'SE',\n",
       "       'SI', 'MX', 'UZ', 'TH', 'GH', 'HR', 'BR', 'KW', 'VN', 'CY', 'AR',\n",
       "       'AM', 'BA', 'KE', 'GR', 'LV', 'RO', 'PK', 'IT', 'PL', 'LT', 'AS',\n",
       "       'HU', 'SK', 'CR', 'CL', 'PR', 'BO', 'PH', 'BE', 'TR', 'EG', 'ID',\n",
       "       'AE', 'MY', 'JP', 'EE', 'HN', 'CZ', 'RU', 'IQ', 'BG', 'JE', 'RS',\n",
       "       'NZ', 'DK', 'MD', 'LU', 'MT', 'CN'], dtype=object)"
      ]
     },
     "execution_count": 177,
     "metadata": {},
     "output_type": "execute_result"
    }
   ],
   "source": [
    "df['employee_residence'].unique()"
   ]
  },
  {
   "cell_type": "code",
   "execution_count": 207,
   "id": "7486497d",
   "metadata": {},
   "outputs": [],
   "source": [
    "country_continent_map = {\n",
    "    'ES': 'Europe',  # Spain -> Europe\n",
    "    'CA': 'North America',  # Canada -> North America\n",
    "    'US': 'North America',  # United States -> North America\n",
    "    'DE': 'Europe',  # Germany -> Europe\n",
    "    'GB': 'Europe',  # United Kingdom -> Europe\n",
    "    'NG': 'Other',  # Nigeria -> Other\n",
    "    'IN': 'Other',  # India -> Other\n",
    "    'HK': 'Other',  # Hong Kong -> Other\n",
    "    'PT': 'Europe',  # Portugal -> Europe\n",
    "    'NL': 'Europe',  # Netherlands -> Europe\n",
    "    'CH': 'Europe',  # Switzerland -> Europe\n",
    "    'CF': 'Other',  # Central African Republic -> Other\n",
    "    'FR': 'Europe',  # France -> Europe\n",
    "    'AU': 'Other',  # Australia -> Other\n",
    "    'FI': 'Europe',  # Finland -> Europe\n",
    "    'IE': 'Europe',  # Ireland -> Europe\n",
    "    'UA': 'Europe',  # Ukraine -> Europe\n",
    "    'IL': 'Other',  # Israel -> Other\n",
    "    'GH': 'Other',  # Ghana -> Other\n",
    "    'AT': 'Europe',  # Austria -> Europe\n",
    "    'CO': 'Other',  # Colombia -> Other\n",
    "    'SG': 'Other',  # Singapore -> Other\n",
    "    'SE': 'Europe',  # Sweden -> Europe\n",
    "    'SI': 'Europe',  # Slovenia -> Europe\n",
    "    'MX': 'North America',  # Mexico -> North America\n",
    "    'BR': 'Other',  # Brazil -> Other\n",
    "    'TH': 'Other',  # Thailand -> Other\n",
    "    'HR': 'Europe',  # Croatia -> Europe\n",
    "    'KW': 'Other',  # Kuwait -> Other\n",
    "    'VN': 'Other',  # Vietnam -> Other\n",
    "    'CY': 'Europe',  # Cyprus -> Europe\n",
    "    'AR': 'Other',  # Argentina -> Other\n",
    "    'AM': 'Other',  # Armenia -> Other\n",
    "    'BA': 'Europe',  # Bosnia and Herzegovina -> Europe\n",
    "    'KE': 'Other',  # Kenya -> Other\n",
    "    'GR': 'Europe',  # Greece -> Europe\n",
    "    'MK': 'Europe',  # North Macedonia -> Europe\n",
    "    'LV': 'Europe',  # Latvia -> Europe\n",
    "    'RO': 'Europe',  # Romania -> Europe\n",
    "    'PK': 'Other',  # Pakistan -> Other\n",
    "    'IT': 'Europe',  # Italy -> Europe\n",
    "    'MA': 'Other',  # Morocco -> Other\n",
    "    'PL': 'Europe',  # Poland -> Europe\n",
    "    'LT': 'Europe',  # Lithuania -> Europe\n",
    "    'AS': 'Other',  # American Samoa -> Other\n",
    "    'HU': 'Europe',  # Hungary -> Europe\n",
    "    'SK': 'Europe',  # Slovakia -> Europe\n",
    "    'CZ': 'Europe',  # Czech Republic -> Europe\n",
    "    'CR': 'North America',  # Costa Rica -> North America\n",
    "    'TR': 'Other',  # Turkey -> Other\n",
    "    'CL': 'Other',  # Chile -> Other\n",
    "    'PR': 'North America',  # Puerto Rico -> North America\n",
    "    'BO': 'Other',  # Bolivia -> Other\n",
    "    'PH': 'Other',  # Philippines -> Other\n",
    "    'BE': 'Europe',  # Belgium -> Europe\n",
    "    'EG': 'Other',  # Egypt -> Other\n",
    "    'ID': 'Other',  # Indonesia -> Other\n",
    "    'AE': 'Other',  # United Arab Emirates -> Other\n",
    "    'MY': 'Other',  # Malaysia -> Other\n",
    "    'JP': 'Other',  # Japan -> Other\n",
    "    'EE': 'Europe',  # Estonia -> Europe\n",
    "    'HN': 'North America',  # Honduras -> North America\n",
    "    'RU': 'Europe',  # Russia -> Europe (Note: Russia spans Europe and Asia)\n",
    "    'IQ': 'Other',  # Iraq -> Other\n",
    "    'BG': 'Europe',  # Bulgaria -> Europe\n",
    "    'JE': 'Europe',  # Jersey -> Europe\n",
    "    'RS': 'Europe',  # Serbia -> Europe\n",
    "    'NZ': 'Other',  # New Zealand -> Other\n",
    "    'DK': 'Europe',  # Denmark -> Europe\n",
    "    'MD': 'Europe',  # Moldova -> Europe\n",
    "    'LU': 'Europe',  # Luxembourg -> Europe\n",
    "    'MT': 'Europe',  # Malta -> Europe\n",
    "    'CN': 'Other',  # China -> Other\n",
    "    'IR': 'Other',  # Iran -> Other\n",
    "    'AL': 'Europe',  # Albania -> Europe\n",
    "    'UZ': 'Other',  # Uzbekistan -> Other\n",
    "}\n"
   ]
  },
  {
   "cell_type": "code",
   "execution_count": 208,
   "id": "62afe6a9",
   "metadata": {},
   "outputs": [
    {
     "name": "stdout",
     "output_type": "stream",
     "text": [
      "employee_residence\n",
      "North America    3454\n",
      "Europe            602\n",
      "Other             212\n",
      "Name: count, dtype: int64\n"
     ]
    },
    {
     "data": {
      "image/png": "[encoded data removed]",
      "text/plain": [
       "<Figure size 640x480 with 1 Axes>"
      ]
     },
     "metadata": {},
     "output_type": "display_data"
    }
   ],
   "source": [
    "# Employee Residence were organized into 6 continents due to redundancies\n",
    "df_mapped_e_residence = df.employee_residence.map(lambda x: country_continent_map[x])\n",
    "print(df_mapped_e_residence.value_counts())\n",
    "df_mapped_e_residence.value_counts().plot(kind=\"bar\");"
   ]
  },
  {
   "cell_type": "code",
   "execution_count": 209,
   "id": "c99b2a04",
   "metadata": {},
   "outputs": [
    {
     "data": {
      "text/plain": [
       "array(['ES', 'CA', 'US', 'DE', 'GB', 'NG', 'IN', 'HK', 'NL', 'CH', 'CF',\n",
       "       'FR', 'FI', 'IE', 'UA', 'IL', 'CO', 'SG', 'AU', 'SE', 'SI', 'MX',\n",
       "       'PT', 'RU', 'TH', 'GH', 'HR', 'BR', 'VN', 'EE', 'AM', 'BA', 'KE',\n",
       "       'GR', 'LV', 'RO', 'PK', 'IT', 'PL', 'AR', 'LT', 'AS', 'CR', 'HU',\n",
       "       'AT', 'SK', 'PR', 'PH', 'BE', 'ID', 'TR', 'EG', 'AE', 'MY', 'HN',\n",
       "       'CZ', 'JP', 'IQ', 'DK', 'CN', 'NZ', 'CL', 'MD', 'LU', 'MT'],\n",
       "      dtype=object)"
      ]
     },
     "execution_count": 209,
     "metadata": {},
     "output_type": "execute_result"
    }
   ],
   "source": [
    "df['company_location'].unique()"
   ]
  },
  {
   "cell_type": "code",
   "execution_count": 210,
   "id": "d632f309",
   "metadata": {},
   "outputs": [
    {
     "name": "stdout",
     "output_type": "stream",
     "text": [
      "company_location\n",
      "North America    3502\n",
      "Europe            591\n",
      "Other             175\n",
      "Name: count, dtype: int64\n"
     ]
    },
    {
     "data": {
      "image/png": "[encoded data removed]",
      "text/plain": [
       "<Figure size 640x480 with 1 Axes>"
      ]
     },
     "metadata": {},
     "output_type": "display_data"
    }
   ],
   "source": [
    "# Company location were organized into 6 continents due to redundancies\n",
    "df_mapped_com_location = df.company_location.map(lambda x: country_continent_map[x])\n",
    "print(df_mapped_com_location.value_counts())\n",
    "df_mapped_com_location.value_counts().plot(kind=\"bar\");"
   ]
  },
  {
   "cell_type": "code",
   "execution_count": null,
   "id": "6e9b1f65",
   "metadata": {},
   "outputs": [],
   "source": []
  },
  {
   "cell_type": "code",
   "execution_count": null,
   "id": "d8755c12",
   "metadata": {},
   "outputs": [],
   "source": []
  },
  {
   "cell_type": "code",
   "execution_count": 211,
   "id": "a233eb36",
   "metadata": {},
   "outputs": [
    {
     "data": {
      "text/html": [
       "<div>\n",
       "<style scoped>\n",
       "    .dataframe tbody tr th:only-of-type {\n",
       "        vertical-align: middle;\n",
       "    }\n",
       "\n",
       "    .dataframe tbody tr th {\n",
       "        vertical-align: top;\n",
       "    }\n",
       "\n",
       "    .dataframe thead th {\n",
       "        text-align: right;\n",
       "    }\n",
       "</style>\n",
       "<table border=\"1\" class=\"dataframe\">\n",
       "  <thead>\n",
       "    <tr style=\"text-align: right;\">\n",
       "      <th></th>\n",
       "      <th>work_year</th>\n",
       "      <th>experience_level</th>\n",
       "      <th>job_title</th>\n",
       "      <th>salary</th>\n",
       "      <th>salary_currency</th>\n",
       "      <th>salary_in_usd</th>\n",
       "      <th>employee_residence</th>\n",
       "      <th>remote_ratio</th>\n",
       "      <th>company_location</th>\n",
       "      <th>company_size</th>\n",
       "    </tr>\n",
       "  </thead>\n",
       "  <tbody>\n",
       "    <tr>\n",
       "      <th>1248</th>\n",
       "      <td>2023</td>\n",
       "      <td>EN</td>\n",
       "      <td>Data Engineer</td>\n",
       "      <td>12000</td>\n",
       "      <td>USD</td>\n",
       "      <td>12000</td>\n",
       "      <td>VN</td>\n",
       "      <td>0</td>\n",
       "      <td>VN</td>\n",
       "      <td>L</td>\n",
       "    </tr>\n",
       "    <tr>\n",
       "      <th>2021</th>\n",
       "      <td>2022</td>\n",
       "      <td>EN</td>\n",
       "      <td>Machine Learning Engineer</td>\n",
       "      <td>12000</td>\n",
       "      <td>USD</td>\n",
       "      <td>12000</td>\n",
       "      <td>AR</td>\n",
       "      <td>100</td>\n",
       "      <td>AR</td>\n",
       "      <td>L</td>\n",
       "    </tr>\n",
       "    <tr>\n",
       "      <th>3915</th>\n",
       "      <td>2021</td>\n",
       "      <td>MI</td>\n",
       "      <td>Data Engineer</td>\n",
       "      <td>108000</td>\n",
       "      <td>TRY</td>\n",
       "      <td>12103</td>\n",
       "      <td>TR</td>\n",
       "      <td>0</td>\n",
       "      <td>TR</td>\n",
       "      <td>M</td>\n",
       "    </tr>\n",
       "    <tr>\n",
       "      <th>3551</th>\n",
       "      <td>2021</td>\n",
       "      <td>MI</td>\n",
       "      <td>Data Engineer</td>\n",
       "      <td>108000</td>\n",
       "      <td>TRY</td>\n",
       "      <td>12103</td>\n",
       "      <td>TR</td>\n",
       "      <td>0</td>\n",
       "      <td>TR</td>\n",
       "      <td>M</td>\n",
       "    </tr>\n",
       "    <tr>\n",
       "      <th>3028</th>\n",
       "      <td>2021</td>\n",
       "      <td>EN</td>\n",
       "      <td>Machine Learning Research Engineer</td>\n",
       "      <td>900000</td>\n",
       "      <td>INR</td>\n",
       "      <td>12171</td>\n",
       "      <td>IN</td>\n",
       "      <td>100</td>\n",
       "      <td>IN</td>\n",
       "      <td>M</td>\n",
       "    </tr>\n",
       "    <tr>\n",
       "      <th>2410</th>\n",
       "      <td>2022</td>\n",
       "      <td>SE</td>\n",
       "      <td>Cloud Data Engineer</td>\n",
       "      <td>12000</td>\n",
       "      <td>EUR</td>\n",
       "      <td>12608</td>\n",
       "      <td>SK</td>\n",
       "      <td>100</td>\n",
       "      <td>SK</td>\n",
       "      <td>S</td>\n",
       "    </tr>\n",
       "    <tr>\n",
       "      <th>1332</th>\n",
       "      <td>2023</td>\n",
       "      <td>EN</td>\n",
       "      <td>Data Scientist</td>\n",
       "      <td>1050000</td>\n",
       "      <td>INR</td>\n",
       "      <td>12767</td>\n",
       "      <td>IN</td>\n",
       "      <td>50</td>\n",
       "      <td>IN</td>\n",
       "      <td>L</td>\n",
       "    </tr>\n",
       "    <tr>\n",
       "      <th>1538</th>\n",
       "      <td>2023</td>\n",
       "      <td>EN</td>\n",
       "      <td>Business Data Analyst</td>\n",
       "      <td>12000</td>\n",
       "      <td>EUR</td>\n",
       "      <td>12877</td>\n",
       "      <td>GR</td>\n",
       "      <td>50</td>\n",
       "      <td>GR</td>\n",
       "      <td>L</td>\n",
       "    </tr>\n",
       "    <tr>\n",
       "      <th>1503</th>\n",
       "      <td>2023</td>\n",
       "      <td>EN</td>\n",
       "      <td>Data Scientist</td>\n",
       "      <td>1060000</td>\n",
       "      <td>INR</td>\n",
       "      <td>12888</td>\n",
       "      <td>IN</td>\n",
       "      <td>50</td>\n",
       "      <td>IN</td>\n",
       "      <td>S</td>\n",
       "    </tr>\n",
       "    <tr>\n",
       "      <th>3647</th>\n",
       "      <td>2021</td>\n",
       "      <td>MI</td>\n",
       "      <td>Data Scientist</td>\n",
       "      <td>69600</td>\n",
       "      <td>BRL</td>\n",
       "      <td>12901</td>\n",
       "      <td>BR</td>\n",
       "      <td>0</td>\n",
       "      <td>BR</td>\n",
       "      <td>S</td>\n",
       "    </tr>\n",
       "    <tr>\n",
       "      <th>3878</th>\n",
       "      <td>2021</td>\n",
       "      <td>MI</td>\n",
       "      <td>Data Scientist</td>\n",
       "      <td>69600</td>\n",
       "      <td>BRL</td>\n",
       "      <td>12901</td>\n",
       "      <td>BR</td>\n",
       "      <td>0</td>\n",
       "      <td>BR</td>\n",
       "      <td>S</td>\n",
       "    </tr>\n",
       "    <tr>\n",
       "      <th>2108</th>\n",
       "      <td>2022</td>\n",
       "      <td>EN</td>\n",
       "      <td>Data Analytics Engineer</td>\n",
       "      <td>13000</td>\n",
       "      <td>USD</td>\n",
       "      <td>13000</td>\n",
       "      <td>AR</td>\n",
       "      <td>100</td>\n",
       "      <td>AR</td>\n",
       "      <td>S</td>\n",
       "    </tr>\n",
       "    <tr>\n",
       "      <th>3487</th>\n",
       "      <td>2021</td>\n",
       "      <td>EN</td>\n",
       "      <td>Data Scientist</td>\n",
       "      <td>13400</td>\n",
       "      <td>USD</td>\n",
       "      <td>13400</td>\n",
       "      <td>UA</td>\n",
       "      <td>100</td>\n",
       "      <td>UA</td>\n",
       "      <td>L</td>\n",
       "    </tr>\n",
       "    <tr>\n",
       "      <th>3831</th>\n",
       "      <td>2021</td>\n",
       "      <td>EN</td>\n",
       "      <td>Data Scientist</td>\n",
       "      <td>13400</td>\n",
       "      <td>USD</td>\n",
       "      <td>13400</td>\n",
       "      <td>UA</td>\n",
       "      <td>100</td>\n",
       "      <td>UA</td>\n",
       "      <td>L</td>\n",
       "    </tr>\n",
       "    <tr>\n",
       "      <th>3086</th>\n",
       "      <td>2020</td>\n",
       "      <td>EN</td>\n",
       "      <td>Data Engineer</td>\n",
       "      <td>1000000</td>\n",
       "      <td>INR</td>\n",
       "      <td>13493</td>\n",
       "      <td>IN</td>\n",
       "      <td>100</td>\n",
       "      <td>IN</td>\n",
       "      <td>L</td>\n",
       "    </tr>\n",
       "    <tr>\n",
       "      <th>3087</th>\n",
       "      <td>2020</td>\n",
       "      <td>EN</td>\n",
       "      <td>Data Engineer</td>\n",
       "      <td>1000000</td>\n",
       "      <td>INR</td>\n",
       "      <td>13493</td>\n",
       "      <td>IN</td>\n",
       "      <td>100</td>\n",
       "      <td>IN</td>\n",
       "      <td>L</td>\n",
       "    </tr>\n",
       "    <tr>\n",
       "      <th>1805</th>\n",
       "      <td>2022</td>\n",
       "      <td>MI</td>\n",
       "      <td>Data Scientist</td>\n",
       "      <td>1100000</td>\n",
       "      <td>INR</td>\n",
       "      <td>13989</td>\n",
       "      <td>IN</td>\n",
       "      <td>100</td>\n",
       "      <td>IN</td>\n",
       "      <td>L</td>\n",
       "    </tr>\n",
       "    <tr>\n",
       "      <th>1799</th>\n",
       "      <td>2022</td>\n",
       "      <td>MI</td>\n",
       "      <td>Data Analyst</td>\n",
       "      <td>1125000</td>\n",
       "      <td>INR</td>\n",
       "      <td>14307</td>\n",
       "      <td>IN</td>\n",
       "      <td>100</td>\n",
       "      <td>IN</td>\n",
       "      <td>L</td>\n",
       "    </tr>\n",
       "    <tr>\n",
       "      <th>181</th>\n",
       "      <td>2020</td>\n",
       "      <td>EX</td>\n",
       "      <td>Staff Data Analyst</td>\n",
       "      <td>15000</td>\n",
       "      <td>USD</td>\n",
       "      <td>15000</td>\n",
       "      <td>NG</td>\n",
       "      <td>0</td>\n",
       "      <td>CA</td>\n",
       "      <td>M</td>\n",
       "    </tr>\n",
       "    <tr>\n",
       "      <th>2809</th>\n",
       "      <td>2021</td>\n",
       "      <td>EN</td>\n",
       "      <td>Machine Learning Developer</td>\n",
       "      <td>15000</td>\n",
       "      <td>USD</td>\n",
       "      <td>15000</td>\n",
       "      <td>TH</td>\n",
       "      <td>100</td>\n",
       "      <td>TH</td>\n",
       "      <td>L</td>\n",
       "    </tr>\n",
       "    <tr>\n",
       "      <th>3106</th>\n",
       "      <td>2022</td>\n",
       "      <td>EN</td>\n",
       "      <td>Data Analyst</td>\n",
       "      <td>15000</td>\n",
       "      <td>USD</td>\n",
       "      <td>15000</td>\n",
       "      <td>ID</td>\n",
       "      <td>0</td>\n",
       "      <td>ID</td>\n",
       "      <td>L</td>\n",
       "    </tr>\n",
       "    <tr>\n",
       "      <th>981</th>\n",
       "      <td>2023</td>\n",
       "      <td>SE</td>\n",
       "      <td>Data Analyst</td>\n",
       "      <td>1300000</td>\n",
       "      <td>INR</td>\n",
       "      <td>15806</td>\n",
       "      <td>IN</td>\n",
       "      <td>100</td>\n",
       "      <td>IN</td>\n",
       "      <td>S</td>\n",
       "    </tr>\n",
       "    <tr>\n",
       "      <th>1586</th>\n",
       "      <td>2022</td>\n",
       "      <td>MI</td>\n",
       "      <td>Computer Vision Engineer</td>\n",
       "      <td>1250000</td>\n",
       "      <td>INR</td>\n",
       "      <td>15897</td>\n",
       "      <td>IN</td>\n",
       "      <td>100</td>\n",
       "      <td>IN</td>\n",
       "      <td>M</td>\n",
       "    </tr>\n",
       "    <tr>\n",
       "      <th>3899</th>\n",
       "      <td>2021</td>\n",
       "      <td>EN</td>\n",
       "      <td>Big Data Engineer</td>\n",
       "      <td>1200000</td>\n",
       "      <td>INR</td>\n",
       "      <td>16228</td>\n",
       "      <td>IN</td>\n",
       "      <td>100</td>\n",
       "      <td>IN</td>\n",
       "      <td>L</td>\n",
       "    </tr>\n",
       "    <tr>\n",
       "      <th>3596</th>\n",
       "      <td>2021</td>\n",
       "      <td>EN</td>\n",
       "      <td>Big Data Engineer</td>\n",
       "      <td>1200000</td>\n",
       "      <td>INR</td>\n",
       "      <td>16228</td>\n",
       "      <td>IN</td>\n",
       "      <td>100</td>\n",
       "      <td>IN</td>\n",
       "      <td>L</td>\n",
       "    </tr>\n",
       "    <tr>\n",
       "      <th>1251</th>\n",
       "      <td>2023</td>\n",
       "      <td>MI</td>\n",
       "      <td>Product Data Analyst</td>\n",
       "      <td>1350000</td>\n",
       "      <td>INR</td>\n",
       "      <td>16414</td>\n",
       "      <td>IN</td>\n",
       "      <td>100</td>\n",
       "      <td>IN</td>\n",
       "      <td>L</td>\n",
       "    </tr>\n",
       "    <tr>\n",
       "      <th>3592</th>\n",
       "      <td>2021</td>\n",
       "      <td>MI</td>\n",
       "      <td>Data Scientist</td>\n",
       "      <td>1250000</td>\n",
       "      <td>INR</td>\n",
       "      <td>16904</td>\n",
       "      <td>IN</td>\n",
       "      <td>100</td>\n",
       "      <td>IN</td>\n",
       "      <td>S</td>\n",
       "    </tr>\n",
       "    <tr>\n",
       "      <th>3930</th>\n",
       "      <td>2021</td>\n",
       "      <td>MI</td>\n",
       "      <td>Data Scientist</td>\n",
       "      <td>1250000</td>\n",
       "      <td>INR</td>\n",
       "      <td>16904</td>\n",
       "      <td>IN</td>\n",
       "      <td>100</td>\n",
       "      <td>IN</td>\n",
       "      <td>S</td>\n",
       "    </tr>\n",
       "    <tr>\n",
       "      <th>2019</th>\n",
       "      <td>2021</td>\n",
       "      <td>MI</td>\n",
       "      <td>Data Analyst</td>\n",
       "      <td>1250000</td>\n",
       "      <td>INR</td>\n",
       "      <td>16904</td>\n",
       "      <td>IN</td>\n",
       "      <td>50</td>\n",
       "      <td>IN</td>\n",
       "      <td>L</td>\n",
       "    </tr>\n",
       "    <tr>\n",
       "      <th>731</th>\n",
       "      <td>2023</td>\n",
       "      <td>MI</td>\n",
       "      <td>Data Scientist</td>\n",
       "      <td>1400000</td>\n",
       "      <td>INR</td>\n",
       "      <td>17022</td>\n",
       "      <td>IN</td>\n",
       "      <td>100</td>\n",
       "      <td>IN</td>\n",
       "      <td>L</td>\n",
       "    </tr>\n",
       "    <tr>\n",
       "      <th>215</th>\n",
       "      <td>2023</td>\n",
       "      <td>EN</td>\n",
       "      <td>Data Engineer</td>\n",
       "      <td>1400000</td>\n",
       "      <td>INR</td>\n",
       "      <td>17022</td>\n",
       "      <td>IN</td>\n",
       "      <td>100</td>\n",
       "      <td>IN</td>\n",
       "      <td>L</td>\n",
       "    </tr>\n",
       "    <tr>\n",
       "      <th>1539</th>\n",
       "      <td>2023</td>\n",
       "      <td>MI</td>\n",
       "      <td>Data Analytics Lead</td>\n",
       "      <td>1440000</td>\n",
       "      <td>INR</td>\n",
       "      <td>17509</td>\n",
       "      <td>IN</td>\n",
       "      <td>50</td>\n",
       "      <td>SG</td>\n",
       "      <td>M</td>\n",
       "    </tr>\n",
       "    <tr>\n",
       "      <th>2342</th>\n",
       "      <td>2022</td>\n",
       "      <td>EN</td>\n",
       "      <td>Data Scientist</td>\n",
       "      <td>6600000</td>\n",
       "      <td>HUF</td>\n",
       "      <td>17684</td>\n",
       "      <td>HU</td>\n",
       "      <td>100</td>\n",
       "      <td>HU</td>\n",
       "      <td>M</td>\n",
       "    </tr>\n",
       "    <tr>\n",
       "      <th>3392</th>\n",
       "      <td>2022</td>\n",
       "      <td>EN</td>\n",
       "      <td>Data Scientist</td>\n",
       "      <td>1400000</td>\n",
       "      <td>INR</td>\n",
       "      <td>17805</td>\n",
       "      <td>IN</td>\n",
       "      <td>100</td>\n",
       "      <td>IN</td>\n",
       "      <td>M</td>\n",
       "    </tr>\n",
       "    <tr>\n",
       "      <th>3389</th>\n",
       "      <td>2022</td>\n",
       "      <td>MI</td>\n",
       "      <td>Business Data Analyst</td>\n",
       "      <td>1400000</td>\n",
       "      <td>INR</td>\n",
       "      <td>17805</td>\n",
       "      <td>IN</td>\n",
       "      <td>100</td>\n",
       "      <td>IN</td>\n",
       "      <td>M</td>\n",
       "    </tr>\n",
       "    <tr>\n",
       "      <th>3661</th>\n",
       "      <td>2021</td>\n",
       "      <td>MI</td>\n",
       "      <td>Big Data Engineer</td>\n",
       "      <td>18000</td>\n",
       "      <td>USD</td>\n",
       "      <td>18000</td>\n",
       "      <td>MD</td>\n",
       "      <td>0</td>\n",
       "      <td>MD</td>\n",
       "      <td>S</td>\n",
       "    </tr>\n",
       "    <tr>\n",
       "      <th>3866</th>\n",
       "      <td>2021</td>\n",
       "      <td>MI</td>\n",
       "      <td>Big Data Engineer</td>\n",
       "      <td>18000</td>\n",
       "      <td>USD</td>\n",
       "      <td>18000</td>\n",
       "      <td>MD</td>\n",
       "      <td>0</td>\n",
       "      <td>MD</td>\n",
       "      <td>S</td>\n",
       "    </tr>\n",
       "    <tr>\n",
       "      <th>3912</th>\n",
       "      <td>2021</td>\n",
       "      <td>EN</td>\n",
       "      <td>AI Scientist</td>\n",
       "      <td>1335000</td>\n",
       "      <td>INR</td>\n",
       "      <td>18053</td>\n",
       "      <td>IN</td>\n",
       "      <td>100</td>\n",
       "      <td>AS</td>\n",
       "      <td>S</td>\n",
       "    </tr>\n",
       "    <tr>\n",
       "      <th>3669</th>\n",
       "      <td>2021</td>\n",
       "      <td>EN</td>\n",
       "      <td>AI Scientist</td>\n",
       "      <td>1335000</td>\n",
       "      <td>INR</td>\n",
       "      <td>18053</td>\n",
       "      <td>IN</td>\n",
       "      <td>100</td>\n",
       "      <td>AS</td>\n",
       "      <td>S</td>\n",
       "    </tr>\n",
       "    <tr>\n",
       "      <th>734</th>\n",
       "      <td>2023</td>\n",
       "      <td>MI</td>\n",
       "      <td>Lead Data Analyst</td>\n",
       "      <td>1500000</td>\n",
       "      <td>INR</td>\n",
       "      <td>18238</td>\n",
       "      <td>IN</td>\n",
       "      <td>50</td>\n",
       "      <td>IN</td>\n",
       "      <td>L</td>\n",
       "    </tr>\n",
       "    <tr>\n",
       "      <th>1728</th>\n",
       "      <td>2022</td>\n",
       "      <td>MI</td>\n",
       "      <td>Business Data Analyst</td>\n",
       "      <td>1440000</td>\n",
       "      <td>INR</td>\n",
       "      <td>18314</td>\n",
       "      <td>IN</td>\n",
       "      <td>50</td>\n",
       "      <td>IN</td>\n",
       "      <td>L</td>\n",
       "    </tr>\n",
       "    <tr>\n",
       "      <th>4128</th>\n",
       "      <td>2022</td>\n",
       "      <td>EN</td>\n",
       "      <td>Data Scientist</td>\n",
       "      <td>1400000</td>\n",
       "      <td>INR</td>\n",
       "      <td>18442</td>\n",
       "      <td>IN</td>\n",
       "      <td>100</td>\n",
       "      <td>IN</td>\n",
       "      <td>M</td>\n",
       "    </tr>\n",
       "    <tr>\n",
       "      <th>4124</th>\n",
       "      <td>2022</td>\n",
       "      <td>MI</td>\n",
       "      <td>Business Data Analyst</td>\n",
       "      <td>1400000</td>\n",
       "      <td>INR</td>\n",
       "      <td>18442</td>\n",
       "      <td>IN</td>\n",
       "      <td>100</td>\n",
       "      <td>IN</td>\n",
       "      <td>M</td>\n",
       "    </tr>\n",
       "    <tr>\n",
       "      <th>3663</th>\n",
       "      <td>2021</td>\n",
       "      <td>SE</td>\n",
       "      <td>Computer Vision Engineer</td>\n",
       "      <td>102000</td>\n",
       "      <td>BRL</td>\n",
       "      <td>18907</td>\n",
       "      <td>BR</td>\n",
       "      <td>0</td>\n",
       "      <td>BR</td>\n",
       "      <td>M</td>\n",
       "    </tr>\n",
       "    <tr>\n",
       "      <th>3939</th>\n",
       "      <td>2021</td>\n",
       "      <td>SE</td>\n",
       "      <td>Computer Vision Engineer</td>\n",
       "      <td>102000</td>\n",
       "      <td>BRL</td>\n",
       "      <td>18907</td>\n",
       "      <td>BR</td>\n",
       "      <td>0</td>\n",
       "      <td>BR</td>\n",
       "      <td>M</td>\n",
       "    </tr>\n",
       "    <tr>\n",
       "      <th>1158</th>\n",
       "      <td>2023</td>\n",
       "      <td>EN</td>\n",
       "      <td>Data Scientist</td>\n",
       "      <td>101400</td>\n",
       "      <td>BRL</td>\n",
       "      <td>19522</td>\n",
       "      <td>BR</td>\n",
       "      <td>100</td>\n",
       "      <td>BR</td>\n",
       "      <td>L</td>\n",
       "    </tr>\n",
       "    <tr>\n",
       "      <th>3674</th>\n",
       "      <td>2021</td>\n",
       "      <td>MI</td>\n",
       "      <td>Lead Data Analyst</td>\n",
       "      <td>1450000</td>\n",
       "      <td>INR</td>\n",
       "      <td>19609</td>\n",
       "      <td>IN</td>\n",
       "      <td>100</td>\n",
       "      <td>IN</td>\n",
       "      <td>L</td>\n",
       "    </tr>\n",
       "    <tr>\n",
       "      <th>3774</th>\n",
       "      <td>2021</td>\n",
       "      <td>MI</td>\n",
       "      <td>Lead Data Analyst</td>\n",
       "      <td>1450000</td>\n",
       "      <td>INR</td>\n",
       "      <td>19609</td>\n",
       "      <td>IN</td>\n",
       "      <td>100</td>\n",
       "      <td>IN</td>\n",
       "      <td>L</td>\n",
       "    </tr>\n",
       "    <tr>\n",
       "      <th>3806</th>\n",
       "      <td>2021</td>\n",
       "      <td>EN</td>\n",
       "      <td>Machine Learning Engineer</td>\n",
       "      <td>20000</td>\n",
       "      <td>USD</td>\n",
       "      <td>20000</td>\n",
       "      <td>IN</td>\n",
       "      <td>100</td>\n",
       "      <td>IN</td>\n",
       "      <td>S</td>\n",
       "    </tr>\n",
       "    <tr>\n",
       "      <th>2135</th>\n",
       "      <td>2021</td>\n",
       "      <td>EN</td>\n",
       "      <td>3D Computer Vision Researcher</td>\n",
       "      <td>20000</td>\n",
       "      <td>USD</td>\n",
       "      <td>20000</td>\n",
       "      <td>AS</td>\n",
       "      <td>0</td>\n",
       "      <td>AS</td>\n",
       "      <td>M</td>\n",
       "    </tr>\n",
       "  </tbody>\n",
       "</table>\n",
       "</div>"
      ],
      "text/plain": [
       "      work_year experience_level                           job_title   salary  \\\n",
       "1248       2023               EN                       Data Engineer    12000   \n",
       "2021       2022               EN           Machine Learning Engineer    12000   \n",
       "3915       2021               MI                       Data Engineer   108000   \n",
       "3551       2021               MI                       Data Engineer   108000   \n",
       "3028       2021               EN  Machine Learning Research Engineer   900000   \n",
       "2410       2022               SE                 Cloud Data Engineer    12000   \n",
       "1332       2023               EN                      Data Scientist  1050000   \n",
       "1538       2023               EN               Business Data Analyst    12000   \n",
       "1503       2023               EN                      Data Scientist  1060000   \n",
       "3647       2021               MI                      Data Scientist    69600   \n",
       "3878       2021               MI                      Data Scientist    69600   \n",
       "2108       2022               EN             Data Analytics Engineer    13000   \n",
       "3487       2021               EN                      Data Scientist    13400   \n",
       "3831       2021               EN                      Data Scientist    13400   \n",
       "3086       2020               EN                       Data Engineer  1000000   \n",
       "3087       2020               EN                       Data Engineer  1000000   \n",
       "1805       2022               MI                      Data Scientist  1100000   \n",
       "1799       2022               MI                        Data Analyst  1125000   \n",
       "181        2020               EX                  Staff Data Analyst    15000   \n",
       "2809       2021               EN          Machine Learning Developer    15000   \n",
       "3106       2022               EN                        Data Analyst    15000   \n",
       "981        2023               SE                        Data Analyst  1300000   \n",
       "1586       2022               MI            Computer Vision Engineer  1250000   \n",
       "3899       2021               EN                   Big Data Engineer  1200000   \n",
       "3596       2021               EN                   Big Data Engineer  1200000   \n",
       "1251       2023               MI                Product Data Analyst  1350000   \n",
       "3592       2021               MI                      Data Scientist  1250000   \n",
       "3930       2021               MI                      Data Scientist  1250000   \n",
       "2019       2021               MI                        Data Analyst  1250000   \n",
       "731        2023               MI                      Data Scientist  1400000   \n",
       "215        2023               EN                       Data Engineer  1400000   \n",
       "1539       2023               MI                 Data Analytics Lead  1440000   \n",
       "2342       2022               EN                      Data Scientist  6600000   \n",
       "3392       2022               EN                      Data Scientist  1400000   \n",
       "3389       2022               MI               Business Data Analyst  1400000   \n",
       "3661       2021               MI                   Big Data Engineer    18000   \n",
       "3866       2021               MI                   Big Data Engineer    18000   \n",
       "3912       2021               EN                        AI Scientist  1335000   \n",
       "3669       2021               EN                        AI Scientist  1335000   \n",
       "734        2023               MI                   Lead Data Analyst  1500000   \n",
       "1728       2022               MI               Business Data Analyst  1440000   \n",
       "4128       2022               EN                      Data Scientist  1400000   \n",
       "4124       2022               MI               Business Data Analyst  1400000   \n",
       "3663       2021               SE            Computer Vision Engineer   102000   \n",
       "3939       2021               SE            Computer Vision Engineer   102000   \n",
       "1158       2023               EN                      Data Scientist   101400   \n",
       "3674       2021               MI                   Lead Data Analyst  1450000   \n",
       "3774       2021               MI                   Lead Data Analyst  1450000   \n",
       "3806       2021               EN           Machine Learning Engineer    20000   \n",
       "2135       2021               EN       3D Computer Vision Researcher    20000   \n",
       "\n",
       "     salary_currency  salary_in_usd employee_residence  remote_ratio  \\\n",
       "1248             USD          12000                 VN             0   \n",
       "2021             USD          12000                 AR           100   \n",
       "3915             TRY          12103                 TR             0   \n",
       "3551             TRY          12103                 TR             0   \n",
       "3028             INR          12171                 IN           100   \n",
       "2410             EUR          12608                 SK           100   \n",
       "1332             INR          12767                 IN            50   \n",
       "1538             EUR          12877                 GR            50   \n",
       "1503             INR          12888                 IN            50   \n",
       "3647             BRL          12901                 BR             0   \n",
       "3878             BRL          12901                 BR             0   \n",
       "2108             USD          13000                 AR           100   \n",
       "3487             USD          13400                 UA           100   \n",
       "3831             USD          13400                 UA           100   \n",
       "3086             INR          13493                 IN           100   \n",
       "3087             INR          13493                 IN           100   \n",
       "1805             INR          13989                 IN           100   \n",
       "1799             INR          14307                 IN           100   \n",
       "181              USD          15000                 NG             0   \n",
       "2809             USD          15000                 TH           100   \n",
       "3106             USD          15000                 ID             0   \n",
       "981              INR          15806                 IN           100   \n",
       "1586             INR          15897                 IN           100   \n",
       "3899             INR          16228                 IN           100   \n",
       "3596             INR          16228                 IN           100   \n",
       "1251             INR          16414                 IN           100   \n",
       "3592             INR          16904                 IN           100   \n",
       "3930             INR          16904                 IN           100   \n",
       "2019             INR          16904                 IN            50   \n",
       "731              INR          17022                 IN           100   \n",
       "215              INR          17022                 IN           100   \n",
       "1539             INR          17509                 IN            50   \n",
       "2342             HUF          17684                 HU           100   \n",
       "3392             INR          17805                 IN           100   \n",
       "3389             INR          17805                 IN           100   \n",
       "3661             USD          18000                 MD             0   \n",
       "3866             USD          18000                 MD             0   \n",
       "3912             INR          18053                 IN           100   \n",
       "3669             INR          18053                 IN           100   \n",
       "734              INR          18238                 IN            50   \n",
       "1728             INR          18314                 IN            50   \n",
       "4128             INR          18442                 IN           100   \n",
       "4124             INR          18442                 IN           100   \n",
       "3663             BRL          18907                 BR             0   \n",
       "3939             BRL          18907                 BR             0   \n",
       "1158             BRL          19522                 BR           100   \n",
       "3674             INR          19609                 IN           100   \n",
       "3774             INR          19609                 IN           100   \n",
       "3806             USD          20000                 IN           100   \n",
       "2135             USD          20000                 AS             0   \n",
       "\n",
       "     company_location company_size  \n",
       "1248               VN            L  \n",
       "2021               AR            L  \n",
       "3915               TR            M  \n",
       "3551               TR            M  \n",
       "3028               IN            M  \n",
       "2410               SK            S  \n",
       "1332               IN            L  \n",
       "1538               GR            L  \n",
       "1503               IN            S  \n",
       "3647               BR            S  \n",
       "3878               BR            S  \n",
       "2108               AR            S  \n",
       "3487               UA            L  \n",
       "3831               UA            L  \n",
       "3086               IN            L  \n",
       "3087               IN            L  \n",
       "1805               IN            L  \n",
       "1799               IN            L  \n",
       "181                CA            M  \n",
       "2809               TH            L  \n",
       "3106               ID            L  \n",
       "981                IN            S  \n",
       "1586               IN            M  \n",
       "3899               IN            L  \n",
       "3596               IN            L  \n",
       "1251               IN            L  \n",
       "3592               IN            S  \n",
       "3930               IN            S  \n",
       "2019               IN            L  \n",
       "731                IN            L  \n",
       "215                IN            L  \n",
       "1539               SG            M  \n",
       "2342               HU            M  \n",
       "3392               IN            M  \n",
       "3389               IN            M  \n",
       "3661               MD            S  \n",
       "3866               MD            S  \n",
       "3912               AS            S  \n",
       "3669               AS            S  \n",
       "734                IN            L  \n",
       "1728               IN            L  \n",
       "4128               IN            M  \n",
       "4124               IN            M  \n",
       "3663               BR            M  \n",
       "3939               BR            M  \n",
       "1158               BR            L  \n",
       "3674               IN            L  \n",
       "3774               IN            L  \n",
       "3806               IN            S  \n",
       "2135               AS            M  "
      ]
     },
     "execution_count": 211,
     "metadata": {},
     "output_type": "execute_result"
    }
   ],
   "source": [
    "sorted_df = df.sort_values(\"salary_in_usd\")\n",
    "sorted_df.head(50)"
   ]
  },
  {
   "cell_type": "code",
   "execution_count": 212,
   "id": "f4590f35",
   "metadata": {},
   "outputs": [
    {
     "name": "stdout",
     "output_type": "stream",
     "text": [
      "Number of rows with salary under 12000: 0\n"
     ]
    }
   ],
   "source": [
    "num_rows_under_12000 = len(df[df['salary_in_usd'] < 12000])\n",
    "print(\"Number of rows with salary under 12000:\", num_rows_under_12000)"
   ]
  },
  {
   "cell_type": "code",
   "execution_count": 213,
   "id": "6b45c67a",
   "metadata": {},
   "outputs": [
    {
     "data": {
      "text/plain": [
       "(4268, 10)"
      ]
     },
     "execution_count": 213,
     "metadata": {},
     "output_type": "execute_result"
    }
   ],
   "source": [
    "df.shape"
   ]
  },
  {
   "cell_type": "code",
   "execution_count": 214,
   "id": "3eeeef1e",
   "metadata": {},
   "outputs": [
    {
     "data": {
      "text/html": [
       "<div>\n",
       "<style scoped>\n",
       "    .dataframe tbody tr th:only-of-type {\n",
       "        vertical-align: middle;\n",
       "    }\n",
       "\n",
       "    .dataframe tbody tr th {\n",
       "        vertical-align: top;\n",
       "    }\n",
       "\n",
       "    .dataframe thead th {\n",
       "        text-align: right;\n",
       "    }\n",
       "</style>\n",
       "<table border=\"1\" class=\"dataframe\">\n",
       "  <thead>\n",
       "    <tr style=\"text-align: right;\">\n",
       "      <th></th>\n",
       "      <th>work_year</th>\n",
       "      <th>experience_level</th>\n",
       "      <th>job_title</th>\n",
       "      <th>salary</th>\n",
       "      <th>salary_currency</th>\n",
       "      <th>salary_in_usd</th>\n",
       "      <th>employee_residence</th>\n",
       "      <th>remote_ratio</th>\n",
       "      <th>company_location</th>\n",
       "      <th>company_size</th>\n",
       "    </tr>\n",
       "  </thead>\n",
       "  <tbody>\n",
       "    <tr>\n",
       "      <th>1248</th>\n",
       "      <td>2023</td>\n",
       "      <td>EN</td>\n",
       "      <td>Data Engineer</td>\n",
       "      <td>12000</td>\n",
       "      <td>USD</td>\n",
       "      <td>12000</td>\n",
       "      <td>VN</td>\n",
       "      <td>0</td>\n",
       "      <td>VN</td>\n",
       "      <td>L</td>\n",
       "    </tr>\n",
       "    <tr>\n",
       "      <th>2021</th>\n",
       "      <td>2022</td>\n",
       "      <td>EN</td>\n",
       "      <td>Machine Learning Engineer</td>\n",
       "      <td>12000</td>\n",
       "      <td>USD</td>\n",
       "      <td>12000</td>\n",
       "      <td>AR</td>\n",
       "      <td>100</td>\n",
       "      <td>AR</td>\n",
       "      <td>L</td>\n",
       "    </tr>\n",
       "    <tr>\n",
       "      <th>3915</th>\n",
       "      <td>2021</td>\n",
       "      <td>MI</td>\n",
       "      <td>Data Engineer</td>\n",
       "      <td>108000</td>\n",
       "      <td>TRY</td>\n",
       "      <td>12103</td>\n",
       "      <td>TR</td>\n",
       "      <td>0</td>\n",
       "      <td>TR</td>\n",
       "      <td>M</td>\n",
       "    </tr>\n",
       "    <tr>\n",
       "      <th>3551</th>\n",
       "      <td>2021</td>\n",
       "      <td>MI</td>\n",
       "      <td>Data Engineer</td>\n",
       "      <td>108000</td>\n",
       "      <td>TRY</td>\n",
       "      <td>12103</td>\n",
       "      <td>TR</td>\n",
       "      <td>0</td>\n",
       "      <td>TR</td>\n",
       "      <td>M</td>\n",
       "    </tr>\n",
       "    <tr>\n",
       "      <th>3028</th>\n",
       "      <td>2021</td>\n",
       "      <td>EN</td>\n",
       "      <td>Machine Learning Research Engineer</td>\n",
       "      <td>900000</td>\n",
       "      <td>INR</td>\n",
       "      <td>12171</td>\n",
       "      <td>IN</td>\n",
       "      <td>100</td>\n",
       "      <td>IN</td>\n",
       "      <td>M</td>\n",
       "    </tr>\n",
       "    <tr>\n",
       "      <th>2410</th>\n",
       "      <td>2022</td>\n",
       "      <td>SE</td>\n",
       "      <td>Cloud Data Engineer</td>\n",
       "      <td>12000</td>\n",
       "      <td>EUR</td>\n",
       "      <td>12608</td>\n",
       "      <td>SK</td>\n",
       "      <td>100</td>\n",
       "      <td>SK</td>\n",
       "      <td>S</td>\n",
       "    </tr>\n",
       "    <tr>\n",
       "      <th>1332</th>\n",
       "      <td>2023</td>\n",
       "      <td>EN</td>\n",
       "      <td>Data Scientist</td>\n",
       "      <td>1050000</td>\n",
       "      <td>INR</td>\n",
       "      <td>12767</td>\n",
       "      <td>IN</td>\n",
       "      <td>50</td>\n",
       "      <td>IN</td>\n",
       "      <td>L</td>\n",
       "    </tr>\n",
       "    <tr>\n",
       "      <th>1538</th>\n",
       "      <td>2023</td>\n",
       "      <td>EN</td>\n",
       "      <td>Business Data Analyst</td>\n",
       "      <td>12000</td>\n",
       "      <td>EUR</td>\n",
       "      <td>12877</td>\n",
       "      <td>GR</td>\n",
       "      <td>50</td>\n",
       "      <td>GR</td>\n",
       "      <td>L</td>\n",
       "    </tr>\n",
       "    <tr>\n",
       "      <th>1503</th>\n",
       "      <td>2023</td>\n",
       "      <td>EN</td>\n",
       "      <td>Data Scientist</td>\n",
       "      <td>1060000</td>\n",
       "      <td>INR</td>\n",
       "      <td>12888</td>\n",
       "      <td>IN</td>\n",
       "      <td>50</td>\n",
       "      <td>IN</td>\n",
       "      <td>S</td>\n",
       "    </tr>\n",
       "    <tr>\n",
       "      <th>3647</th>\n",
       "      <td>2021</td>\n",
       "      <td>MI</td>\n",
       "      <td>Data Scientist</td>\n",
       "      <td>69600</td>\n",
       "      <td>BRL</td>\n",
       "      <td>12901</td>\n",
       "      <td>BR</td>\n",
       "      <td>0</td>\n",
       "      <td>BR</td>\n",
       "      <td>S</td>\n",
       "    </tr>\n",
       "    <tr>\n",
       "      <th>3878</th>\n",
       "      <td>2021</td>\n",
       "      <td>MI</td>\n",
       "      <td>Data Scientist</td>\n",
       "      <td>69600</td>\n",
       "      <td>BRL</td>\n",
       "      <td>12901</td>\n",
       "      <td>BR</td>\n",
       "      <td>0</td>\n",
       "      <td>BR</td>\n",
       "      <td>S</td>\n",
       "    </tr>\n",
       "    <tr>\n",
       "      <th>2108</th>\n",
       "      <td>2022</td>\n",
       "      <td>EN</td>\n",
       "      <td>Data Analytics Engineer</td>\n",
       "      <td>13000</td>\n",
       "      <td>USD</td>\n",
       "      <td>13000</td>\n",
       "      <td>AR</td>\n",
       "      <td>100</td>\n",
       "      <td>AR</td>\n",
       "      <td>S</td>\n",
       "    </tr>\n",
       "    <tr>\n",
       "      <th>3487</th>\n",
       "      <td>2021</td>\n",
       "      <td>EN</td>\n",
       "      <td>Data Scientist</td>\n",
       "      <td>13400</td>\n",
       "      <td>USD</td>\n",
       "      <td>13400</td>\n",
       "      <td>UA</td>\n",
       "      <td>100</td>\n",
       "      <td>UA</td>\n",
       "      <td>L</td>\n",
       "    </tr>\n",
       "    <tr>\n",
       "      <th>3831</th>\n",
       "      <td>2021</td>\n",
       "      <td>EN</td>\n",
       "      <td>Data Scientist</td>\n",
       "      <td>13400</td>\n",
       "      <td>USD</td>\n",
       "      <td>13400</td>\n",
       "      <td>UA</td>\n",
       "      <td>100</td>\n",
       "      <td>UA</td>\n",
       "      <td>L</td>\n",
       "    </tr>\n",
       "    <tr>\n",
       "      <th>3086</th>\n",
       "      <td>2020</td>\n",
       "      <td>EN</td>\n",
       "      <td>Data Engineer</td>\n",
       "      <td>1000000</td>\n",
       "      <td>INR</td>\n",
       "      <td>13493</td>\n",
       "      <td>IN</td>\n",
       "      <td>100</td>\n",
       "      <td>IN</td>\n",
       "      <td>L</td>\n",
       "    </tr>\n",
       "    <tr>\n",
       "      <th>3087</th>\n",
       "      <td>2020</td>\n",
       "      <td>EN</td>\n",
       "      <td>Data Engineer</td>\n",
       "      <td>1000000</td>\n",
       "      <td>INR</td>\n",
       "      <td>13493</td>\n",
       "      <td>IN</td>\n",
       "      <td>100</td>\n",
       "      <td>IN</td>\n",
       "      <td>L</td>\n",
       "    </tr>\n",
       "    <tr>\n",
       "      <th>1805</th>\n",
       "      <td>2022</td>\n",
       "      <td>MI</td>\n",
       "      <td>Data Scientist</td>\n",
       "      <td>1100000</td>\n",
       "      <td>INR</td>\n",
       "      <td>13989</td>\n",
       "      <td>IN</td>\n",
       "      <td>100</td>\n",
       "      <td>IN</td>\n",
       "      <td>L</td>\n",
       "    </tr>\n",
       "    <tr>\n",
       "      <th>1799</th>\n",
       "      <td>2022</td>\n",
       "      <td>MI</td>\n",
       "      <td>Data Analyst</td>\n",
       "      <td>1125000</td>\n",
       "      <td>INR</td>\n",
       "      <td>14307</td>\n",
       "      <td>IN</td>\n",
       "      <td>100</td>\n",
       "      <td>IN</td>\n",
       "      <td>L</td>\n",
       "    </tr>\n",
       "    <tr>\n",
       "      <th>181</th>\n",
       "      <td>2020</td>\n",
       "      <td>EX</td>\n",
       "      <td>Staff Data Analyst</td>\n",
       "      <td>15000</td>\n",
       "      <td>USD</td>\n",
       "      <td>15000</td>\n",
       "      <td>NG</td>\n",
       "      <td>0</td>\n",
       "      <td>CA</td>\n",
       "      <td>M</td>\n",
       "    </tr>\n",
       "    <tr>\n",
       "      <th>2809</th>\n",
       "      <td>2021</td>\n",
       "      <td>EN</td>\n",
       "      <td>Machine Learning Developer</td>\n",
       "      <td>15000</td>\n",
       "      <td>USD</td>\n",
       "      <td>15000</td>\n",
       "      <td>TH</td>\n",
       "      <td>100</td>\n",
       "      <td>TH</td>\n",
       "      <td>L</td>\n",
       "    </tr>\n",
       "    <tr>\n",
       "      <th>3106</th>\n",
       "      <td>2022</td>\n",
       "      <td>EN</td>\n",
       "      <td>Data Analyst</td>\n",
       "      <td>15000</td>\n",
       "      <td>USD</td>\n",
       "      <td>15000</td>\n",
       "      <td>ID</td>\n",
       "      <td>0</td>\n",
       "      <td>ID</td>\n",
       "      <td>L</td>\n",
       "    </tr>\n",
       "    <tr>\n",
       "      <th>981</th>\n",
       "      <td>2023</td>\n",
       "      <td>SE</td>\n",
       "      <td>Data Analyst</td>\n",
       "      <td>1300000</td>\n",
       "      <td>INR</td>\n",
       "      <td>15806</td>\n",
       "      <td>IN</td>\n",
       "      <td>100</td>\n",
       "      <td>IN</td>\n",
       "      <td>S</td>\n",
       "    </tr>\n",
       "    <tr>\n",
       "      <th>1586</th>\n",
       "      <td>2022</td>\n",
       "      <td>MI</td>\n",
       "      <td>Computer Vision Engineer</td>\n",
       "      <td>1250000</td>\n",
       "      <td>INR</td>\n",
       "      <td>15897</td>\n",
       "      <td>IN</td>\n",
       "      <td>100</td>\n",
       "      <td>IN</td>\n",
       "      <td>M</td>\n",
       "    </tr>\n",
       "    <tr>\n",
       "      <th>3899</th>\n",
       "      <td>2021</td>\n",
       "      <td>EN</td>\n",
       "      <td>Big Data Engineer</td>\n",
       "      <td>1200000</td>\n",
       "      <td>INR</td>\n",
       "      <td>16228</td>\n",
       "      <td>IN</td>\n",
       "      <td>100</td>\n",
       "      <td>IN</td>\n",
       "      <td>L</td>\n",
       "    </tr>\n",
       "    <tr>\n",
       "      <th>3596</th>\n",
       "      <td>2021</td>\n",
       "      <td>EN</td>\n",
       "      <td>Big Data Engineer</td>\n",
       "      <td>1200000</td>\n",
       "      <td>INR</td>\n",
       "      <td>16228</td>\n",
       "      <td>IN</td>\n",
       "      <td>100</td>\n",
       "      <td>IN</td>\n",
       "      <td>L</td>\n",
       "    </tr>\n",
       "    <tr>\n",
       "      <th>1251</th>\n",
       "      <td>2023</td>\n",
       "      <td>MI</td>\n",
       "      <td>Product Data Analyst</td>\n",
       "      <td>1350000</td>\n",
       "      <td>INR</td>\n",
       "      <td>16414</td>\n",
       "      <td>IN</td>\n",
       "      <td>100</td>\n",
       "      <td>IN</td>\n",
       "      <td>L</td>\n",
       "    </tr>\n",
       "    <tr>\n",
       "      <th>3592</th>\n",
       "      <td>2021</td>\n",
       "      <td>MI</td>\n",
       "      <td>Data Scientist</td>\n",
       "      <td>1250000</td>\n",
       "      <td>INR</td>\n",
       "      <td>16904</td>\n",
       "      <td>IN</td>\n",
       "      <td>100</td>\n",
       "      <td>IN</td>\n",
       "      <td>S</td>\n",
       "    </tr>\n",
       "    <tr>\n",
       "      <th>3930</th>\n",
       "      <td>2021</td>\n",
       "      <td>MI</td>\n",
       "      <td>Data Scientist</td>\n",
       "      <td>1250000</td>\n",
       "      <td>INR</td>\n",
       "      <td>16904</td>\n",
       "      <td>IN</td>\n",
       "      <td>100</td>\n",
       "      <td>IN</td>\n",
       "      <td>S</td>\n",
       "    </tr>\n",
       "    <tr>\n",
       "      <th>2019</th>\n",
       "      <td>2021</td>\n",
       "      <td>MI</td>\n",
       "      <td>Data Analyst</td>\n",
       "      <td>1250000</td>\n",
       "      <td>INR</td>\n",
       "      <td>16904</td>\n",
       "      <td>IN</td>\n",
       "      <td>50</td>\n",
       "      <td>IN</td>\n",
       "      <td>L</td>\n",
       "    </tr>\n",
       "    <tr>\n",
       "      <th>731</th>\n",
       "      <td>2023</td>\n",
       "      <td>MI</td>\n",
       "      <td>Data Scientist</td>\n",
       "      <td>1400000</td>\n",
       "      <td>INR</td>\n",
       "      <td>17022</td>\n",
       "      <td>IN</td>\n",
       "      <td>100</td>\n",
       "      <td>IN</td>\n",
       "      <td>L</td>\n",
       "    </tr>\n",
       "    <tr>\n",
       "      <th>215</th>\n",
       "      <td>2023</td>\n",
       "      <td>EN</td>\n",
       "      <td>Data Engineer</td>\n",
       "      <td>1400000</td>\n",
       "      <td>INR</td>\n",
       "      <td>17022</td>\n",
       "      <td>IN</td>\n",
       "      <td>100</td>\n",
       "      <td>IN</td>\n",
       "      <td>L</td>\n",
       "    </tr>\n",
       "    <tr>\n",
       "      <th>1539</th>\n",
       "      <td>2023</td>\n",
       "      <td>MI</td>\n",
       "      <td>Data Analytics Lead</td>\n",
       "      <td>1440000</td>\n",
       "      <td>INR</td>\n",
       "      <td>17509</td>\n",
       "      <td>IN</td>\n",
       "      <td>50</td>\n",
       "      <td>SG</td>\n",
       "      <td>M</td>\n",
       "    </tr>\n",
       "    <tr>\n",
       "      <th>2342</th>\n",
       "      <td>2022</td>\n",
       "      <td>EN</td>\n",
       "      <td>Data Scientist</td>\n",
       "      <td>6600000</td>\n",
       "      <td>HUF</td>\n",
       "      <td>17684</td>\n",
       "      <td>HU</td>\n",
       "      <td>100</td>\n",
       "      <td>HU</td>\n",
       "      <td>M</td>\n",
       "    </tr>\n",
       "    <tr>\n",
       "      <th>3392</th>\n",
       "      <td>2022</td>\n",
       "      <td>EN</td>\n",
       "      <td>Data Scientist</td>\n",
       "      <td>1400000</td>\n",
       "      <td>INR</td>\n",
       "      <td>17805</td>\n",
       "      <td>IN</td>\n",
       "      <td>100</td>\n",
       "      <td>IN</td>\n",
       "      <td>M</td>\n",
       "    </tr>\n",
       "    <tr>\n",
       "      <th>3389</th>\n",
       "      <td>2022</td>\n",
       "      <td>MI</td>\n",
       "      <td>Business Data Analyst</td>\n",
       "      <td>1400000</td>\n",
       "      <td>INR</td>\n",
       "      <td>17805</td>\n",
       "      <td>IN</td>\n",
       "      <td>100</td>\n",
       "      <td>IN</td>\n",
       "      <td>M</td>\n",
       "    </tr>\n",
       "    <tr>\n",
       "      <th>3661</th>\n",
       "      <td>2021</td>\n",
       "      <td>MI</td>\n",
       "      <td>Big Data Engineer</td>\n",
       "      <td>18000</td>\n",
       "      <td>USD</td>\n",
       "      <td>18000</td>\n",
       "      <td>MD</td>\n",
       "      <td>0</td>\n",
       "      <td>MD</td>\n",
       "      <td>S</td>\n",
       "    </tr>\n",
       "    <tr>\n",
       "      <th>3866</th>\n",
       "      <td>2021</td>\n",
       "      <td>MI</td>\n",
       "      <td>Big Data Engineer</td>\n",
       "      <td>18000</td>\n",
       "      <td>USD</td>\n",
       "      <td>18000</td>\n",
       "      <td>MD</td>\n",
       "      <td>0</td>\n",
       "      <td>MD</td>\n",
       "      <td>S</td>\n",
       "    </tr>\n",
       "    <tr>\n",
       "      <th>3912</th>\n",
       "      <td>2021</td>\n",
       "      <td>EN</td>\n",
       "      <td>AI Scientist</td>\n",
       "      <td>1335000</td>\n",
       "      <td>INR</td>\n",
       "      <td>18053</td>\n",
       "      <td>IN</td>\n",
       "      <td>100</td>\n",
       "      <td>AS</td>\n",
       "      <td>S</td>\n",
       "    </tr>\n",
       "    <tr>\n",
       "      <th>3669</th>\n",
       "      <td>2021</td>\n",
       "      <td>EN</td>\n",
       "      <td>AI Scientist</td>\n",
       "      <td>1335000</td>\n",
       "      <td>INR</td>\n",
       "      <td>18053</td>\n",
       "      <td>IN</td>\n",
       "      <td>100</td>\n",
       "      <td>AS</td>\n",
       "      <td>S</td>\n",
       "    </tr>\n",
       "    <tr>\n",
       "      <th>734</th>\n",
       "      <td>2023</td>\n",
       "      <td>MI</td>\n",
       "      <td>Lead Data Analyst</td>\n",
       "      <td>1500000</td>\n",
       "      <td>INR</td>\n",
       "      <td>18238</td>\n",
       "      <td>IN</td>\n",
       "      <td>50</td>\n",
       "      <td>IN</td>\n",
       "      <td>L</td>\n",
       "    </tr>\n",
       "    <tr>\n",
       "      <th>1728</th>\n",
       "      <td>2022</td>\n",
       "      <td>MI</td>\n",
       "      <td>Business Data Analyst</td>\n",
       "      <td>1440000</td>\n",
       "      <td>INR</td>\n",
       "      <td>18314</td>\n",
       "      <td>IN</td>\n",
       "      <td>50</td>\n",
       "      <td>IN</td>\n",
       "      <td>L</td>\n",
       "    </tr>\n",
       "    <tr>\n",
       "      <th>4128</th>\n",
       "      <td>2022</td>\n",
       "      <td>EN</td>\n",
       "      <td>Data Scientist</td>\n",
       "      <td>1400000</td>\n",
       "      <td>INR</td>\n",
       "      <td>18442</td>\n",
       "      <td>IN</td>\n",
       "      <td>100</td>\n",
       "      <td>IN</td>\n",
       "      <td>M</td>\n",
       "    </tr>\n",
       "    <tr>\n",
       "      <th>4124</th>\n",
       "      <td>2022</td>\n",
       "      <td>MI</td>\n",
       "      <td>Business Data Analyst</td>\n",
       "      <td>1400000</td>\n",
       "      <td>INR</td>\n",
       "      <td>18442</td>\n",
       "      <td>IN</td>\n",
       "      <td>100</td>\n",
       "      <td>IN</td>\n",
       "      <td>M</td>\n",
       "    </tr>\n",
       "    <tr>\n",
       "      <th>3663</th>\n",
       "      <td>2021</td>\n",
       "      <td>SE</td>\n",
       "      <td>Computer Vision Engineer</td>\n",
       "      <td>102000</td>\n",
       "      <td>BRL</td>\n",
       "      <td>18907</td>\n",
       "      <td>BR</td>\n",
       "      <td>0</td>\n",
       "      <td>BR</td>\n",
       "      <td>M</td>\n",
       "    </tr>\n",
       "    <tr>\n",
       "      <th>3939</th>\n",
       "      <td>2021</td>\n",
       "      <td>SE</td>\n",
       "      <td>Computer Vision Engineer</td>\n",
       "      <td>102000</td>\n",
       "      <td>BRL</td>\n",
       "      <td>18907</td>\n",
       "      <td>BR</td>\n",
       "      <td>0</td>\n",
       "      <td>BR</td>\n",
       "      <td>M</td>\n",
       "    </tr>\n",
       "    <tr>\n",
       "      <th>1158</th>\n",
       "      <td>2023</td>\n",
       "      <td>EN</td>\n",
       "      <td>Data Scientist</td>\n",
       "      <td>101400</td>\n",
       "      <td>BRL</td>\n",
       "      <td>19522</td>\n",
       "      <td>BR</td>\n",
       "      <td>100</td>\n",
       "      <td>BR</td>\n",
       "      <td>L</td>\n",
       "    </tr>\n",
       "    <tr>\n",
       "      <th>3674</th>\n",
       "      <td>2021</td>\n",
       "      <td>MI</td>\n",
       "      <td>Lead Data Analyst</td>\n",
       "      <td>1450000</td>\n",
       "      <td>INR</td>\n",
       "      <td>19609</td>\n",
       "      <td>IN</td>\n",
       "      <td>100</td>\n",
       "      <td>IN</td>\n",
       "      <td>L</td>\n",
       "    </tr>\n",
       "    <tr>\n",
       "      <th>3774</th>\n",
       "      <td>2021</td>\n",
       "      <td>MI</td>\n",
       "      <td>Lead Data Analyst</td>\n",
       "      <td>1450000</td>\n",
       "      <td>INR</td>\n",
       "      <td>19609</td>\n",
       "      <td>IN</td>\n",
       "      <td>100</td>\n",
       "      <td>IN</td>\n",
       "      <td>L</td>\n",
       "    </tr>\n",
       "    <tr>\n",
       "      <th>3806</th>\n",
       "      <td>2021</td>\n",
       "      <td>EN</td>\n",
       "      <td>Machine Learning Engineer</td>\n",
       "      <td>20000</td>\n",
       "      <td>USD</td>\n",
       "      <td>20000</td>\n",
       "      <td>IN</td>\n",
       "      <td>100</td>\n",
       "      <td>IN</td>\n",
       "      <td>S</td>\n",
       "    </tr>\n",
       "    <tr>\n",
       "      <th>2135</th>\n",
       "      <td>2021</td>\n",
       "      <td>EN</td>\n",
       "      <td>3D Computer Vision Researcher</td>\n",
       "      <td>20000</td>\n",
       "      <td>USD</td>\n",
       "      <td>20000</td>\n",
       "      <td>AS</td>\n",
       "      <td>0</td>\n",
       "      <td>AS</td>\n",
       "      <td>M</td>\n",
       "    </tr>\n",
       "  </tbody>\n",
       "</table>\n",
       "</div>"
      ],
      "text/plain": [
       "      work_year experience_level                           job_title   salary  \\\n",
       "1248       2023               EN                       Data Engineer    12000   \n",
       "2021       2022               EN           Machine Learning Engineer    12000   \n",
       "3915       2021               MI                       Data Engineer   108000   \n",
       "3551       2021               MI                       Data Engineer   108000   \n",
       "3028       2021               EN  Machine Learning Research Engineer   900000   \n",
       "2410       2022               SE                 Cloud Data Engineer    12000   \n",
       "1332       2023               EN                      Data Scientist  1050000   \n",
       "1538       2023               EN               Business Data Analyst    12000   \n",
       "1503       2023               EN                      Data Scientist  1060000   \n",
       "3647       2021               MI                      Data Scientist    69600   \n",
       "3878       2021               MI                      Data Scientist    69600   \n",
       "2108       2022               EN             Data Analytics Engineer    13000   \n",
       "3487       2021               EN                      Data Scientist    13400   \n",
       "3831       2021               EN                      Data Scientist    13400   \n",
       "3086       2020               EN                       Data Engineer  1000000   \n",
       "3087       2020               EN                       Data Engineer  1000000   \n",
       "1805       2022               MI                      Data Scientist  1100000   \n",
       "1799       2022               MI                        Data Analyst  1125000   \n",
       "181        2020               EX                  Staff Data Analyst    15000   \n",
       "2809       2021               EN          Machine Learning Developer    15000   \n",
       "3106       2022               EN                        Data Analyst    15000   \n",
       "981        2023               SE                        Data Analyst  1300000   \n",
       "1586       2022               MI            Computer Vision Engineer  1250000   \n",
       "3899       2021               EN                   Big Data Engineer  1200000   \n",
       "3596       2021               EN                   Big Data Engineer  1200000   \n",
       "1251       2023               MI                Product Data Analyst  1350000   \n",
       "3592       2021               MI                      Data Scientist  1250000   \n",
       "3930       2021               MI                      Data Scientist  1250000   \n",
       "2019       2021               MI                        Data Analyst  1250000   \n",
       "731        2023               MI                      Data Scientist  1400000   \n",
       "215        2023               EN                       Data Engineer  1400000   \n",
       "1539       2023               MI                 Data Analytics Lead  1440000   \n",
       "2342       2022               EN                      Data Scientist  6600000   \n",
       "3392       2022               EN                      Data Scientist  1400000   \n",
       "3389       2022               MI               Business Data Analyst  1400000   \n",
       "3661       2021               MI                   Big Data Engineer    18000   \n",
       "3866       2021               MI                   Big Data Engineer    18000   \n",
       "3912       2021               EN                        AI Scientist  1335000   \n",
       "3669       2021               EN                        AI Scientist  1335000   \n",
       "734        2023               MI                   Lead Data Analyst  1500000   \n",
       "1728       2022               MI               Business Data Analyst  1440000   \n",
       "4128       2022               EN                      Data Scientist  1400000   \n",
       "4124       2022               MI               Business Data Analyst  1400000   \n",
       "3663       2021               SE            Computer Vision Engineer   102000   \n",
       "3939       2021               SE            Computer Vision Engineer   102000   \n",
       "1158       2023               EN                      Data Scientist   101400   \n",
       "3674       2021               MI                   Lead Data Analyst  1450000   \n",
       "3774       2021               MI                   Lead Data Analyst  1450000   \n",
       "3806       2021               EN           Machine Learning Engineer    20000   \n",
       "2135       2021               EN       3D Computer Vision Researcher    20000   \n",
       "\n",
       "     salary_currency  salary_in_usd employee_residence  remote_ratio  \\\n",
       "1248             USD          12000                 VN             0   \n",
       "2021             USD          12000                 AR           100   \n",
       "3915             TRY          12103                 TR             0   \n",
       "3551             TRY          12103                 TR             0   \n",
       "3028             INR          12171                 IN           100   \n",
       "2410             EUR          12608                 SK           100   \n",
       "1332             INR          12767                 IN            50   \n",
       "1538             EUR          12877                 GR            50   \n",
       "1503             INR          12888                 IN            50   \n",
       "3647             BRL          12901                 BR             0   \n",
       "3878             BRL          12901                 BR             0   \n",
       "2108             USD          13000                 AR           100   \n",
       "3487             USD          13400                 UA           100   \n",
       "3831             USD          13400                 UA           100   \n",
       "3086             INR          13493                 IN           100   \n",
       "3087             INR          13493                 IN           100   \n",
       "1805             INR          13989                 IN           100   \n",
       "1799             INR          14307                 IN           100   \n",
       "181              USD          15000                 NG             0   \n",
       "2809             USD          15000                 TH           100   \n",
       "3106             USD          15000                 ID             0   \n",
       "981              INR          15806                 IN           100   \n",
       "1586             INR          15897                 IN           100   \n",
       "3899             INR          16228                 IN           100   \n",
       "3596             INR          16228                 IN           100   \n",
       "1251             INR          16414                 IN           100   \n",
       "3592             INR          16904                 IN           100   \n",
       "3930             INR          16904                 IN           100   \n",
       "2019             INR          16904                 IN            50   \n",
       "731              INR          17022                 IN           100   \n",
       "215              INR          17022                 IN           100   \n",
       "1539             INR          17509                 IN            50   \n",
       "2342             HUF          17684                 HU           100   \n",
       "3392             INR          17805                 IN           100   \n",
       "3389             INR          17805                 IN           100   \n",
       "3661             USD          18000                 MD             0   \n",
       "3866             USD          18000                 MD             0   \n",
       "3912             INR          18053                 IN           100   \n",
       "3669             INR          18053                 IN           100   \n",
       "734              INR          18238                 IN            50   \n",
       "1728             INR          18314                 IN            50   \n",
       "4128             INR          18442                 IN           100   \n",
       "4124             INR          18442                 IN           100   \n",
       "3663             BRL          18907                 BR             0   \n",
       "3939             BRL          18907                 BR             0   \n",
       "1158             BRL          19522                 BR           100   \n",
       "3674             INR          19609                 IN           100   \n",
       "3774             INR          19609                 IN           100   \n",
       "3806             USD          20000                 IN           100   \n",
       "2135             USD          20000                 AS             0   \n",
       "\n",
       "     company_location company_size  \n",
       "1248               VN            L  \n",
       "2021               AR            L  \n",
       "3915               TR            M  \n",
       "3551               TR            M  \n",
       "3028               IN            M  \n",
       "2410               SK            S  \n",
       "1332               IN            L  \n",
       "1538               GR            L  \n",
       "1503               IN            S  \n",
       "3647               BR            S  \n",
       "3878               BR            S  \n",
       "2108               AR            S  \n",
       "3487               UA            L  \n",
       "3831               UA            L  \n",
       "3086               IN            L  \n",
       "3087               IN            L  \n",
       "1805               IN            L  \n",
       "1799               IN            L  \n",
       "181                CA            M  \n",
       "2809               TH            L  \n",
       "3106               ID            L  \n",
       "981                IN            S  \n",
       "1586               IN            M  \n",
       "3899               IN            L  \n",
       "3596               IN            L  \n",
       "1251               IN            L  \n",
       "3592               IN            S  \n",
       "3930               IN            S  \n",
       "2019               IN            L  \n",
       "731                IN            L  \n",
       "215                IN            L  \n",
       "1539               SG            M  \n",
       "2342               HU            M  \n",
       "3392               IN            M  \n",
       "3389               IN            M  \n",
       "3661               MD            S  \n",
       "3866               MD            S  \n",
       "3912               AS            S  \n",
       "3669               AS            S  \n",
       "734                IN            L  \n",
       "1728               IN            L  \n",
       "4128               IN            M  \n",
       "4124               IN            M  \n",
       "3663               BR            M  \n",
       "3939               BR            M  \n",
       "1158               BR            L  \n",
       "3674               IN            L  \n",
       "3774               IN            L  \n",
       "3806               IN            S  \n",
       "2135               AS            M  "
      ]
     },
     "execution_count": 214,
     "metadata": {},
     "output_type": "execute_result"
    }
   ],
   "source": [
    "df = df.drop(df[df['salary_in_usd'] < 12000].index)\n",
    "\n",
    "# Resetting the index\n",
    "df = df.reset_index(drop=True)\n",
    "\n",
    "# Printing the first few rows to verify the changes\n",
    "sorted_df = df.sort_values(\"salary_in_usd\")\n",
    "sorted_df.head(50)\n"
   ]
  },
  {
   "cell_type": "code",
   "execution_count": 215,
   "id": "438acd60",
   "metadata": {},
   "outputs": [],
   "source": [
    "df_temp1 = df"
   ]
  },
  {
   "cell_type": "code",
   "execution_count": 216,
   "id": "19bd7db4",
   "metadata": {},
   "outputs": [],
   "source": [
    "columns_to_drop = ['salary', 'salary_currency', ]\n",
    "df_temp1 = df_temp1.drop(columns=columns_to_drop)"
   ]
  },
  {
   "cell_type": "code",
   "execution_count": 217,
   "id": "1473441e",
   "metadata": {},
   "outputs": [
    {
     "data": {
      "text/html": [
       "<div>\n",
       "<style scoped>\n",
       "    .dataframe tbody tr th:only-of-type {\n",
       "        vertical-align: middle;\n",
       "    }\n",
       "\n",
       "    .dataframe tbody tr th {\n",
       "        vertical-align: top;\n",
       "    }\n",
       "\n",
       "    .dataframe thead th {\n",
       "        text-align: right;\n",
       "    }\n",
       "</style>\n",
       "<table border=\"1\" class=\"dataframe\">\n",
       "  <thead>\n",
       "    <tr style=\"text-align: right;\">\n",
       "      <th></th>\n",
       "      <th>work_year</th>\n",
       "      <th>experience_level</th>\n",
       "      <th>job_title</th>\n",
       "      <th>salary_in_usd</th>\n",
       "      <th>employee_residence</th>\n",
       "      <th>remote_ratio</th>\n",
       "      <th>company_location</th>\n",
       "      <th>company_size</th>\n",
       "    </tr>\n",
       "  </thead>\n",
       "  <tbody>\n",
       "    <tr>\n",
       "      <th>0</th>\n",
       "      <td>2023</td>\n",
       "      <td>SE</td>\n",
       "      <td>Principal Data Scientist</td>\n",
       "      <td>85847</td>\n",
       "      <td>ES</td>\n",
       "      <td>100</td>\n",
       "      <td>ES</td>\n",
       "      <td>L</td>\n",
       "    </tr>\n",
       "    <tr>\n",
       "      <th>1</th>\n",
       "      <td>2023</td>\n",
       "      <td>SE</td>\n",
       "      <td>Data Scientist</td>\n",
       "      <td>175000</td>\n",
       "      <td>CA</td>\n",
       "      <td>100</td>\n",
       "      <td>CA</td>\n",
       "      <td>M</td>\n",
       "    </tr>\n",
       "    <tr>\n",
       "      <th>2</th>\n",
       "      <td>2023</td>\n",
       "      <td>SE</td>\n",
       "      <td>Data Scientist</td>\n",
       "      <td>120000</td>\n",
       "      <td>CA</td>\n",
       "      <td>100</td>\n",
       "      <td>CA</td>\n",
       "      <td>M</td>\n",
       "    </tr>\n",
       "    <tr>\n",
       "      <th>3</th>\n",
       "      <td>2023</td>\n",
       "      <td>SE</td>\n",
       "      <td>Applied Scientist</td>\n",
       "      <td>222200</td>\n",
       "      <td>US</td>\n",
       "      <td>0</td>\n",
       "      <td>US</td>\n",
       "      <td>L</td>\n",
       "    </tr>\n",
       "    <tr>\n",
       "      <th>4</th>\n",
       "      <td>2023</td>\n",
       "      <td>SE</td>\n",
       "      <td>Applied Scientist</td>\n",
       "      <td>136000</td>\n",
       "      <td>US</td>\n",
       "      <td>0</td>\n",
       "      <td>US</td>\n",
       "      <td>L</td>\n",
       "    </tr>\n",
       "    <tr>\n",
       "      <th>...</th>\n",
       "      <td>...</td>\n",
       "      <td>...</td>\n",
       "      <td>...</td>\n",
       "      <td>...</td>\n",
       "      <td>...</td>\n",
       "      <td>...</td>\n",
       "      <td>...</td>\n",
       "      <td>...</td>\n",
       "    </tr>\n",
       "    <tr>\n",
       "      <th>4263</th>\n",
       "      <td>2022</td>\n",
       "      <td>SE</td>\n",
       "      <td>Data Engineer</td>\n",
       "      <td>154000</td>\n",
       "      <td>US</td>\n",
       "      <td>100</td>\n",
       "      <td>US</td>\n",
       "      <td>M</td>\n",
       "    </tr>\n",
       "    <tr>\n",
       "      <th>4264</th>\n",
       "      <td>2022</td>\n",
       "      <td>SE</td>\n",
       "      <td>Data Engineer</td>\n",
       "      <td>126000</td>\n",
       "      <td>US</td>\n",
       "      <td>100</td>\n",
       "      <td>US</td>\n",
       "      <td>M</td>\n",
       "    </tr>\n",
       "    <tr>\n",
       "      <th>4265</th>\n",
       "      <td>2022</td>\n",
       "      <td>SE</td>\n",
       "      <td>Data Analyst</td>\n",
       "      <td>129000</td>\n",
       "      <td>US</td>\n",
       "      <td>0</td>\n",
       "      <td>US</td>\n",
       "      <td>M</td>\n",
       "    </tr>\n",
       "    <tr>\n",
       "      <th>4266</th>\n",
       "      <td>2022</td>\n",
       "      <td>SE</td>\n",
       "      <td>Data Analyst</td>\n",
       "      <td>150000</td>\n",
       "      <td>US</td>\n",
       "      <td>100</td>\n",
       "      <td>US</td>\n",
       "      <td>M</td>\n",
       "    </tr>\n",
       "    <tr>\n",
       "      <th>4267</th>\n",
       "      <td>2022</td>\n",
       "      <td>MI</td>\n",
       "      <td>AI Scientist</td>\n",
       "      <td>200000</td>\n",
       "      <td>IN</td>\n",
       "      <td>100</td>\n",
       "      <td>US</td>\n",
       "      <td>L</td>\n",
       "    </tr>\n",
       "  </tbody>\n",
       "</table>\n",
       "<p>4268 rows × 8 columns</p>\n",
       "</div>"
      ],
      "text/plain": [
       "      work_year experience_level                 job_title  salary_in_usd  \\\n",
       "0          2023               SE  Principal Data Scientist          85847   \n",
       "1          2023               SE            Data Scientist         175000   \n",
       "2          2023               SE            Data Scientist         120000   \n",
       "3          2023               SE         Applied Scientist         222200   \n",
       "4          2023               SE         Applied Scientist         136000   \n",
       "...         ...              ...                       ...            ...   \n",
       "4263       2022               SE             Data Engineer         154000   \n",
       "4264       2022               SE             Data Engineer         126000   \n",
       "4265       2022               SE              Data Analyst         129000   \n",
       "4266       2022               SE              Data Analyst         150000   \n",
       "4267       2022               MI              AI Scientist         200000   \n",
       "\n",
       "     employee_residence  remote_ratio company_location company_size  \n",
       "0                    ES           100               ES            L  \n",
       "1                    CA           100               CA            M  \n",
       "2                    CA           100               CA            M  \n",
       "3                    US             0               US            L  \n",
       "4                    US             0               US            L  \n",
       "...                 ...           ...              ...          ...  \n",
       "4263                 US           100               US            M  \n",
       "4264                 US           100               US            M  \n",
       "4265                 US             0               US            M  \n",
       "4266                 US           100               US            M  \n",
       "4267                 IN           100               US            L  \n",
       "\n",
       "[4268 rows x 8 columns]"
      ]
     },
     "metadata": {},
     "output_type": "display_data"
    }
   ],
   "source": [
    "display(df_temp1)"
   ]
  },
  {
   "cell_type": "code",
   "execution_count": 218,
   "id": "ab46e60e",
   "metadata": {},
   "outputs": [],
   "source": [
    "# Separating between discrete and continuous variables, as discrete ones could potentially be treated as categorical.\n",
    "# Remember to adjust the threshold (in this case, < 100) based on your dataset specific characteristics and comain knowledge\n",
    "potential_categorical_from_numerical = df_temp1.select_dtypes(\"number\").loc[:,df_temp1.select_dtypes(\"number\").nunique() < 100]\n",
    "#potential_categorical_from_numerical"
   ]
  },
  {
   "cell_type": "code",
   "execution_count": 219,
   "id": "0a6ac968",
   "metadata": {},
   "outputs": [],
   "source": [
    "# Extracting columns iwth object (typically string) data types to create a categorical df\n",
    "# For demonstration purposes, let's consider the columns in the potential_categorical_from_numerical as categorical variables\n",
    "df_categorical = pd.concat([df_temp1.select_dtypes(\"object\"), potential_categorical_from_numerical], axis = 1)\n",
    "\n",
    "# Adjusting the numerical dataframe by removing the moved columns\n",
    "df_numerical = df_temp1.select_dtypes(\"number\").drop(columns = potential_categorical_from_numerical.columns)"
   ]
  },
  {
   "cell_type": "code",
   "execution_count": 220,
   "id": "4aef9ba1",
   "metadata": {},
   "outputs": [
    {
     "data": {
      "text/plain": [
       "True"
      ]
     },
     "execution_count": 220,
     "metadata": {},
     "output_type": "execute_result"
    }
   ],
   "source": [
    "# Verify that the total number of columns in the dataframe is the sum of object and numerical columns\n",
    "len(df.columns) == len(df.select_dtypes(\"object\").columns) + len(df.select_dtypes(\"number\").columns)"
   ]
  },
  {
   "cell_type": "code",
   "execution_count": 221,
   "id": "a7979a9c",
   "metadata": {},
   "outputs": [],
   "source": [
    "#df_numerical.nunique().sort_values(ascending = False)"
   ]
  },
  {
   "cell_type": "code",
   "execution_count": 222,
   "id": "0cfda959",
   "metadata": {},
   "outputs": [
    {
     "data": {
      "text/plain": [
       "job_title             91\n",
       "employee_residence    72\n",
       "company_location      65\n",
       "experience_level       4\n",
       "work_year              4\n",
       "company_size           3\n",
       "remote_ratio           3\n",
       "dtype: int64"
      ]
     },
     "execution_count": 222,
     "metadata": {},
     "output_type": "execute_result"
    }
   ],
   "source": [
    "df_categorical.nunique().sort_values(ascending = False)"
   ]
  },
  {
   "cell_type": "code",
   "execution_count": 223,
   "id": "c8d43fc3",
   "metadata": {},
   "outputs": [],
   "source": [
    "df_temp1['job_title'] = df_temp1['job_title'].map(job_categories)"
   ]
  },
  {
   "cell_type": "code",
   "execution_count": 224,
   "id": "63d7a5c1",
   "metadata": {},
   "outputs": [],
   "source": [
    "df_temp1['employee_residence'] = df_temp1['employee_residence'].map(country_continent_map)"
   ]
  },
  {
   "cell_type": "code",
   "execution_count": 225,
   "id": "06646d4a",
   "metadata": {},
   "outputs": [],
   "source": [
    "df_temp1['company_location'] = df_temp1['company_location'].map(country_continent_map)"
   ]
  },
  {
   "cell_type": "code",
   "execution_count": 226,
   "id": "fc524f3c",
   "metadata": {},
   "outputs": [
    {
     "data": {
      "text/plain": [
       "True"
      ]
     },
     "execution_count": 226,
     "metadata": {},
     "output_type": "execute_result"
    }
   ],
   "source": [
    "# Separating between discrete and continuous variables, as discrete ones could potentially be treated as categorical.\n",
    "# Remember to adjust the threshold (in this case, < 100) based on your dataset specific characteristics and comain knowledge\n",
    "potential_categorical_from_numerical = df_temp1.select_dtypes(\"number\").loc[:,df_temp1.select_dtypes(\"number\").nunique() < 100]\n",
    "#potential_categorical_from_numerical\n",
    "\n",
    "# Extracting columns iwth object (typically string) data types to create a categorical df\n",
    "# For demonstration purposes, let's consider the columns in the potential_categorical_from_numerical as categorical variables\n",
    "df_categorical = pd.concat([df_temp1.select_dtypes(\"object\"), potential_categorical_from_numerical], axis = 1)\n",
    "\n",
    "# Adjusting the numerical dataframe by removing the moved columns\n",
    "df_numerical = df_temp1.select_dtypes(\"number\").drop(columns = potential_categorical_from_numerical.columns)\n",
    "\n",
    "# Verify that the total number of columns in the dataframe is the sum of object and numerical columns\n",
    "len(df.columns) == len(df.select_dtypes(\"object\").columns) + len(df.select_dtypes(\"number\").columns)"
   ]
  },
  {
   "cell_type": "code",
   "execution_count": 227,
   "id": "9eb40809",
   "metadata": {},
   "outputs": [
    {
     "data": {
      "text/html": [
       "<div>\n",
       "<style scoped>\n",
       "    .dataframe tbody tr th:only-of-type {\n",
       "        vertical-align: middle;\n",
       "    }\n",
       "\n",
       "    .dataframe tbody tr th {\n",
       "        vertical-align: top;\n",
       "    }\n",
       "\n",
       "    .dataframe thead th {\n",
       "        text-align: right;\n",
       "    }\n",
       "</style>\n",
       "<table border=\"1\" class=\"dataframe\">\n",
       "  <thead>\n",
       "    <tr style=\"text-align: right;\">\n",
       "      <th></th>\n",
       "      <th>work_year</th>\n",
       "      <th>experience_level</th>\n",
       "      <th>job_title</th>\n",
       "      <th>salary_in_usd</th>\n",
       "      <th>employee_residence</th>\n",
       "      <th>remote_ratio</th>\n",
       "      <th>company_location</th>\n",
       "      <th>company_size</th>\n",
       "    </tr>\n",
       "  </thead>\n",
       "  <tbody>\n",
       "    <tr>\n",
       "      <th>0</th>\n",
       "      <td>2023</td>\n",
       "      <td>SE</td>\n",
       "      <td>Data Science &amp; Machine Learning</td>\n",
       "      <td>85847</td>\n",
       "      <td>Europe</td>\n",
       "      <td>100</td>\n",
       "      <td>Europe</td>\n",
       "      <td>L</td>\n",
       "    </tr>\n",
       "    <tr>\n",
       "      <th>1</th>\n",
       "      <td>2023</td>\n",
       "      <td>SE</td>\n",
       "      <td>Data Science &amp; Machine Learning</td>\n",
       "      <td>175000</td>\n",
       "      <td>North America</td>\n",
       "      <td>100</td>\n",
       "      <td>North America</td>\n",
       "      <td>M</td>\n",
       "    </tr>\n",
       "    <tr>\n",
       "      <th>2</th>\n",
       "      <td>2023</td>\n",
       "      <td>SE</td>\n",
       "      <td>Data Science &amp; Machine Learning</td>\n",
       "      <td>120000</td>\n",
       "      <td>North America</td>\n",
       "      <td>100</td>\n",
       "      <td>North America</td>\n",
       "      <td>M</td>\n",
       "    </tr>\n",
       "    <tr>\n",
       "      <th>3</th>\n",
       "      <td>2023</td>\n",
       "      <td>SE</td>\n",
       "      <td>Data Science &amp; Machine Learning</td>\n",
       "      <td>222200</td>\n",
       "      <td>North America</td>\n",
       "      <td>0</td>\n",
       "      <td>North America</td>\n",
       "      <td>L</td>\n",
       "    </tr>\n",
       "    <tr>\n",
       "      <th>4</th>\n",
       "      <td>2023</td>\n",
       "      <td>SE</td>\n",
       "      <td>Data Science &amp; Machine Learning</td>\n",
       "      <td>136000</td>\n",
       "      <td>North America</td>\n",
       "      <td>0</td>\n",
       "      <td>North America</td>\n",
       "      <td>L</td>\n",
       "    </tr>\n",
       "    <tr>\n",
       "      <th>5</th>\n",
       "      <td>2023</td>\n",
       "      <td>SE</td>\n",
       "      <td>Data Science &amp; Machine Learning</td>\n",
       "      <td>219000</td>\n",
       "      <td>North America</td>\n",
       "      <td>0</td>\n",
       "      <td>North America</td>\n",
       "      <td>M</td>\n",
       "    </tr>\n",
       "    <tr>\n",
       "      <th>6</th>\n",
       "      <td>2023</td>\n",
       "      <td>SE</td>\n",
       "      <td>Data Science &amp; Machine Learning</td>\n",
       "      <td>141000</td>\n",
       "      <td>North America</td>\n",
       "      <td>0</td>\n",
       "      <td>North America</td>\n",
       "      <td>M</td>\n",
       "    </tr>\n",
       "    <tr>\n",
       "      <th>7</th>\n",
       "      <td>2023</td>\n",
       "      <td>SE</td>\n",
       "      <td>Data Science &amp; Machine Learning</td>\n",
       "      <td>147100</td>\n",
       "      <td>North America</td>\n",
       "      <td>0</td>\n",
       "      <td>North America</td>\n",
       "      <td>M</td>\n",
       "    </tr>\n",
       "    <tr>\n",
       "      <th>8</th>\n",
       "      <td>2023</td>\n",
       "      <td>SE</td>\n",
       "      <td>Data Science &amp; Machine Learning</td>\n",
       "      <td>90700</td>\n",
       "      <td>North America</td>\n",
       "      <td>0</td>\n",
       "      <td>North America</td>\n",
       "      <td>M</td>\n",
       "    </tr>\n",
       "    <tr>\n",
       "      <th>9</th>\n",
       "      <td>2023</td>\n",
       "      <td>SE</td>\n",
       "      <td>Data Analysis &amp; Analytics</td>\n",
       "      <td>130000</td>\n",
       "      <td>North America</td>\n",
       "      <td>100</td>\n",
       "      <td>North America</td>\n",
       "      <td>M</td>\n",
       "    </tr>\n",
       "  </tbody>\n",
       "</table>\n",
       "</div>"
      ],
      "text/plain": [
       "   work_year experience_level                        job_title  salary_in_usd  \\\n",
       "0       2023               SE  Data Science & Machine Learning          85847   \n",
       "1       2023               SE  Data Science & Machine Learning         175000   \n",
       "2       2023               SE  Data Science & Machine Learning         120000   \n",
       "3       2023               SE  Data Science & Machine Learning         222200   \n",
       "4       2023               SE  Data Science & Machine Learning         136000   \n",
       "5       2023               SE  Data Science & Machine Learning         219000   \n",
       "6       2023               SE  Data Science & Machine Learning         141000   \n",
       "7       2023               SE  Data Science & Machine Learning         147100   \n",
       "8       2023               SE  Data Science & Machine Learning          90700   \n",
       "9       2023               SE        Data Analysis & Analytics         130000   \n",
       "\n",
       "  employee_residence  remote_ratio company_location company_size  \n",
       "0             Europe           100           Europe            L  \n",
       "1      North America           100    North America            M  \n",
       "2      North America           100    North America            M  \n",
       "3      North America             0    North America            L  \n",
       "4      North America             0    North America            L  \n",
       "5      North America             0    North America            M  \n",
       "6      North America             0    North America            M  \n",
       "7      North America             0    North America            M  \n",
       "8      North America             0    North America            M  \n",
       "9      North America           100    North America            M  "
      ]
     },
     "execution_count": 227,
     "metadata": {},
     "output_type": "execute_result"
    }
   ],
   "source": [
    "df_temp1.head(10)"
   ]
  },
  {
   "cell_type": "code",
   "execution_count": 228,
   "id": "ac0e6a93",
   "metadata": {},
   "outputs": [
    {
     "data": {
      "text/plain": [
       "job_title             6\n",
       "experience_level      4\n",
       "work_year             4\n",
       "employee_residence    3\n",
       "company_location      3\n",
       "company_size          3\n",
       "remote_ratio          3\n",
       "dtype: int64"
      ]
     },
     "execution_count": 228,
     "metadata": {},
     "output_type": "execute_result"
    }
   ],
   "source": [
    "df_categorical.nunique().sort_values(ascending = False)"
   ]
  },
  {
   "cell_type": "code",
   "execution_count": 229,
   "id": "72900361",
   "metadata": {},
   "outputs": [],
   "source": [
    "def print_unique_values_with_count_sorted(df):\n",
    "    categorical_columns = df.select_dtypes(include=['object', 'category']).columns\n",
    "    \n",
    "    for col in categorical_columns:\n",
    "        value_counts = df[col].value_counts()\n",
    "        sorted_values = value_counts.sort_values(ascending=False).index.tolist()\n",
    "        \n",
    "        print(f\"Unique values for column '{col}' (sorted by count in descending order):\")\n",
    "        for val in sorted_values:\n",
    "            count = value_counts[val]\n",
    "            print(f\" - {val}: {count} occurrences\")\n",
    "        print()"
   ]
  },
  {
   "cell_type": "code",
   "execution_count": 230,
   "id": "e7d7a688",
   "metadata": {},
   "outputs": [
    {
     "name": "stdout",
     "output_type": "stream",
     "text": [
      "Unique values for column 'experience_level' (sorted by count in descending order):\n",
      " - SE: 2787 occurrences\n",
      " - MI: 984 occurrences\n",
      " - EN: 359 occurrences\n",
      " - EX: 138 occurrences\n",
      "\n",
      "Unique values for column 'job_title' (sorted by count in descending order):\n",
      " - Data Science & Machine Learning: 1715 occurrences\n",
      " - Data Engineering & Infrastructure: 1395 occurrences\n",
      " - Data Analysis & Analytics: 899 occurrences\n",
      " - Data Management: 147 occurrences\n",
      " - Artificial Intelligence (AI): 64 occurrences\n",
      " - Business Intelligence (BI): 48 occurrences\n",
      "\n",
      "Unique values for column 'employee_residence' (sorted by count in descending order):\n",
      " - North America: 3454 occurrences\n",
      " - Europe: 602 occurrences\n",
      " - Other: 212 occurrences\n",
      "\n",
      "Unique values for column 'company_location' (sorted by count in descending order):\n",
      " - North America: 3502 occurrences\n",
      " - Europe: 591 occurrences\n",
      " - Other: 175 occurrences\n",
      "\n",
      "Unique values for column 'company_size' (sorted by count in descending order):\n",
      " - M: 3447 occurrences\n",
      " - L: 626 occurrences\n",
      " - S: 195 occurrences\n",
      "\n"
     ]
    }
   ],
   "source": [
    "print_unique_values_with_count_sorted(df_categorical)"
   ]
  },
  {
   "cell_type": "code",
   "execution_count": 231,
   "id": "e12caf6b",
   "metadata": {},
   "outputs": [],
   "source": [
    "#df.remote_ratio"
   ]
  },
  {
   "cell_type": "code",
   "execution_count": 232,
   "id": "31c415e3",
   "metadata": {},
   "outputs": [
    {
     "data": {
      "text/html": [
       "<div>\n",
       "<style scoped>\n",
       "    .dataframe tbody tr th:only-of-type {\n",
       "        vertical-align: middle;\n",
       "    }\n",
       "\n",
       "    .dataframe tbody tr th {\n",
       "        vertical-align: top;\n",
       "    }\n",
       "\n",
       "    .dataframe thead th {\n",
       "        text-align: right;\n",
       "    }\n",
       "</style>\n",
       "<table border=\"1\" class=\"dataframe\">\n",
       "  <thead>\n",
       "    <tr style=\"text-align: right;\">\n",
       "      <th>col_0</th>\n",
       "      <th>count</th>\n",
       "    </tr>\n",
       "    <tr>\n",
       "      <th>company_size</th>\n",
       "      <th></th>\n",
       "    </tr>\n",
       "  </thead>\n",
       "  <tbody>\n",
       "    <tr>\n",
       "      <th>L</th>\n",
       "      <td>626</td>\n",
       "    </tr>\n",
       "    <tr>\n",
       "      <th>M</th>\n",
       "      <td>3447</td>\n",
       "    </tr>\n",
       "    <tr>\n",
       "      <th>S</th>\n",
       "      <td>195</td>\n",
       "    </tr>\n",
       "  </tbody>\n",
       "</table>\n",
       "</div>"
      ],
      "text/plain": [
       "col_0         count\n",
       "company_size       \n",
       "L               626\n",
       "M              3447\n",
       "S               195"
      ]
     },
     "execution_count": 232,
     "metadata": {},
     "output_type": "execute_result"
    }
   ],
   "source": [
    "my_table = pd.crosstab(index = df_categorical['company_size'], columns=\"count\")\n",
    "\n",
    "my_table"
   ]
  },
  {
   "cell_type": "code",
   "execution_count": 233,
   "id": "f6b101af",
   "metadata": {},
   "outputs": [
    {
     "data": {
      "text/html": [
       "<div>\n",
       "<style scoped>\n",
       "    .dataframe tbody tr th:only-of-type {\n",
       "        vertical-align: middle;\n",
       "    }\n",
       "\n",
       "    .dataframe tbody tr th {\n",
       "        vertical-align: top;\n",
       "    }\n",
       "\n",
       "    .dataframe thead th {\n",
       "        text-align: right;\n",
       "    }\n",
       "</style>\n",
       "<table border=\"1\" class=\"dataframe\">\n",
       "  <thead>\n",
       "    <tr style=\"text-align: right;\">\n",
       "      <th>company_location</th>\n",
       "      <th>Europe</th>\n",
       "      <th>North America</th>\n",
       "      <th>Other</th>\n",
       "    </tr>\n",
       "    <tr>\n",
       "      <th>employee_residence</th>\n",
       "      <th></th>\n",
       "      <th></th>\n",
       "      <th></th>\n",
       "    </tr>\n",
       "  </thead>\n",
       "  <tbody>\n",
       "    <tr>\n",
       "      <th>Europe</th>\n",
       "      <td>577</td>\n",
       "      <td>23</td>\n",
       "      <td>2</td>\n",
       "    </tr>\n",
       "    <tr>\n",
       "      <th>North America</th>\n",
       "      <td>3</td>\n",
       "      <td>3450</td>\n",
       "      <td>1</td>\n",
       "    </tr>\n",
       "    <tr>\n",
       "      <th>Other</th>\n",
       "      <td>11</td>\n",
       "      <td>29</td>\n",
       "      <td>172</td>\n",
       "    </tr>\n",
       "  </tbody>\n",
       "</table>\n",
       "</div>"
      ],
      "text/plain": [
       "company_location    Europe  North America  Other\n",
       "employee_residence                              \n",
       "Europe                 577             23      2\n",
       "North America            3           3450      1\n",
       "Other                   11             29    172"
      ]
     },
     "execution_count": 233,
     "metadata": {},
     "output_type": "execute_result"
    }
   ],
   "source": [
    "# Generating a crosstab for 'company_location' and 'employee_residence'\n",
    "crosstab_result = pd.crosstab(df_temp1['employee_residence'], df_temp1['company_location'])\n",
    "\n",
    "crosstab_result"
   ]
  },
  {
   "cell_type": "code",
   "execution_count": 234,
   "id": "28516969",
   "metadata": {},
   "outputs": [
    {
     "data": {
      "text/html": [
       "<div>\n",
       "<style scoped>\n",
       "    .dataframe tbody tr th:only-of-type {\n",
       "        vertical-align: middle;\n",
       "    }\n",
       "\n",
       "    .dataframe tbody tr th {\n",
       "        vertical-align: top;\n",
       "    }\n",
       "\n",
       "    .dataframe thead th {\n",
       "        text-align: right;\n",
       "    }\n",
       "</style>\n",
       "<table border=\"1\" class=\"dataframe\">\n",
       "  <thead>\n",
       "    <tr style=\"text-align: right;\">\n",
       "      <th>company_location</th>\n",
       "      <th>Europe</th>\n",
       "      <th>North America</th>\n",
       "      <th>Other</th>\n",
       "    </tr>\n",
       "    <tr>\n",
       "      <th>work_year</th>\n",
       "      <th></th>\n",
       "      <th></th>\n",
       "      <th></th>\n",
       "    </tr>\n",
       "  </thead>\n",
       "  <tbody>\n",
       "    <tr>\n",
       "      <th>2020</th>\n",
       "      <td>53</td>\n",
       "      <td>64</td>\n",
       "      <td>13</td>\n",
       "    </tr>\n",
       "    <tr>\n",
       "      <th>2021</th>\n",
       "      <td>130</td>\n",
       "      <td>207</td>\n",
       "      <td>74</td>\n",
       "    </tr>\n",
       "    <tr>\n",
       "      <th>2022</th>\n",
       "      <td>266</td>\n",
       "      <td>1622</td>\n",
       "      <td>61</td>\n",
       "    </tr>\n",
       "    <tr>\n",
       "      <th>2023</th>\n",
       "      <td>142</td>\n",
       "      <td>1609</td>\n",
       "      <td>27</td>\n",
       "    </tr>\n",
       "  </tbody>\n",
       "</table>\n",
       "</div>"
      ],
      "text/plain": [
       "company_location  Europe  North America  Other\n",
       "work_year                                     \n",
       "2020                  53             64     13\n",
       "2021                 130            207     74\n",
       "2022                 266           1622     61\n",
       "2023                 142           1609     27"
      ]
     },
     "execution_count": 234,
     "metadata": {},
     "output_type": "execute_result"
    }
   ],
   "source": [
    "# Generating a crosstab for 'work_year' and 'company_location'\n",
    "crosstab_result = pd.crosstab(df_temp1['work_year'], df_temp1['company_location'])\n",
    "\n",
    "crosstab_result"
   ]
  },
  {
   "cell_type": "code",
   "execution_count": 235,
   "id": "24d1b06c",
   "metadata": {},
   "outputs": [
    {
     "data": {
      "text/html": [
       "<div>\n",
       "<style scoped>\n",
       "    .dataframe tbody tr th:only-of-type {\n",
       "        vertical-align: middle;\n",
       "    }\n",
       "\n",
       "    .dataframe tbody tr th {\n",
       "        vertical-align: top;\n",
       "    }\n",
       "\n",
       "    .dataframe thead th {\n",
       "        text-align: right;\n",
       "    }\n",
       "</style>\n",
       "<table border=\"1\" class=\"dataframe\">\n",
       "  <thead>\n",
       "    <tr style=\"text-align: right;\">\n",
       "      <th>remote_ratio</th>\n",
       "      <th>0</th>\n",
       "      <th>50</th>\n",
       "      <th>100</th>\n",
       "    </tr>\n",
       "    <tr>\n",
       "      <th>company_location</th>\n",
       "      <th></th>\n",
       "      <th></th>\n",
       "      <th></th>\n",
       "    </tr>\n",
       "  </thead>\n",
       "  <tbody>\n",
       "    <tr>\n",
       "      <th>Europe</th>\n",
       "      <td>226</td>\n",
       "      <td>134</td>\n",
       "      <td>231</td>\n",
       "    </tr>\n",
       "    <tr>\n",
       "      <th>North America</th>\n",
       "      <td>1773</td>\n",
       "      <td>78</td>\n",
       "      <td>1651</td>\n",
       "    </tr>\n",
       "    <tr>\n",
       "      <th>Other</th>\n",
       "      <td>37</td>\n",
       "      <td>49</td>\n",
       "      <td>89</td>\n",
       "    </tr>\n",
       "  </tbody>\n",
       "</table>\n",
       "</div>"
      ],
      "text/plain": [
       "remote_ratio       0    50    100\n",
       "company_location                 \n",
       "Europe             226  134   231\n",
       "North America     1773   78  1651\n",
       "Other               37   49    89"
      ]
     },
     "execution_count": 235,
     "metadata": {},
     "output_type": "execute_result"
    }
   ],
   "source": [
    "# Generating a crosstab for 'company_location' and 'remote_ratio'\n",
    "crosstab_result = pd.crosstab(df_temp1['company_location'], df_temp1['remote_ratio'])\n",
    "\n",
    "crosstab_result"
   ]
  },
  {
   "cell_type": "code",
   "execution_count": 236,
   "id": "17721688",
   "metadata": {},
   "outputs": [
    {
     "name": "stderr",
     "output_type": "stream",
     "text": [
      "/Users/sergiopizzolante/anaconda3/lib/python3.11/site-packages/seaborn/axisgrid.py:118: UserWarning:\n",
      "\n",
      "The figure layout has changed to tight\n",
      "\n"
     ]
    },
    {
     "data": {
      "text/plain": [
       "<seaborn.axisgrid.FacetGrid at 0x12f551490>"
      ]
     },
     "execution_count": 236,
     "metadata": {},
     "output_type": "execute_result"
    },
    {
     "data": {
      "image/png": "[encoded data removed]",
      "text/plain": [
       "<Figure size 500x500 with 1 Axes>"
      ]
     },
     "metadata": {},
     "output_type": "display_data"
    }
   ],
   "source": [
    "sns.displot(data=df_temp1, x=\"company_size\", kde=True)"
   ]
  },
  {
   "cell_type": "code",
   "execution_count": 237,
   "id": "f9bfbf24",
   "metadata": {},
   "outputs": [
    {
     "data": {
      "image/png": "[encoded data removed]",
      "text/plain": [
       "<Figure size 640x480 with 1 Axes>"
      ]
     },
     "metadata": {},
     "output_type": "display_data"
    }
   ],
   "source": [
    "sns.histplot(df_temp1['salary_in_usd'], bins=4, kde=True)\n",
    "plt.title('Salary Distribution')\n",
    "plt.xlabel('Salary in USD')\n",
    "plt.ylabel('Frequency')\n",
    "plt.show()"
   ]
  },
  {
   "cell_type": "code",
   "execution_count": 238,
   "id": "d7ac1371",
   "metadata": {},
   "outputs": [],
   "source": [
    "#correlation_matrix = df_numerical.corr()\n",
    "\n",
    "#plt.figure(figsize=(10, 8))\n",
    "\n",
    "#sns.heatmap(correlation_matrix, annot=True, cmap='coolwarm')\n",
    "\n",
    "#plt.title('correlation coefficients between pairs of continuous variables')\n",
    "#plt.show()"
   ]
  },
  {
   "cell_type": "code",
   "execution_count": 239,
   "id": "651fe89e",
   "metadata": {},
   "outputs": [],
   "source": [
    "def tukeys_test_outliers(data):\n",
    "    Q1 = data.quantile(0.25)\n",
    "    Q3 = data.quantile(0.75)\n",
    "    IQR = Q3 - Q1\n",
    "    \n",
    "    # Define bounds for the outliers\n",
    "    lower_bound = Q1 - 1.5 * IQR\n",
    "    upper_bound = Q3 + 1.5 * IQR\n",
    "    \n",
    "    # Identify the outliers\n",
    "    outliers = data[(data < lower_bound) | (data > upper_bound)]\n",
    "    \n",
    "    return outliers"
   ]
  },
  {
   "cell_type": "code",
   "execution_count": 240,
   "id": "1c1f5201",
   "metadata": {},
   "outputs": [],
   "source": [
    "def replace_outliers_w_whisker(series):\n",
    "    Q1 = series.quantile(0.25)\n",
    "    Q3 = series.quantile(0.75)\n",
    "    IQR = Q3 - Q1\n",
    "    \n",
    "    lower_whisker = Q1 - (1.5 * IQR)\n",
    "    upper_whisker = Q3 + (1.5 * IQR)\n",
    "    \n",
    "    # Replace outliers with upper whisker if above Q3\n",
    "    series[series > upper_whisker] = upper_whisker\n",
    "    \n",
    "    # Replace outliers with lower whisker if below Q1\n",
    "    series[series < lower_whisker] = lower_whisker\n",
    "    \n",
    "    return series"
   ]
  },
  {
   "cell_type": "code",
   "execution_count": 241,
   "id": "f3c91bf3",
   "metadata": {},
   "outputs": [
    {
     "name": "stderr",
     "output_type": "stream",
     "text": [
      "/tmp/ipykernel_42784/3010072375.py:10: SettingWithCopyWarning:\n",
      "\n",
      "\n",
      "A value is trying to be set on a copy of a slice from a DataFrame\n",
      "\n",
      "See the caveats in the documentation: https://pandas.pydata.org/pandas-docs/stable/user_guide/indexing.html#returning-a-view-versus-a-copy\n",
      "\n"
     ]
    }
   ],
   "source": [
    "df_temp1['salary_in_usd'] = replace_outliers_w_whisker(df_temp1['salary_in_usd'])"
   ]
  },
  {
   "cell_type": "code",
   "execution_count": 242,
   "id": "1a24e340",
   "metadata": {},
   "outputs": [
    {
     "data": {
      "image/png": "[encoded data removed]",
      "text/plain": [
       "<Figure size 640x480 with 1 Axes>"
      ]
     },
     "metadata": {},
     "output_type": "display_data"
    }
   ],
   "source": [
    "sns.boxplot(x='salary_in_usd', data=df_temp1)\n",
    "plt.title('Salary in USD distribution')\n",
    "plt.xlabel('Salary in USD')\n",
    "plt.show() "
   ]
  },
  {
   "cell_type": "code",
   "execution_count": 243,
   "id": "c493ddc5",
   "metadata": {},
   "outputs": [
    {
     "name": "stdout",
     "output_type": "stream",
     "text": [
      "Series([], Name: salary_in_usd, dtype: float64)\n"
     ]
    },
    {
     "data": {
      "text/html": [
       "<div>\n",
       "<style scoped>\n",
       "    .dataframe tbody tr th:only-of-type {\n",
       "        vertical-align: middle;\n",
       "    }\n",
       "\n",
       "    .dataframe tbody tr th {\n",
       "        vertical-align: top;\n",
       "    }\n",
       "\n",
       "    .dataframe thead th {\n",
       "        text-align: right;\n",
       "    }\n",
       "</style>\n",
       "<table border=\"1\" class=\"dataframe\">\n",
       "  <thead>\n",
       "    <tr style=\"text-align: right;\">\n",
       "      <th></th>\n",
       "      <th>work_year</th>\n",
       "      <th>experience_level</th>\n",
       "      <th>job_title</th>\n",
       "      <th>salary_in_usd</th>\n",
       "      <th>employee_residence</th>\n",
       "      <th>remote_ratio</th>\n",
       "      <th>company_location</th>\n",
       "      <th>company_size</th>\n",
       "    </tr>\n",
       "  </thead>\n",
       "  <tbody>\n",
       "  </tbody>\n",
       "</table>\n",
       "</div>"
      ],
      "text/plain": [
       "Empty DataFrame\n",
       "Columns: [work_year, experience_level, job_title, salary_in_usd, employee_residence, remote_ratio, company_location, company_size]\n",
       "Index: []"
      ]
     },
     "execution_count": 243,
     "metadata": {},
     "output_type": "execute_result"
    }
   ],
   "source": [
    "salary_series = df_temp1['salary_in_usd']\n",
    "outliers = tukeys_test_outliers(salary_series)\n",
    "print(outliers)\n",
    "df_temp1.iloc[~outliers.index,:]"
   ]
  },
  {
   "cell_type": "code",
   "execution_count": 244,
   "id": "f5b0123f",
   "metadata": {},
   "outputs": [],
   "source": [
    "new_df = df_temp1"
   ]
  },
  {
   "cell_type": "code",
   "execution_count": 245,
   "id": "6582d009",
   "metadata": {},
   "outputs": [
    {
     "data": {
      "text/html": [
       "<div>\n",
       "<style scoped>\n",
       "    .dataframe tbody tr th:only-of-type {\n",
       "        vertical-align: middle;\n",
       "    }\n",
       "\n",
       "    .dataframe tbody tr th {\n",
       "        vertical-align: top;\n",
       "    }\n",
       "\n",
       "    .dataframe thead th {\n",
       "        text-align: right;\n",
       "    }\n",
       "</style>\n",
       "<table border=\"1\" class=\"dataframe\">\n",
       "  <thead>\n",
       "    <tr style=\"text-align: right;\">\n",
       "      <th></th>\n",
       "      <th>work_year</th>\n",
       "      <th>experience_level</th>\n",
       "      <th>job_title</th>\n",
       "      <th>salary_in_usd</th>\n",
       "      <th>employee_residence</th>\n",
       "      <th>remote_ratio</th>\n",
       "      <th>company_location</th>\n",
       "      <th>company_size</th>\n",
       "    </tr>\n",
       "  </thead>\n",
       "  <tbody>\n",
       "    <tr>\n",
       "      <th>0</th>\n",
       "      <td>2023</td>\n",
       "      <td>SE</td>\n",
       "      <td>Data Science &amp; Machine Learning</td>\n",
       "      <td>85847.0</td>\n",
       "      <td>Europe</td>\n",
       "      <td>100</td>\n",
       "      <td>Europe</td>\n",
       "      <td>L</td>\n",
       "    </tr>\n",
       "    <tr>\n",
       "      <th>1</th>\n",
       "      <td>2023</td>\n",
       "      <td>SE</td>\n",
       "      <td>Data Science &amp; Machine Learning</td>\n",
       "      <td>175000.0</td>\n",
       "      <td>North America</td>\n",
       "      <td>100</td>\n",
       "      <td>North America</td>\n",
       "      <td>M</td>\n",
       "    </tr>\n",
       "    <tr>\n",
       "      <th>2</th>\n",
       "      <td>2023</td>\n",
       "      <td>SE</td>\n",
       "      <td>Data Science &amp; Machine Learning</td>\n",
       "      <td>120000.0</td>\n",
       "      <td>North America</td>\n",
       "      <td>100</td>\n",
       "      <td>North America</td>\n",
       "      <td>M</td>\n",
       "    </tr>\n",
       "    <tr>\n",
       "      <th>3</th>\n",
       "      <td>2023</td>\n",
       "      <td>SE</td>\n",
       "      <td>Data Science &amp; Machine Learning</td>\n",
       "      <td>222200.0</td>\n",
       "      <td>North America</td>\n",
       "      <td>0</td>\n",
       "      <td>North America</td>\n",
       "      <td>L</td>\n",
       "    </tr>\n",
       "    <tr>\n",
       "      <th>4</th>\n",
       "      <td>2023</td>\n",
       "      <td>SE</td>\n",
       "      <td>Data Science &amp; Machine Learning</td>\n",
       "      <td>136000.0</td>\n",
       "      <td>North America</td>\n",
       "      <td>0</td>\n",
       "      <td>North America</td>\n",
       "      <td>L</td>\n",
       "    </tr>\n",
       "    <tr>\n",
       "      <th>...</th>\n",
       "      <td>...</td>\n",
       "      <td>...</td>\n",
       "      <td>...</td>\n",
       "      <td>...</td>\n",
       "      <td>...</td>\n",
       "      <td>...</td>\n",
       "      <td>...</td>\n",
       "      <td>...</td>\n",
       "    </tr>\n",
       "    <tr>\n",
       "      <th>4263</th>\n",
       "      <td>2022</td>\n",
       "      <td>SE</td>\n",
       "      <td>Data Engineering &amp; Infrastructure</td>\n",
       "      <td>154000.0</td>\n",
       "      <td>North America</td>\n",
       "      <td>100</td>\n",
       "      <td>North America</td>\n",
       "      <td>M</td>\n",
       "    </tr>\n",
       "    <tr>\n",
       "      <th>4264</th>\n",
       "      <td>2022</td>\n",
       "      <td>SE</td>\n",
       "      <td>Data Engineering &amp; Infrastructure</td>\n",
       "      <td>126000.0</td>\n",
       "      <td>North America</td>\n",
       "      <td>100</td>\n",
       "      <td>North America</td>\n",
       "      <td>M</td>\n",
       "    </tr>\n",
       "    <tr>\n",
       "      <th>4265</th>\n",
       "      <td>2022</td>\n",
       "      <td>SE</td>\n",
       "      <td>Data Analysis &amp; Analytics</td>\n",
       "      <td>129000.0</td>\n",
       "      <td>North America</td>\n",
       "      <td>0</td>\n",
       "      <td>North America</td>\n",
       "      <td>M</td>\n",
       "    </tr>\n",
       "    <tr>\n",
       "      <th>4266</th>\n",
       "      <td>2022</td>\n",
       "      <td>SE</td>\n",
       "      <td>Data Analysis &amp; Analytics</td>\n",
       "      <td>150000.0</td>\n",
       "      <td>North America</td>\n",
       "      <td>100</td>\n",
       "      <td>North America</td>\n",
       "      <td>M</td>\n",
       "    </tr>\n",
       "    <tr>\n",
       "      <th>4267</th>\n",
       "      <td>2022</td>\n",
       "      <td>MI</td>\n",
       "      <td>Artificial Intelligence (AI)</td>\n",
       "      <td>200000.0</td>\n",
       "      <td>Other</td>\n",
       "      <td>100</td>\n",
       "      <td>North America</td>\n",
       "      <td>L</td>\n",
       "    </tr>\n",
       "  </tbody>\n",
       "</table>\n",
       "<p>4268 rows × 8 columns</p>\n",
       "</div>"
      ],
      "text/plain": [
       "      work_year experience_level                          job_title  \\\n",
       "0          2023               SE    Data Science & Machine Learning   \n",
       "1          2023               SE    Data Science & Machine Learning   \n",
       "2          2023               SE    Data Science & Machine Learning   \n",
       "3          2023               SE    Data Science & Machine Learning   \n",
       "4          2023               SE    Data Science & Machine Learning   \n",
       "...         ...              ...                                ...   \n",
       "4263       2022               SE  Data Engineering & Infrastructure   \n",
       "4264       2022               SE  Data Engineering & Infrastructure   \n",
       "4265       2022               SE          Data Analysis & Analytics   \n",
       "4266       2022               SE          Data Analysis & Analytics   \n",
       "4267       2022               MI       Artificial Intelligence (AI)   \n",
       "\n",
       "      salary_in_usd employee_residence  remote_ratio company_location  \\\n",
       "0           85847.0             Europe           100           Europe   \n",
       "1          175000.0      North America           100    North America   \n",
       "2          120000.0      North America           100    North America   \n",
       "3          222200.0      North America             0    North America   \n",
       "4          136000.0      North America             0    North America   \n",
       "...             ...                ...           ...              ...   \n",
       "4263       154000.0      North America           100    North America   \n",
       "4264       126000.0      North America           100    North America   \n",
       "4265       129000.0      North America             0    North America   \n",
       "4266       150000.0      North America           100    North America   \n",
       "4267       200000.0              Other           100    North America   \n",
       "\n",
       "     company_size  \n",
       "0               L  \n",
       "1               M  \n",
       "2               M  \n",
       "3               L  \n",
       "4               L  \n",
       "...           ...  \n",
       "4263            M  \n",
       "4264            M  \n",
       "4265            M  \n",
       "4266            M  \n",
       "4267            L  \n",
       "\n",
       "[4268 rows x 8 columns]"
      ]
     },
     "metadata": {},
     "output_type": "display_data"
    }
   ],
   "source": [
    "display(new_df)"
   ]
  },
  {
   "cell_type": "code",
   "execution_count": 246,
   "id": "2e7029f6",
   "metadata": {},
   "outputs": [
    {
     "data": {
      "text/html": [
       "<div>\n",
       "<style scoped>\n",
       "    .dataframe tbody tr th:only-of-type {\n",
       "        vertical-align: middle;\n",
       "    }\n",
       "\n",
       "    .dataframe tbody tr th {\n",
       "        vertical-align: top;\n",
       "    }\n",
       "\n",
       "    .dataframe thead th {\n",
       "        text-align: right;\n",
       "    }\n",
       "</style>\n",
       "<table border=\"1\" class=\"dataframe\">\n",
       "  <thead>\n",
       "    <tr style=\"text-align: right;\">\n",
       "      <th></th>\n",
       "      <th>work_year</th>\n",
       "      <th>salary_in_usd</th>\n",
       "      <th>remote_ratio</th>\n",
       "    </tr>\n",
       "  </thead>\n",
       "  <tbody>\n",
       "    <tr>\n",
       "      <th>count</th>\n",
       "      <td>4268.000000</td>\n",
       "      <td>4268.000000</td>\n",
       "      <td>4268.000000</td>\n",
       "    </tr>\n",
       "    <tr>\n",
       "      <th>mean</th>\n",
       "      <td>2022.259372</td>\n",
       "      <td>135379.528351</td>\n",
       "      <td>49.238519</td>\n",
       "    </tr>\n",
       "    <tr>\n",
       "      <th>std</th>\n",
       "      <td>0.753381</td>\n",
       "      <td>60723.206819</td>\n",
       "      <td>48.446756</td>\n",
       "    </tr>\n",
       "    <tr>\n",
       "      <th>min</th>\n",
       "      <td>2020.000000</td>\n",
       "      <td>12000.000000</td>\n",
       "      <td>0.000000</td>\n",
       "    </tr>\n",
       "    <tr>\n",
       "      <th>25%</th>\n",
       "      <td>2022.000000</td>\n",
       "      <td>90933.500000</td>\n",
       "      <td>0.000000</td>\n",
       "    </tr>\n",
       "    <tr>\n",
       "      <th>50%</th>\n",
       "      <td>2022.000000</td>\n",
       "      <td>131526.000000</td>\n",
       "      <td>50.000000</td>\n",
       "    </tr>\n",
       "    <tr>\n",
       "      <th>75%</th>\n",
       "      <td>2023.000000</td>\n",
       "      <td>175000.000000</td>\n",
       "      <td>100.000000</td>\n",
       "    </tr>\n",
       "    <tr>\n",
       "      <th>max</th>\n",
       "      <td>2023.000000</td>\n",
       "      <td>301099.750000</td>\n",
       "      <td>100.000000</td>\n",
       "    </tr>\n",
       "  </tbody>\n",
       "</table>\n",
       "</div>"
      ],
      "text/plain": [
       "         work_year  salary_in_usd  remote_ratio\n",
       "count  4268.000000    4268.000000   4268.000000\n",
       "mean   2022.259372  135379.528351     49.238519\n",
       "std       0.753381   60723.206819     48.446756\n",
       "min    2020.000000   12000.000000      0.000000\n",
       "25%    2022.000000   90933.500000      0.000000\n",
       "50%    2022.000000  131526.000000     50.000000\n",
       "75%    2023.000000  175000.000000    100.000000\n",
       "max    2023.000000  301099.750000    100.000000"
      ]
     },
     "execution_count": 246,
     "metadata": {},
     "output_type": "execute_result"
    }
   ],
   "source": [
    "new_df.describe()"
   ]
  },
  {
   "cell_type": "code",
   "execution_count": 247,
   "id": "f484e554",
   "metadata": {},
   "outputs": [
    {
     "data": {
      "text/plain": [
       "Index(['work_year', 'experience_level', 'job_title', 'salary_in_usd',\n",
       "       'employee_residence', 'remote_ratio', 'company_location',\n",
       "       'company_size'],\n",
       "      dtype='object')"
      ]
     },
     "execution_count": 247,
     "metadata": {},
     "output_type": "execute_result"
    }
   ],
   "source": [
    "new_df.columns"
   ]
  },
  {
   "cell_type": "code",
   "execution_count": 248,
   "id": "65b48015",
   "metadata": {},
   "outputs": [
    {
     "data": {
      "text/html": [
       "<div>\n",
       "<style scoped>\n",
       "    .dataframe tbody tr th:only-of-type {\n",
       "        vertical-align: middle;\n",
       "    }\n",
       "\n",
       "    .dataframe tbody tr th {\n",
       "        vertical-align: top;\n",
       "    }\n",
       "\n",
       "    .dataframe thead th {\n",
       "        text-align: right;\n",
       "    }\n",
       "</style>\n",
       "<table border=\"1\" class=\"dataframe\">\n",
       "  <thead>\n",
       "    <tr style=\"text-align: right;\">\n",
       "      <th></th>\n",
       "      <th>salary_in_usd</th>\n",
       "      <th>work_year_2020</th>\n",
       "      <th>work_year_2021</th>\n",
       "      <th>work_year_2022</th>\n",
       "      <th>work_year_2023</th>\n",
       "      <th>experience_level_EN</th>\n",
       "      <th>experience_level_EX</th>\n",
       "      <th>experience_level_MI</th>\n",
       "      <th>experience_level_SE</th>\n",
       "      <th>job_title_Artificial Intelligence (AI)</th>\n",
       "      <th>...</th>\n",
       "      <th>employee_residence_Other</th>\n",
       "      <th>remote_ratio_0</th>\n",
       "      <th>remote_ratio_50</th>\n",
       "      <th>remote_ratio_100</th>\n",
       "      <th>company_location_Europe</th>\n",
       "      <th>company_location_North America</th>\n",
       "      <th>company_location_Other</th>\n",
       "      <th>company_size_L</th>\n",
       "      <th>company_size_M</th>\n",
       "      <th>company_size_S</th>\n",
       "    </tr>\n",
       "  </thead>\n",
       "  <tbody>\n",
       "    <tr>\n",
       "      <th>0</th>\n",
       "      <td>85847.0</td>\n",
       "      <td>False</td>\n",
       "      <td>False</td>\n",
       "      <td>False</td>\n",
       "      <td>True</td>\n",
       "      <td>False</td>\n",
       "      <td>False</td>\n",
       "      <td>False</td>\n",
       "      <td>True</td>\n",
       "      <td>False</td>\n",
       "      <td>...</td>\n",
       "      <td>False</td>\n",
       "      <td>False</td>\n",
       "      <td>False</td>\n",
       "      <td>True</td>\n",
       "      <td>True</td>\n",
       "      <td>False</td>\n",
       "      <td>False</td>\n",
       "      <td>True</td>\n",
       "      <td>False</td>\n",
       "      <td>False</td>\n",
       "    </tr>\n",
       "    <tr>\n",
       "      <th>1</th>\n",
       "      <td>175000.0</td>\n",
       "      <td>False</td>\n",
       "      <td>False</td>\n",
       "      <td>False</td>\n",
       "      <td>True</td>\n",
       "      <td>False</td>\n",
       "      <td>False</td>\n",
       "      <td>False</td>\n",
       "      <td>True</td>\n",
       "      <td>False</td>\n",
       "      <td>...</td>\n",
       "      <td>False</td>\n",
       "      <td>False</td>\n",
       "      <td>False</td>\n",
       "      <td>True</td>\n",
       "      <td>False</td>\n",
       "      <td>True</td>\n",
       "      <td>False</td>\n",
       "      <td>False</td>\n",
       "      <td>True</td>\n",
       "      <td>False</td>\n",
       "    </tr>\n",
       "    <tr>\n",
       "      <th>2</th>\n",
       "      <td>120000.0</td>\n",
       "      <td>False</td>\n",
       "      <td>False</td>\n",
       "      <td>False</td>\n",
       "      <td>True</td>\n",
       "      <td>False</td>\n",
       "      <td>False</td>\n",
       "      <td>False</td>\n",
       "      <td>True</td>\n",
       "      <td>False</td>\n",
       "      <td>...</td>\n",
       "      <td>False</td>\n",
       "      <td>False</td>\n",
       "      <td>False</td>\n",
       "      <td>True</td>\n",
       "      <td>False</td>\n",
       "      <td>True</td>\n",
       "      <td>False</td>\n",
       "      <td>False</td>\n",
       "      <td>True</td>\n",
       "      <td>False</td>\n",
       "    </tr>\n",
       "    <tr>\n",
       "      <th>3</th>\n",
       "      <td>222200.0</td>\n",
       "      <td>False</td>\n",
       "      <td>False</td>\n",
       "      <td>False</td>\n",
       "      <td>True</td>\n",
       "      <td>False</td>\n",
       "      <td>False</td>\n",
       "      <td>False</td>\n",
       "      <td>True</td>\n",
       "      <td>False</td>\n",
       "      <td>...</td>\n",
       "      <td>False</td>\n",
       "      <td>True</td>\n",
       "      <td>False</td>\n",
       "      <td>False</td>\n",
       "      <td>False</td>\n",
       "      <td>True</td>\n",
       "      <td>False</td>\n",
       "      <td>True</td>\n",
       "      <td>False</td>\n",
       "      <td>False</td>\n",
       "    </tr>\n",
       "    <tr>\n",
       "      <th>4</th>\n",
       "      <td>136000.0</td>\n",
       "      <td>False</td>\n",
       "      <td>False</td>\n",
       "      <td>False</td>\n",
       "      <td>True</td>\n",
       "      <td>False</td>\n",
       "      <td>False</td>\n",
       "      <td>False</td>\n",
       "      <td>True</td>\n",
       "      <td>False</td>\n",
       "      <td>...</td>\n",
       "      <td>False</td>\n",
       "      <td>True</td>\n",
       "      <td>False</td>\n",
       "      <td>False</td>\n",
       "      <td>False</td>\n",
       "      <td>True</td>\n",
       "      <td>False</td>\n",
       "      <td>True</td>\n",
       "      <td>False</td>\n",
       "      <td>False</td>\n",
       "    </tr>\n",
       "  </tbody>\n",
       "</table>\n",
       "<p>5 rows × 27 columns</p>\n",
       "</div>"
      ],
      "text/plain": [
       "   salary_in_usd  work_year_2020  work_year_2021  work_year_2022  \\\n",
       "0        85847.0           False           False           False   \n",
       "1       175000.0           False           False           False   \n",
       "2       120000.0           False           False           False   \n",
       "3       222200.0           False           False           False   \n",
       "4       136000.0           False           False           False   \n",
       "\n",
       "   work_year_2023  experience_level_EN  experience_level_EX  \\\n",
       "0            True                False                False   \n",
       "1            True                False                False   \n",
       "2            True                False                False   \n",
       "3            True                False                False   \n",
       "4            True                False                False   \n",
       "\n",
       "   experience_level_MI  experience_level_SE  \\\n",
       "0                False                 True   \n",
       "1                False                 True   \n",
       "2                False                 True   \n",
       "3                False                 True   \n",
       "4                False                 True   \n",
       "\n",
       "   job_title_Artificial Intelligence (AI)  ...  employee_residence_Other  \\\n",
       "0                                   False  ...                     False   \n",
       "1                                   False  ...                     False   \n",
       "2                                   False  ...                     False   \n",
       "3                                   False  ...                     False   \n",
       "4                                   False  ...                     False   \n",
       "\n",
       "   remote_ratio_0  remote_ratio_50  remote_ratio_100  company_location_Europe  \\\n",
       "0           False            False              True                     True   \n",
       "1           False            False              True                    False   \n",
       "2           False            False              True                    False   \n",
       "3            True            False             False                    False   \n",
       "4            True            False             False                    False   \n",
       "\n",
       "   company_location_North America  company_location_Other  company_size_L  \\\n",
       "0                           False                   False            True   \n",
       "1                            True                   False           False   \n",
       "2                            True                   False           False   \n",
       "3                            True                   False            True   \n",
       "4                            True                   False            True   \n",
       "\n",
       "   company_size_M  company_size_S  \n",
       "0           False           False  \n",
       "1            True           False  \n",
       "2            True           False  \n",
       "3           False           False  \n",
       "4           False           False  \n",
       "\n",
       "[5 rows x 27 columns]"
      ]
     },
     "metadata": {},
     "output_type": "display_data"
    }
   ],
   "source": [
    "# Assuming 'categorical_columns' is a list containing the names of columns you want to encode\n",
    "categorical_columns = ['work_year', 'experience_level', 'job_title',\n",
    "       'employee_residence', 'remote_ratio', 'company_location',\n",
    "       'company_size']\n",
    "# Perform one-hot encoding\n",
    "df_encoded = pd.get_dummies(new_df, columns=categorical_columns)\n",
    "\n",
    "# Print the first few rows to verify the changes\n",
    "display(df_encoded.head())"
   ]
  },
  {
   "cell_type": "code",
   "execution_count": 249,
   "id": "49b78fec",
   "metadata": {},
   "outputs": [
    {
     "name": "stdout",
     "output_type": "stream",
     "text": [
      "Shape of X_train: (3414, 26)\n",
      "Shape of X_test: (854, 26)\n",
      "Shape of y_train: (3414,)\n",
      "Shape of y_test: (854,)\n"
     ]
    }
   ],
   "source": [
    "# features contains the input features (all columns except 'salary_in_usd')\n",
    "features = df_encoded.drop('salary_in_usd', axis=1)\n",
    "#target is the target variable ('salary_in_usd')\n",
    "target = df_encoded['salary_in_usd']\n",
    "\n",
    "# Split the data into training and testing sets\n",
    "X_train, X_test, y_train, y_test = train_test_split(features, target, test_size=0.2, random_state=1234)\n",
    "\n",
    "# test_size=0.2 specifies that 20% of the data will be used for testing\n",
    "# random_state=1234 sets a random seed for reproducibility\n",
    "\n",
    "# Print the shapes of the training and testing sets\n",
    "print(\"Shape of X_train:\", X_train.shape)\n",
    "print(\"Shape of X_test:\", X_test.shape)\n",
    "print(\"Shape of y_train:\", y_train.shape)\n",
    "print(\"Shape of y_test:\", y_test.shape)"
   ]
  },
  {
   "cell_type": "code",
   "execution_count": 250,
   "id": "593d886a",
   "metadata": {},
   "outputs": [],
   "source": [
    "#correlation_matrix = df_numerical.corr()\n",
    "\n",
    "#plt.figure(figsize=(10, 8))\n",
    "\n",
    "#sns.heatmap(correlation_matrix, annot=True, cmap='coolwarm')\n",
    "\n",
    "#plt.title('correlation coefficients between pairs of continuous variables')\n",
    "#plt.show()"
   ]
  },
  {
   "cell_type": "code",
   "execution_count": null,
   "id": "eed06be1",
   "metadata": {},
   "outputs": [],
   "source": []
  },
  {
   "cell_type": "code",
   "execution_count": null,
   "id": "2a06112a",
   "metadata": {},
   "outputs": [],
   "source": []
  },
  {
   "cell_type": "code",
   "execution_count": null,
   "id": "da47a622",
   "metadata": {},
   "outputs": [],
   "source": []
  },
  {
   "cell_type": "code",
   "execution_count": null,
   "id": "12b74b53",
   "metadata": {},
   "outputs": [],
   "source": []
  },
  {
   "cell_type": "code",
   "execution_count": null,
   "id": "e3d13912",
   "metadata": {},
   "outputs": [],
   "source": []
  },
  {
   "cell_type": "code",
   "execution_count": null,
   "id": "37bb956c",
   "metadata": {},
   "outputs": [],
   "source": []
  },
  {
   "cell_type": "code",
   "execution_count": null,
   "id": "2026887c",
   "metadata": {},
   "outputs": [],
   "source": []
  },
  {
   "cell_type": "code",
   "execution_count": null,
   "id": "31b636fd",
   "metadata": {},
   "outputs": [],
   "source": []
  },
  {
   "cell_type": "code",
   "execution_count": null,
   "id": "4c66bad3",
   "metadata": {},
   "outputs": [],
   "source": []
  },
  {
   "cell_type": "code",
   "execution_count": null,
   "id": "ab8e7c68",
   "metadata": {},
   "outputs": [],
   "source": []
  },
  {
   "cell_type": "code",
   "execution_count": null,
   "id": "bae280d8",
   "metadata": {},
   "outputs": [],
   "source": []
  },
  {
   "cell_type": "code",
   "execution_count": 251,
   "id": "08706caa",
   "metadata": {},
   "outputs": [],
   "source": [
    "#from sklearn.preprocessing import LabelEncoder"
   ]
  },
  {
   "cell_type": "code",
   "execution_count": 252,
   "id": "4e0b8358",
   "metadata": {},
   "outputs": [],
   "source": [
    "#label_encoder = LabelEncoder()"
   ]
  },
  {
   "cell_type": "code",
   "execution_count": 253,
   "id": "03e8cdd6",
   "metadata": {},
   "outputs": [],
   "source": [
    "# Iterate over each column and apply label encoding\n",
    "#for column in new_df.columns:\n",
    "#    if new_df[column].dtype == 'object':  # Check if the column contains categorical data\n",
    "#        new_df[column] = label_encoder.fit_transform(new_df[column])\n",
    "#    elif new_df[column].nunique() <= 25:  # Check if the column has a small number of unique values (assumed to be categorical)\n",
    "#        new_df[column] = label_encoder.fit_transform(new_df[column])\n",
    "\n",
    "#print(\"Encoded DataFrame:\")\n",
    "#display(new_df)"
   ]
  },
  {
   "cell_type": "code",
   "execution_count": 254,
   "id": "970d41ac",
   "metadata": {},
   "outputs": [],
   "source": [
    "#corr_matrix = new_df.corr()\n",
    "#sns.heatmap(corr_matrix, annot=True, cmap='coolwarm')\n",
    "#plt.title('Correlation Matrix')\n",
    "#plt.show()"
   ]
  },
  {
   "cell_type": "code",
   "execution_count": 255,
   "id": "8c4f27d8",
   "metadata": {},
   "outputs": [],
   "source": [
    "#spearman_correlations = new_df.corrwith(new_df['salary_in_usd'], method='spearman')\n",
    "#spearman_correlations_sorted = spearman_correlations.sort_values(ascending=False)\n",
    "#spearman_correlations_sorted"
   ]
  },
  {
   "cell_type": "code",
   "execution_count": 256,
   "id": "676cdf60",
   "metadata": {},
   "outputs": [
    {
     "name": "stdout",
     "output_type": "stream",
     "text": [
      "Shape of X_train: (3414, 26)\n",
      "Shape of X_test: (854, 26)\n",
      "Shape of y_train: (3414,)\n",
      "Shape of y_test: (854,)\n"
     ]
    }
   ],
   "source": [
    "# features contains the input features (all columns except 'salary_in_usd')\n",
    "features = df_encoded.drop('salary_in_usd', axis=1)\n",
    "#target is the target variable ('salary_in_usd')\n",
    "target = df_encoded['salary_in_usd']\n",
    "\n",
    "# Split the data into training and testing sets\n",
    "X_train, X_test, y_train, y_test = train_test_split(features, target, test_size=0.2, random_state=1234)\n",
    "\n",
    "# test_size=0.2 specifies that 20% of the data will be used for testing\n",
    "# random_state=1234 sets a random seed for reproducibility\n",
    "\n",
    "# Print the shapes of the training and testing sets\n",
    "print(\"Shape of X_train:\", X_train.shape)\n",
    "print(\"Shape of X_test:\", X_test.shape)\n",
    "print(\"Shape of y_train:\", y_train.shape)\n",
    "print(\"Shape of y_test:\", y_test.shape)"
   ]
  },
  {
   "cell_type": "code",
   "execution_count": 257,
   "id": "5bce88bd",
   "metadata": {},
   "outputs": [],
   "source": [
    "from sklearn.preprocessing import MinMaxScaler\n",
    "\n",
    "# Initialize the MinMaxScaler\n",
    "scaler = MinMaxScaler()\n",
    "\n",
    "# Fit the scaler to the training data and transform the data\n",
    "X_train_scaled = scaler.fit_transform(X_train)\n",
    "\n",
    "# Transform the testing data\n",
    "X_test_scaled = scaler.transform(X_test)"
   ]
  },
  {
   "cell_type": "code",
   "execution_count": 258,
   "id": "0e8f3cc6",
   "metadata": {},
   "outputs": [],
   "source": [
    "from sklearn.ensemble import RandomForestRegressor\n",
    "\n",
    "# Initialize the Random Forest regression model\n",
    "random_forest_model = RandomForestRegressor(n_estimators=100, random_state=42)\n",
    "\n",
    "# n_estimators specifies the number of trees in the forest (you can adjust this parameter as needed)\n",
    "# random_state sets a random seed for reproducibility\n",
    "\n",
    "# Train the model on the training data (X_train and y_train)\n",
    "random_forest_model.fit(X_train_scaled, y_train)\n",
    "\n",
    "# Once the model is trained, you can use it to make predictions on the testing data (X_test)\n",
    "predictions = random_forest_model.predict(X_test_scaled)"
   ]
  },
  {
   "cell_type": "code",
   "execution_count": 259,
   "id": "195591af",
   "metadata": {},
   "outputs": [
    {
     "data": {
      "text/html": [
       "<style>#sk-container-id-10 {color: black;}#sk-container-id-10 pre{padding: 0;}#sk-container-id-10 div.sk-toggleable {background-color: white;}#sk-container-id-10 label.sk-toggleable__label {cursor: pointer;display: block;width: 100%;margin-bottom: 0;padding: 0.3em;box-sizing: border-box;text-align: center;}#sk-container-id-10 label.sk-toggleable__label-arrow:before {content: \"▸\";float: left;margin-right: 0.25em;color: #696969;}#sk-container-id-10 label.sk-toggleable__label-arrow:hover:before {color: black;}#sk-container-id-10 div.sk-estimator:hover label.sk-toggleable__label-arrow:before {color: black;}#sk-container-id-10 div.sk-toggleable__content {max-height: 0;max-width: 0;overflow: hidden;text-align: left;background-color: #f0f8ff;}#sk-container-id-10 div.sk-toggleable__content pre {margin: 0.2em;color: black;border-radius: 0.25em;background-color: #f0f8ff;}#sk-container-id-10 input.sk-toggleable__control:checked~div.sk-toggleable__content {max-height: 200px;max-width: 100%;overflow: auto;}#sk-container-id-10 input.sk-toggleable__control:checked~label.sk-toggleable__label-arrow:before {content: \"▾\";}#sk-container-id-10 div.sk-estimator input.sk-toggleable__control:checked~label.sk-toggleable__label {background-color: #d4ebff;}#sk-container-id-10 div.sk-label input.sk-toggleable__control:checked~label.sk-toggleable__label {background-color: #d4ebff;}#sk-container-id-10 input.sk-hidden--visually {border: 0;clip: rect(1px 1px 1px 1px);clip: rect(1px, 1px, 1px, 1px);height: 1px;margin: -1px;overflow: hidden;padding: 0;position: absolute;width: 1px;}#sk-container-id-10 div.sk-estimator {font-family: monospace;background-color: #f0f8ff;border: 1px dotted black;border-radius: 0.25em;box-sizing: border-box;margin-bottom: 0.5em;}#sk-container-id-10 div.sk-estimator:hover {background-color: #d4ebff;}#sk-container-id-10 div.sk-parallel-item::after {content: \"\";width: 100%;border-bottom: 1px solid gray;flex-grow: 1;}#sk-container-id-10 div.sk-label:hover label.sk-toggleable__label {background-color: #d4ebff;}#sk-container-id-10 div.sk-serial::before {content: \"\";position: absolute;border-left: 1px solid gray;box-sizing: border-box;top: 0;bottom: 0;left: 50%;z-index: 0;}#sk-container-id-10 div.sk-serial {display: flex;flex-direction: column;align-items: center;background-color: white;padding-right: 0.2em;padding-left: 0.2em;position: relative;}#sk-container-id-10 div.sk-item {position: relative;z-index: 1;}#sk-container-id-10 div.sk-parallel {display: flex;align-items: stretch;justify-content: center;background-color: white;position: relative;}#sk-container-id-10 div.sk-item::before, #sk-container-id-10 div.sk-parallel-item::before {content: \"\";position: absolute;border-left: 1px solid gray;box-sizing: border-box;top: 0;bottom: 0;left: 50%;z-index: -1;}#sk-container-id-10 div.sk-parallel-item {display: flex;flex-direction: column;z-index: 1;position: relative;background-color: white;}#sk-container-id-10 div.sk-parallel-item:first-child::after {align-self: flex-end;width: 50%;}#sk-container-id-10 div.sk-parallel-item:last-child::after {align-self: flex-start;width: 50%;}#sk-container-id-10 div.sk-parallel-item:only-child::after {width: 0;}#sk-container-id-10 div.sk-dashed-wrapped {border: 1px dashed gray;margin: 0 0.4em 0.5em 0.4em;box-sizing: border-box;padding-bottom: 0.4em;background-color: white;}#sk-container-id-10 div.sk-label label {font-family: monospace;font-weight: bold;display: inline-block;line-height: 1.2em;}#sk-container-id-10 div.sk-label-container {text-align: center;}#sk-container-id-10 div.sk-container {/* jupyter's `normalize.less` sets `[hidden] { display: none; }` but bootstrap.min.css set `[hidden] { display: none !important; }` so we also need the `!important` here to be able to override the default hidden behavior on the sphinx rendered scikit-learn.org. See: https://github.com/scikit-learn/scikit-learn/issues/21755 */display: inline-block !important;position: relative;}#sk-container-id-10 div.sk-text-repr-fallback {display: none;}</style><div id=\"sk-container-id-10\" class=\"sk-top-container\"><div class=\"sk-text-repr-fallback\"><pre>LinearRegression()</pre><b>In a Jupyter environment, please rerun this cell to show the HTML representation or trust the notebook. <br />On GitHub, the HTML representation is unable to render, please try loading this page with nbviewer.org.</b></div><div class=\"sk-container\" hidden><div class=\"sk-item\"><div class=\"sk-estimator sk-toggleable\"><input class=\"sk-toggleable__control sk-hidden--visually\" id=\"sk-estimator-id-12\" type=\"checkbox\" checked><label for=\"sk-estimator-id-12\" class=\"sk-toggleable__label sk-toggleable__label-arrow\">LinearRegression</label><div class=\"sk-toggleable__content\"><pre>LinearRegression()</pre></div></div></div></div></div>"
      ],
      "text/plain": [
       "LinearRegression()"
      ]
     },
     "execution_count": 259,
     "metadata": {},
     "output_type": "execute_result"
    }
   ],
   "source": [
    "from sklearn.linear_model import LinearRegression\n",
    "\n",
    "lin_reg = LinearRegression()\n",
    "lin_reg.fit(X_train_scaled, y_train)"
   ]
  },
  {
   "cell_type": "code",
   "execution_count": 260,
   "id": "20de5b36",
   "metadata": {},
   "outputs": [
    {
     "data": {
      "text/plain": [
       "36563.769258933804"
      ]
     },
     "execution_count": 260,
     "metadata": {},
     "output_type": "execute_result"
    }
   ],
   "source": [
    "from sklearn.metrics import mean_absolute_error\n",
    "lin_reg_train_preds = lin_reg.predict(X_train_scaled)\n",
    "mean_absolute_error(y_train, lin_reg_train_preds)"
   ]
  },
  {
   "cell_type": "code",
   "execution_count": 261,
   "id": "c0b82b7c",
   "metadata": {},
   "outputs": [
    {
     "data": {
      "text/plain": [
       "34744.687060889926"
      ]
     },
     "execution_count": 261,
     "metadata": {},
     "output_type": "execute_result"
    }
   ],
   "source": [
    "lin_preds = lin_reg.predict(X_test_scaled)\n",
    "mean_absolute_error(y_test, lin_preds)"
   ]
  },
  {
   "cell_type": "code",
   "execution_count": 262,
   "id": "56002fb5",
   "metadata": {},
   "outputs": [],
   "source": [
    "# mape = mean_absolute_percentual_error = mean( abs(y - y_pred)/y )  # error 1euros when predicting 10 euros, than 1euro \n",
    "# scatterplot ( y_pred, vs y); y_pred = y; y_pred = 0 + y = 0 + 1 * y"
   ]
  },
  {
   "cell_type": "code",
   "execution_count": 263,
   "id": "582d5952",
   "metadata": {},
   "outputs": [],
   "source": [
    "absolute_percentage_errors = np.abs((y_train - lin_reg_train_preds) / y_train)\n",
    "mean_absolute_percentage_error = np.mean(absolute_percentage_errors) * 100"
   ]
  },
  {
   "cell_type": "code",
   "execution_count": 264,
   "id": "e34440b3",
   "metadata": {},
   "outputs": [
    {
     "name": "stdout",
     "output_type": "stream",
     "text": [
      "Mean Absolute Percentage Error (MAPE): 35.32%\n"
     ]
    }
   ],
   "source": [
    "print(\"Mean Absolute Percentage Error (MAPE): {:.2f}%\".format(mean_absolute_percentage_error))"
   ]
  },
  {
   "cell_type": "code",
   "execution_count": null,
   "id": "5fb2a985",
   "metadata": {},
   "outputs": [],
   "source": []
  },
  {
   "cell_type": "code",
   "execution_count": null,
   "id": "bb3e055b",
   "metadata": {},
   "outputs": [],
   "source": []
  },
  {
   "cell_type": "code",
   "execution_count": 265,
   "id": "089c92ad",
   "metadata": {},
   "outputs": [
    {
     "data": {
      "text/html": [
       "<style>#sk-container-id-11 {color: black;}#sk-container-id-11 pre{padding: 0;}#sk-container-id-11 div.sk-toggleable {background-color: white;}#sk-container-id-11 label.sk-toggleable__label {cursor: pointer;display: block;width: 100%;margin-bottom: 0;padding: 0.3em;box-sizing: border-box;text-align: center;}#sk-container-id-11 label.sk-toggleable__label-arrow:before {content: \"▸\";float: left;margin-right: 0.25em;color: #696969;}#sk-container-id-11 label.sk-toggleable__label-arrow:hover:before {color: black;}#sk-container-id-11 div.sk-estimator:hover label.sk-toggleable__label-arrow:before {color: black;}#sk-container-id-11 div.sk-toggleable__content {max-height: 0;max-width: 0;overflow: hidden;text-align: left;background-color: #f0f8ff;}#sk-container-id-11 div.sk-toggleable__content pre {margin: 0.2em;color: black;border-radius: 0.25em;background-color: #f0f8ff;}#sk-container-id-11 input.sk-toggleable__control:checked~div.sk-toggleable__content {max-height: 200px;max-width: 100%;overflow: auto;}#sk-container-id-11 input.sk-toggleable__control:checked~label.sk-toggleable__label-arrow:before {content: \"▾\";}#sk-container-id-11 div.sk-estimator input.sk-toggleable__control:checked~label.sk-toggleable__label {background-color: #d4ebff;}#sk-container-id-11 div.sk-label input.sk-toggleable__control:checked~label.sk-toggleable__label {background-color: #d4ebff;}#sk-container-id-11 input.sk-hidden--visually {border: 0;clip: rect(1px 1px 1px 1px);clip: rect(1px, 1px, 1px, 1px);height: 1px;margin: -1px;overflow: hidden;padding: 0;position: absolute;width: 1px;}#sk-container-id-11 div.sk-estimator {font-family: monospace;background-color: #f0f8ff;border: 1px dotted black;border-radius: 0.25em;box-sizing: border-box;margin-bottom: 0.5em;}#sk-container-id-11 div.sk-estimator:hover {background-color: #d4ebff;}#sk-container-id-11 div.sk-parallel-item::after {content: \"\";width: 100%;border-bottom: 1px solid gray;flex-grow: 1;}#sk-container-id-11 div.sk-label:hover label.sk-toggleable__label {background-color: #d4ebff;}#sk-container-id-11 div.sk-serial::before {content: \"\";position: absolute;border-left: 1px solid gray;box-sizing: border-box;top: 0;bottom: 0;left: 50%;z-index: 0;}#sk-container-id-11 div.sk-serial {display: flex;flex-direction: column;align-items: center;background-color: white;padding-right: 0.2em;padding-left: 0.2em;position: relative;}#sk-container-id-11 div.sk-item {position: relative;z-index: 1;}#sk-container-id-11 div.sk-parallel {display: flex;align-items: stretch;justify-content: center;background-color: white;position: relative;}#sk-container-id-11 div.sk-item::before, #sk-container-id-11 div.sk-parallel-item::before {content: \"\";position: absolute;border-left: 1px solid gray;box-sizing: border-box;top: 0;bottom: 0;left: 50%;z-index: -1;}#sk-container-id-11 div.sk-parallel-item {display: flex;flex-direction: column;z-index: 1;position: relative;background-color: white;}#sk-container-id-11 div.sk-parallel-item:first-child::after {align-self: flex-end;width: 50%;}#sk-container-id-11 div.sk-parallel-item:last-child::after {align-self: flex-start;width: 50%;}#sk-container-id-11 div.sk-parallel-item:only-child::after {width: 0;}#sk-container-id-11 div.sk-dashed-wrapped {border: 1px dashed gray;margin: 0 0.4em 0.5em 0.4em;box-sizing: border-box;padding-bottom: 0.4em;background-color: white;}#sk-container-id-11 div.sk-label label {font-family: monospace;font-weight: bold;display: inline-block;line-height: 1.2em;}#sk-container-id-11 div.sk-label-container {text-align: center;}#sk-container-id-11 div.sk-container {/* jupyter's `normalize.less` sets `[hidden] { display: none; }` but bootstrap.min.css set `[hidden] { display: none !important; }` so we also need the `!important` here to be able to override the default hidden behavior on the sphinx rendered scikit-learn.org. See: https://github.com/scikit-learn/scikit-learn/issues/21755 */display: inline-block !important;position: relative;}#sk-container-id-11 div.sk-text-repr-fallback {display: none;}</style><div id=\"sk-container-id-11\" class=\"sk-top-container\"><div class=\"sk-text-repr-fallback\"><pre>RandomForestRegressor()</pre><b>In a Jupyter environment, please rerun this cell to show the HTML representation or trust the notebook. <br />On GitHub, the HTML representation is unable to render, please try loading this page with nbviewer.org.</b></div><div class=\"sk-container\" hidden><div class=\"sk-item\"><div class=\"sk-estimator sk-toggleable\"><input class=\"sk-toggleable__control sk-hidden--visually\" id=\"sk-estimator-id-13\" type=\"checkbox\" checked><label for=\"sk-estimator-id-13\" class=\"sk-toggleable__label sk-toggleable__label-arrow\">RandomForestRegressor</label><div class=\"sk-toggleable__content\"><pre>RandomForestRegressor()</pre></div></div></div></div></div>"
      ],
      "text/plain": [
       "RandomForestRegressor()"
      ]
     },
     "execution_count": 265,
     "metadata": {},
     "output_type": "execute_result"
    }
   ],
   "source": [
    "from sklearn.ensemble import RandomForestRegressor\n",
    "\n",
    "forest_reg = RandomForestRegressor()\n",
    "forest_reg.fit(X_train_scaled, y_train)"
   ]
  },
  {
   "cell_type": "code",
   "execution_count": 266,
   "id": "d8392252",
   "metadata": {},
   "outputs": [
    {
     "data": {
      "text/plain": [
       "31755.08310975571"
      ]
     },
     "execution_count": 266,
     "metadata": {},
     "output_type": "execute_result"
    }
   ],
   "source": [
    "forest_reg_train_preds = forest_reg.predict(X_train_scaled)\n",
    "mean_absolute_error(y_train, forest_reg_train_preds)"
   ]
  },
  {
   "cell_type": "code",
   "execution_count": 267,
   "id": "cade68af",
   "metadata": {},
   "outputs": [
    {
     "data": {
      "text/plain": [
       "33516.01574769646"
      ]
     },
     "execution_count": 267,
     "metadata": {},
     "output_type": "execute_result"
    }
   ],
   "source": [
    "forest_reg_preds = forest_reg.predict(X_test_scaled)\n",
    "mean_absolute_error(y_test, forest_reg_preds)"
   ]
  },
  {
   "cell_type": "code",
   "execution_count": 268,
   "id": "126609fd",
   "metadata": {},
   "outputs": [],
   "source": [
    "absolute_percentage_errors = np.abs((y_train - forest_reg_train_preds) / y_train)\n",
    "mean_absolute_percentage_error = np.mean(absolute_percentage_errors) * 100"
   ]
  },
  {
   "cell_type": "code",
   "execution_count": 269,
   "id": "cc1f6149",
   "metadata": {},
   "outputs": [
    {
     "name": "stdout",
     "output_type": "stream",
     "text": [
      "Mean Absolute Percentage Error (MAPE): 27.70%\n"
     ]
    }
   ],
   "source": [
    "print(\"Mean Absolute Percentage Error (MAPE): {:.2f}%\".format(mean_absolute_percentage_error))"
   ]
  },
  {
   "cell_type": "code",
   "execution_count": 121,
   "id": "a065f119",
   "metadata": {},
   "outputs": [
    {
     "data": {
      "text/plain": [
       "(array([ 31.,  59.,  90.,  85., 158., 285., 130.,  11.,   4.,   1.]),\n",
       " array([ 21379.23142857,  46510.9976751 ,  71642.76392163,  96774.53016815,\n",
       "        121906.29641468, 147038.06266121, 172169.82890774, 197301.59515427,\n",
       "        222433.36140079, 247565.12764732, 272696.89389385]),\n",
       " <BarContainer object of 10 artists>)"
      ]
     },
     "execution_count": 121,
     "metadata": {},
     "output_type": "execute_result"
    },
    {
     "data": {
      "image/png": "[encoded data removed]",
      "text/plain": [
       "<Figure size 1200x500 with 2 Axes>"
      ]
     },
     "metadata": {},
     "output_type": "display_data"
    }
   ],
   "source": [
    "plt.figure(figsize=(12,5))\n",
    "\n",
    "plt.subplot(1, 2, 1)\n",
    "plt.hist(y_test)\n",
    "\n",
    "plt.subplot(1, 2, 2)\n",
    "plt.hist(forest_reg_preds)"
   ]
  },
  {
   "cell_type": "code",
   "execution_count": 122,
   "id": "19539f33",
   "metadata": {},
   "outputs": [
    {
     "data": {
      "text/html": [
       "<style>#sk-container-id-9 {color: black;}#sk-container-id-9 pre{padding: 0;}#sk-container-id-9 div.sk-toggleable {background-color: white;}#sk-container-id-9 label.sk-toggleable__label {cursor: pointer;display: block;width: 100%;margin-bottom: 0;padding: 0.3em;box-sizing: border-box;text-align: center;}#sk-container-id-9 label.sk-toggleable__label-arrow:before {content: \"▸\";float: left;margin-right: 0.25em;color: #696969;}#sk-container-id-9 label.sk-toggleable__label-arrow:hover:before {color: black;}#sk-container-id-9 div.sk-estimator:hover label.sk-toggleable__label-arrow:before {color: black;}#sk-container-id-9 div.sk-toggleable__content {max-height: 0;max-width: 0;overflow: hidden;text-align: left;background-color: #f0f8ff;}#sk-container-id-9 div.sk-toggleable__content pre {margin: 0.2em;color: black;border-radius: 0.25em;background-color: #f0f8ff;}#sk-container-id-9 input.sk-toggleable__control:checked~div.sk-toggleable__content {max-height: 200px;max-width: 100%;overflow: auto;}#sk-container-id-9 input.sk-toggleable__control:checked~label.sk-toggleable__label-arrow:before {content: \"▾\";}#sk-container-id-9 div.sk-estimator input.sk-toggleable__control:checked~label.sk-toggleable__label {background-color: #d4ebff;}#sk-container-id-9 div.sk-label input.sk-toggleable__control:checked~label.sk-toggleable__label {background-color: #d4ebff;}#sk-container-id-9 input.sk-hidden--visually {border: 0;clip: rect(1px 1px 1px 1px);clip: rect(1px, 1px, 1px, 1px);height: 1px;margin: -1px;overflow: hidden;padding: 0;position: absolute;width: 1px;}#sk-container-id-9 div.sk-estimator {font-family: monospace;background-color: #f0f8ff;border: 1px dotted black;border-radius: 0.25em;box-sizing: border-box;margin-bottom: 0.5em;}#sk-container-id-9 div.sk-estimator:hover {background-color: #d4ebff;}#sk-container-id-9 div.sk-parallel-item::after {content: \"\";width: 100%;border-bottom: 1px solid gray;flex-grow: 1;}#sk-container-id-9 div.sk-label:hover label.sk-toggleable__label {background-color: #d4ebff;}#sk-container-id-9 div.sk-serial::before {content: \"\";position: absolute;border-left: 1px solid gray;box-sizing: border-box;top: 0;bottom: 0;left: 50%;z-index: 0;}#sk-container-id-9 div.sk-serial {display: flex;flex-direction: column;align-items: center;background-color: white;padding-right: 0.2em;padding-left: 0.2em;position: relative;}#sk-container-id-9 div.sk-item {position: relative;z-index: 1;}#sk-container-id-9 div.sk-parallel {display: flex;align-items: stretch;justify-content: center;background-color: white;position: relative;}#sk-container-id-9 div.sk-item::before, #sk-container-id-9 div.sk-parallel-item::before {content: \"\";position: absolute;border-left: 1px solid gray;box-sizing: border-box;top: 0;bottom: 0;left: 50%;z-index: -1;}#sk-container-id-9 div.sk-parallel-item {display: flex;flex-direction: column;z-index: 1;position: relative;background-color: white;}#sk-container-id-9 div.sk-parallel-item:first-child::after {align-self: flex-end;width: 50%;}#sk-container-id-9 div.sk-parallel-item:last-child::after {align-self: flex-start;width: 50%;}#sk-container-id-9 div.sk-parallel-item:only-child::after {width: 0;}#sk-container-id-9 div.sk-dashed-wrapped {border: 1px dashed gray;margin: 0 0.4em 0.5em 0.4em;box-sizing: border-box;padding-bottom: 0.4em;background-color: white;}#sk-container-id-9 div.sk-label label {font-family: monospace;font-weight: bold;display: inline-block;line-height: 1.2em;}#sk-container-id-9 div.sk-label-container {text-align: center;}#sk-container-id-9 div.sk-container {/* jupyter's `normalize.less` sets `[hidden] { display: none; }` but bootstrap.min.css set `[hidden] { display: none !important; }` so we also need the `!important` here to be able to override the default hidden behavior on the sphinx rendered scikit-learn.org. See: https://github.com/scikit-learn/scikit-learn/issues/21755 */display: inline-block !important;position: relative;}#sk-container-id-9 div.sk-text-repr-fallback {display: none;}</style><div id=\"sk-container-id-9\" class=\"sk-top-container\"><div class=\"sk-text-repr-fallback\"><pre>GridSearchCV(estimator=RandomForestRegressor(),\n",
       "             param_grid=[{&#x27;max_depth&#x27;: [5, 10, 50],\n",
       "                          &#x27;max_features&#x27;: [4, 8, 12, 16],\n",
       "                          &#x27;n_estimators&#x27;: [5, 10, 50, 100]}],\n",
       "             return_train_score=True, scoring=&#x27;neg_mean_squared_error&#x27;)</pre><b>In a Jupyter environment, please rerun this cell to show the HTML representation or trust the notebook. <br />On GitHub, the HTML representation is unable to render, please try loading this page with nbviewer.org.</b></div><div class=\"sk-container\" hidden><div class=\"sk-item sk-dashed-wrapped\"><div class=\"sk-label-container\"><div class=\"sk-label sk-toggleable\"><input class=\"sk-toggleable__control sk-hidden--visually\" id=\"sk-estimator-id-9\" type=\"checkbox\" ><label for=\"sk-estimator-id-9\" class=\"sk-toggleable__label sk-toggleable__label-arrow\">GridSearchCV</label><div class=\"sk-toggleable__content\"><pre>GridSearchCV(estimator=RandomForestRegressor(),\n",
       "             param_grid=[{&#x27;max_depth&#x27;: [5, 10, 50],\n",
       "                          &#x27;max_features&#x27;: [4, 8, 12, 16],\n",
       "                          &#x27;n_estimators&#x27;: [5, 10, 50, 100]}],\n",
       "             return_train_score=True, scoring=&#x27;neg_mean_squared_error&#x27;)</pre></div></div></div><div class=\"sk-parallel\"><div class=\"sk-parallel-item\"><div class=\"sk-item\"><div class=\"sk-label-container\"><div class=\"sk-label sk-toggleable\"><input class=\"sk-toggleable__control sk-hidden--visually\" id=\"sk-estimator-id-10\" type=\"checkbox\" ><label for=\"sk-estimator-id-10\" class=\"sk-toggleable__label sk-toggleable__label-arrow\">estimator: RandomForestRegressor</label><div class=\"sk-toggleable__content\"><pre>RandomForestRegressor()</pre></div></div></div><div class=\"sk-serial\"><div class=\"sk-item\"><div class=\"sk-estimator sk-toggleable\"><input class=\"sk-toggleable__control sk-hidden--visually\" id=\"sk-estimator-id-11\" type=\"checkbox\" ><label for=\"sk-estimator-id-11\" class=\"sk-toggleable__label sk-toggleable__label-arrow\">RandomForestRegressor</label><div class=\"sk-toggleable__content\"><pre>RandomForestRegressor()</pre></div></div></div></div></div></div></div></div></div></div>"
      ],
      "text/plain": [
       "GridSearchCV(estimator=RandomForestRegressor(),\n",
       "             param_grid=[{'max_depth': [5, 10, 50],\n",
       "                          'max_features': [4, 8, 12, 16],\n",
       "                          'n_estimators': [5, 10, 50, 100]}],\n",
       "             return_train_score=True, scoring='neg_mean_squared_error')"
      ]
     },
     "execution_count": 122,
     "metadata": {},
     "output_type": "execute_result"
    }
   ],
   "source": [
    "from sklearn.model_selection import GridSearchCV\n",
    "\n",
    "forest_param_grid = [\n",
    "    {\"n_estimators\": [5, 10, 50, 100], \"max_features\": [4, 8, 12, 16], \"max_depth\": [5, 10, 50]},\n",
    "]\n",
    "\n",
    "forest_grid_search = GridSearchCV(\n",
    "    RandomForestRegressor(),\n",
    "    forest_param_grid,\n",
    "    scoring=\"neg_mean_squared_error\",\n",
    "    return_train_score=True,\n",
    ")\n",
    "\n",
    "forest_grid_search.fit(X_train_scaled, y_train)"
   ]
  },
  {
   "cell_type": "code",
   "execution_count": 123,
   "id": "a95cc207",
   "metadata": {},
   "outputs": [
    {
     "data": {
      "text/plain": [
       "45932.98479464527"
      ]
     },
     "execution_count": 123,
     "metadata": {},
     "output_type": "execute_result"
    }
   ],
   "source": [
    "np.sqrt(-forest_grid_search.best_score_)"
   ]
  },
  {
   "cell_type": "code",
   "execution_count": 124,
   "id": "afc16706",
   "metadata": {},
   "outputs": [
    {
     "data": {
      "text/plain": [
       "{'max_depth': 10, 'max_features': 8, 'n_estimators': 100}"
      ]
     },
     "execution_count": 124,
     "metadata": {},
     "output_type": "execute_result"
    }
   ],
   "source": [
    "forest_grid_search.best_params_"
   ]
  },
  {
   "cell_type": "code",
   "execution_count": 128,
   "id": "5d69779f",
   "metadata": {},
   "outputs": [],
   "source": [
    "feature_names = [location for location in list(new_df[\"company_location\"].value_counts().keys())[:5]] + [\"OTHER\"]\n",
    "feature_names += [job_category for job_category in df_mapped_jobs.unique()]\n",
    "#feature_names += [employment_type for employment_type in new_df[\"employment_type\"].unique()]\n",
    "feature_names += ['experience_level']"
   ]
  },
  {
   "cell_type": "code",
   "execution_count": 129,
   "id": "6483fbc6",
   "metadata": {},
   "outputs": [
    {
     "name": "stdout",
     "output_type": "stream",
     "text": [
      "(3, 0.011340726394837655)\n",
      "(2, 0.010332018714305098)\n",
      "(1, 0.017611731981125874)\n",
      "(5, 0.016115455421589427)\n",
      "(4, 0.05005202352781315)\n",
      "('OTHER', 0.047319502656481396)\n",
      "('Data Science & Machine Learning', 0.04479734661508832)\n",
      "('Data Analysis & Analytics', 0.07665216539301963)\n",
      "('Data Engineering & Infrastructure', 5.549635451153967e-05)\n",
      "('Business Intelligence (BI)', 0.011355158197578076)\n",
      "('Data Management', 0.002379528678443906)\n",
      "('Computer Vision', 0.0024586542463506836)\n",
      "('Compliance & Quality Assurance', 0.004039944641945757)\n",
      "('Artificial Intelligence (AI)', 0.0755111118219257)\n",
      "('AI & Machine Learning Operations (MLOps)', 0.01613935565916545)\n",
      "('experience_level', 0.015801289422791208)\n"
     ]
    }
   ],
   "source": [
    "forest_feature_importances = forest_grid_search.best_estimator_.feature_importances_\n",
    "\n",
    "for feature in zip(feature_names, forest_feature_importances):\n",
    "    print(feature)"
   ]
  },
  {
   "cell_type": "code",
   "execution_count": 130,
   "id": "6513a40f",
   "metadata": {},
   "outputs": [
    {
     "name": "stdout",
     "output_type": "stream",
     "text": [
      "(3, 0.011340726394837655)\n",
      "(2, 0.010332018714305098)\n",
      "(1, 0.017611731981125874)\n",
      "(5, 0.016115455421589427)\n",
      "(4, 0.05005202352781315)\n",
      "('OTHER', 0.047319502656481396)\n",
      "('Data Science & Machine Learning', 0.04479734661508832)\n",
      "('Data Analysis & Analytics', 0.07665216539301963)\n",
      "('Business Intelligence (BI)', 0.011355158197578076)\n",
      "('Artificial Intelligence (AI)', 0.0755111118219257)\n",
      "('AI & Machine Learning Operations (MLOps)', 0.01613935565916545)\n",
      "('experience_level', 0.015801289422791208)\n"
     ]
    }
   ],
   "source": [
    "for feature in zip(feature_names, forest_feature_importances):\n",
    "    if feature[1] > 0.01:\n",
    "        print(feature)\n",
    "        "
   ]
  },
  {
   "cell_type": "code",
   "execution_count": null,
   "id": "f12f4af3",
   "metadata": {},
   "outputs": [],
   "source": []
  },
  {
   "cell_type": "code",
   "execution_count": null,
   "id": "45f763ac",
   "metadata": {},
   "outputs": [],
   "source": []
  },
  {
   "cell_type": "code",
   "execution_count": null,
   "id": "d5921fe3",
   "metadata": {},
   "outputs": [],
   "source": []
  },
  {
   "cell_type": "code",
   "execution_count": null,
   "id": "c7ae4dc6",
   "metadata": {},
   "outputs": [],
   "source": []
  },
  {
   "cell_type": "code",
   "execution_count": null,
   "id": "b9c82ee2",
   "metadata": {},
   "outputs": [],
   "source": []
  },
  {
   "cell_type": "code",
   "execution_count": null,
   "id": "897c41ca",
   "metadata": {},
   "outputs": [],
   "source": []
  },
  {
   "cell_type": "code",
   "execution_count": null,
   "id": "bdb67d4d",
   "metadata": {},
   "outputs": [],
   "source": []
  },
  {
   "cell_type": "code",
   "execution_count": null,
   "id": "5a06d73c",
   "metadata": {},
   "outputs": [],
   "source": []
  },
  {
   "cell_type": "code",
   "execution_count": null,
   "id": "0a04d9c0",
   "metadata": {},
   "outputs": [],
   "source": [
    "object_columns = new_df.select_dtypes(\"object\").columns\n",
    "print(object_columns)"
   ]
  },
  {
   "cell_type": "code",
   "execution_count": null,
   "id": "4eef28c0",
   "metadata": {},
   "outputs": [],
   "source": [
    "new_df_encoded = pd.get_dummies(new_df, columns=object_columns, dtype=int)"
   ]
  },
  {
   "cell_type": "code",
   "execution_count": null,
   "id": "38cdb419",
   "metadata": {},
   "outputs": [],
   "source": [
    "display(new_df_encoded)"
   ]
  },
  {
   "cell_type": "code",
   "execution_count": null,
   "id": "b8a3d7cd",
   "metadata": {},
   "outputs": [],
   "source": [
    "potential_categorical_from_numerical = new_df_encoded.select_dtypes(\"number\").loc[:,new_df_encoded.select_dtypes(\"number\").nunique() < 20]"
   ]
  },
  {
   "cell_type": "code",
   "execution_count": null,
   "id": "7a37664f",
   "metadata": {},
   "outputs": [],
   "source": [
    "df_categorical = pd.concat([new_df_encoded.select_dtypes(\"object\"), potential_categorical_from_numerical], axis=1)\n",
    "df_numerical = new_df_encoded.select_dtypes(\"number\").drop(columns=potential_categorical_from_numerical.columns)"
   ]
  },
  {
   "cell_type": "code",
   "execution_count": null,
   "id": "c745dad3",
   "metadata": {},
   "outputs": [],
   "source": [
    "display(df_categorical)"
   ]
  },
  {
   "cell_type": "code",
   "execution_count": null,
   "id": "d0aaa7ec",
   "metadata": {},
   "outputs": [],
   "source": [
    "spearman_correlations = df_numerical.corrwith(new_df_encoded['salary_in_usd'], method='spearman')\n",
    "\n",
    "spearman_correlations_sorted = spearman_correlations.sort_values(ascending=False)\n",
    "\n",
    "spearman_correlations_sorted"
   ]
  },
  {
   "cell_type": "code",
   "execution_count": null,
   "id": "89e9fbde",
   "metadata": {},
   "outputs": [],
   "source": []
  },
  {
   "cell_type": "code",
   "execution_count": null,
   "id": "0781c2a9",
   "metadata": {},
   "outputs": [],
   "source": []
  },
  {
   "cell_type": "code",
   "execution_count": null,
   "id": "db6ac1d8",
   "metadata": {},
   "outputs": [],
   "source": []
  },
  {
   "cell_type": "code",
   "execution_count": null,
   "id": "2c96aa6b",
   "metadata": {},
   "outputs": [],
   "source": [
    "# features contains the input features (all columns except 'salary_in_usd')\n",
    "features = new_df_encoded.drop('salary_in_usd', axis=1)\n",
    "#target is the target variable ('salary_in_usd')\n",
    "target = new_df_encoded['salary_in_usd']\n",
    "\n",
    "# Split the data into training and testing sets\n",
    "X_train, X_test, y_train, y_test = train_test_split(features, target, test_size=0.2, random_state=1234)\n",
    "\n",
    "# test_size=0.2 specifies that 20% of the data will be used for testing\n",
    "# random_state=1234 sets a random seed for reproducibility\n",
    "\n",
    "# Print the shapes of the training and testing sets\n",
    "print(\"Shape of X_train:\", X_train.shape)\n",
    "print(\"Shape of X_test:\", X_test.shape)\n",
    "print(\"Shape of y_train:\", y_train.shape)\n",
    "print(\"Shape of y_test:\", y_test.shape)"
   ]
  },
  {
   "cell_type": "code",
   "execution_count": null,
   "id": "9fa18466",
   "metadata": {},
   "outputs": [],
   "source": []
  },
  {
   "cell_type": "code",
   "execution_count": null,
   "id": "e3806c8f",
   "metadata": {},
   "outputs": [],
   "source": []
  },
  {
   "cell_type": "code",
   "execution_count": null,
   "id": "ad968e99",
   "metadata": {},
   "outputs": [],
   "source": []
  },
  {
   "cell_type": "code",
   "execution_count": null,
   "id": "3cadd00f",
   "metadata": {},
   "outputs": [],
   "source": []
  },
  {
   "cell_type": "code",
   "execution_count": null,
   "id": "d423e919",
   "metadata": {},
   "outputs": [],
   "source": []
  },
  {
   "cell_type": "code",
   "execution_count": null,
   "id": "c7ea89d9",
   "metadata": {},
   "outputs": [],
   "source": []
  },
  {
   "cell_type": "code",
   "execution_count": null,
   "id": "55af9977",
   "metadata": {},
   "outputs": [],
   "source": []
  },
  {
   "cell_type": "code",
   "execution_count": null,
   "id": "49e8d79b",
   "metadata": {},
   "outputs": [],
   "source": []
  },
  {
   "cell_type": "code",
   "execution_count": null,
   "id": "16dba9e0",
   "metadata": {},
   "outputs": [],
   "source": []
  },
  {
   "cell_type": "code",
   "execution_count": null,
   "id": "7482ae7b",
   "metadata": {},
   "outputs": [],
   "source": []
  },
  {
   "cell_type": "code",
   "execution_count": null,
   "id": "d0b16e70",
   "metadata": {},
   "outputs": [],
   "source": []
  }
 ],
 "metadata": {
  "kernelspec": {
   "display_name": "Python 3 (ipykernel)",
   "language": "python",
   "name": "python3"
  },
  "language_info": {
   "codemirror_mode": {
    "name": "ipython",
    "version": 3
   },
   "file_extension": ".py",
   "mimetype": "text/x-python",
   "name": "python",
   "nbconvert_exporter": "python",
   "pygments_lexer": "ipython3",
   "version": "3.11.8"
  }
 },
 "nbformat": 4,
 "nbformat_minor": 5
}
